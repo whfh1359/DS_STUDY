{
 "cells": [
  {
   "cell_type": "markdown",
   "metadata": {},
   "source": [
    "# 04. Self Oil Station Price Analysis"
   ]
  },
  {
   "cell_type": "code",
   "execution_count": 1,
   "metadata": {},
   "outputs": [
    {
     "name": "stdout",
     "output_type": "stream",
     "text": [
      "Requirement already satisfied: selenium in c:\\users\\whfh1\\anaconda3\\lib\\site-packages (3.141.0)\n",
      "Requirement already satisfied: urllib3 in c:\\users\\whfh1\\anaconda3\\lib\\site-packages (from selenium) (1.24.2)\n"
     ]
    }
   ],
   "source": [
    "!pip install selenium"
   ]
  },
  {
   "cell_type": "code",
   "execution_count": 2,
   "metadata": {},
   "outputs": [],
   "source": [
    "from selenium import webdriver"
   ]
  },
  {
   "cell_type": "code",
   "execution_count": 3,
   "metadata": {},
   "outputs": [],
   "source": [
    "driver = webdriver.Chrome(\"../driver/chromedriver\")\n",
    "driver.get('https://pinkwink.kr/')"
   ]
  },
  {
   "cell_type": "markdown",
   "metadata": {},
   "source": [
    "### 스크롤 가능한 높이"
   ]
  },
  {
   "cell_type": "code",
   "execution_count": 4,
   "metadata": {},
   "outputs": [
    {
     "data": {
      "text/plain": [
       "2216"
      ]
     },
     "execution_count": 4,
     "metadata": {},
     "output_type": "execute_result"
    }
   ],
   "source": [
    "last_height = driver.execute_script(\"return document.body.scrollHeight\")\n",
    "last_height"
   ]
  },
  {
   "cell_type": "markdown",
   "metadata": {},
   "source": [
    "### 화면 스크롤"
   ]
  },
  {
   "cell_type": "code",
   "execution_count": 5,
   "metadata": {},
   "outputs": [],
   "source": [
    "driver.execute_script(\"window.scrollTo(0, document.body.scrollHeight);\")"
   ]
  },
  {
   "cell_type": "markdown",
   "metadata": {},
   "source": [
    "### 화면 스크롤 상단 이동"
   ]
  },
  {
   "cell_type": "code",
   "execution_count": 6,
   "metadata": {},
   "outputs": [],
   "source": [
    "driver.execute_script(\"window.scrollTo(0,0);\")"
   ]
  },
  {
   "cell_type": "markdown",
   "metadata": {},
   "source": [
    "### 스크린샷"
   ]
  },
  {
   "cell_type": "code",
   "execution_count": 7,
   "metadata": {},
   "outputs": [
    {
     "data": {
      "text/plain": [
       "True"
      ]
     },
     "execution_count": 7,
     "metadata": {},
     "output_type": "execute_result"
    }
   ],
   "source": [
    "driver.save_screenshot(\"./last_height.png\")"
   ]
  },
  {
   "cell_type": "markdown",
   "metadata": {},
   "source": [
    "### xpath 지점까지 스크롤 하는 코드"
   ]
  },
  {
   "cell_type": "code",
   "execution_count": 8,
   "metadata": {},
   "outputs": [],
   "source": [
    "from selenium.webdriver import ActionChains\n",
    "\n",
    "some_tag = driver.find_element_by_xpath('''//*[@id=\"paging\"]/ul''')\n",
    "\n",
    "action = ActionChains(driver)\n",
    "action.move_to_element(some_tag).perform()"
   ]
  },
  {
   "cell_type": "markdown",
   "metadata": {},
   "source": [
    "### id로 찾기 + 입력창에 글자 넣기"
   ]
  },
  {
   "cell_type": "code",
   "execution_count": 19,
   "metadata": {},
   "outputs": [],
   "source": [
    "some_tag = driver.find_element_by_id('''gsc-i-id1''')\n",
    "some_tag.send_keys('python')"
   ]
  },
  {
   "cell_type": "markdown",
   "metadata": {},
   "source": [
    "### 브라우저 창 크기 조절\n",
    "- 현재 보이는 화면에서만 액션을 취할 수 있다."
   ]
  },
  {
   "cell_type": "code",
   "execution_count": 10,
   "metadata": {},
   "outputs": [
    {
     "data": {
      "text/plain": [
       "{'width': 1051, 'height': 806}"
      ]
     },
     "execution_count": 10,
     "metadata": {},
     "output_type": "execute_result"
    }
   ],
   "source": [
    "driver.get_window_size()"
   ]
  },
  {
   "cell_type": "code",
   "execution_count": 11,
   "metadata": {},
   "outputs": [],
   "source": [
    "#driver.set_window_size(1050, 805)"
   ]
  },
  {
   "cell_type": "markdown",
   "metadata": {},
   "source": [
    "### 화면 최대화"
   ]
  },
  {
   "cell_type": "code",
   "execution_count": 12,
   "metadata": {},
   "outputs": [],
   "source": [
    "#driver.maximize_window()"
   ]
  },
  {
   "cell_type": "markdown",
   "metadata": {},
   "source": [
    "### 화면 최소화"
   ]
  },
  {
   "cell_type": "code",
   "execution_count": 13,
   "metadata": {},
   "outputs": [],
   "source": [
    "driver.minimize_window()"
   ]
  },
  {
   "cell_type": "markdown",
   "metadata": {},
   "source": [
    "### 새로 입력하면 입력창에 기존 글자 뒤에 추가로 붙는다"
   ]
  },
  {
   "cell_type": "code",
   "execution_count": 14,
   "metadata": {},
   "outputs": [],
   "source": [
    "#some_tag.send_keys(\"python\")\\\n",
    "#some_tag.clear() #검색어 초기화"
   ]
  },
  {
   "cell_type": "markdown",
   "metadata": {},
   "source": [
    "### 버튼 클릭 실행"
   ]
  },
  {
   "cell_type": "markdown",
   "metadata": {},
   "source": [
    "## Xpath\n",
    "\n",
    "- // : 최상위 엘리먼트\n",
    "- * : 자손 태그 검색 => div form #띄어쓰기=자손태그검색\n",
    "- / : 자식 태그 검색 => div > form # 꺽쇠=자식태그검색\n",
    "- td[2] : td 태그 중에서 2번재 태그를 선택 => td:nth_child(2)\n",
    "\n",
    "    "
   ]
  },
  {
   "cell_type": "markdown",
   "metadata": {},
   "source": [
    "## find_element\n",
    "\n",
    "- find_element_by_css_selector => find, select_one\n",
    "- find_elements_by_css_selector => find_all, select"
   ]
  },
  {
   "cell_type": "code",
   "execution_count": 15,
   "metadata": {},
   "outputs": [],
   "source": [
    "xpath = '''//*[@id=\"___gcse_0\"]/div/form/table/tbody/tr/td[2]/button'''\n",
    "some_tag = driver.find_element_by_xpath(xpath).click()"
   ]
  },
  {
   "cell_type": "code",
   "execution_count": 20,
   "metadata": {},
   "outputs": [],
   "source": [
    "# 같은 코드\n",
    "css = \"#___gcse_0> div> form > table > tbody > tr > td:nth-child(2) > button\"\n",
    "some_tag = driver.find_element_by_css_selector(css).click()"
   ]
  },
  {
   "cell_type": "markdown",
   "metadata": {},
   "source": [
    "### 현재 화면의 html코드 가져오기"
   ]
  },
  {
   "cell_type": "code",
   "execution_count": 21,
   "metadata": {},
   "outputs": [],
   "source": [
    "from bs4 import BeautifulSoup\n",
    "req = driver.page_source\n",
    "soup = BeautifulSoup(req, 'html.parser')"
   ]
  },
  {
   "cell_type": "markdown",
   "metadata": {},
   "source": [
    "### 광고를 제외한 검색 결과가 나타나는 태그를 찾거나 검색결과 하나하나를 의미하는 태그를 찾을 수 있음"
   ]
  },
  {
   "cell_type": "code",
   "execution_count": 22,
   "metadata": {},
   "outputs": [
    {
     "data": {
      "text/plain": [
       "<div class=\"gsc-webResult gsc-result\"><div class=\"gs-webResult gs-result\"><div class=\"gsc-thumbnail-inside\"><div class=\"gs-title\"><a class=\"gs-title\" data-ctorig=\"https://pinkwink.kr/1221\" data-cturl=\"https://www.google.com/url?client=internal-element-cse&amp;cx=partner-pub-2982459700139266:1067827452&amp;q=https://pinkwink.kr/1221&amp;sa=U&amp;ved=2ahUKEwij5r6--MvzAhUUJaYKHQ_PCQwQFnoECAgQAQ&amp;usg=AOvVaw1TX5yQ4ElnYjqS-8rabZ8x\" dir=\"ltr\" href=\"https://pinkwink.kr/1221\" target=\"_blank\">PinkWink 새 책, 누구나 파이썬 Python을 또 출판했습니다. - PinkWink</a></div></div><div class=\"gsc-url-top\"><div class=\"gs-bidi-start-align gs-visibleUrl gs-visibleUrl-short\" dir=\"ltr\">pinkwink.kr</div><div class=\"gs-bidi-start-align gs-visibleUrl gs-visibleUrl-long\" dir=\"ltr\" style=\"word-break:break-all;\">https://pinkwink.kr/1221</div><div class=\"gs-bidi-start-align gs-visibleUrl gs-visibleUrl-breadcrumb\"><span>PinkWink</span><span> › ...</span></div></div><div class=\"gsc-table-result\"><div class=\"gsc-table-cell-thumbnail gsc-thumbnail\"><div class=\"gs-image-box gs-web-image-box gs-web-image-box-landscape\"><a class=\"gs-image\" data-ctorig=\"https://pinkwink.kr/1221\" data-cturl=\"https://www.google.com/url?client=internal-element-cse&amp;cx=partner-pub-2982459700139266:1067827452&amp;q=https://pinkwink.kr/1221&amp;sa=U&amp;ved=2ahUKEwij5r6--MvzAhUUJaYKHQ_PCQwQFnoECAgQAQ&amp;usg=AOvVaw1TX5yQ4ElnYjqS-8rabZ8x\" href=\"https://pinkwink.kr/1221\" target=\"_blank\"><img alt=\"미리보기 이미지\" class=\"gs-image\" src=\"https://encrypted-tbn1.gstatic.com/images?q=tbn:ANd9GcTUI4uBBG6zRFyzDsXeJJdbPHFzd0BwDdmWh28TO5Ivz5QmiYUHAMEt4DY\"/></a></div></div><div class=\"gsc-table-cell-snippet-close\"><div class=\"gs-title gsc-table-cell-thumbnail gsc-thumbnail-left\"><a class=\"gs-title\" data-ctorig=\"https://pinkwink.kr/1221\" data-cturl=\"https://www.google.com/url?client=internal-element-cse&amp;cx=partner-pub-2982459700139266:1067827452&amp;q=https://pinkwink.kr/1221&amp;sa=U&amp;ved=2ahUKEwij5r6--MvzAhUUJaYKHQ_PCQwQFnoECAgQAQ&amp;usg=AOvVaw1TX5yQ4ElnYjqS-8rabZ8x\" dir=\"ltr\" href=\"https://pinkwink.kr/1221\" target=\"_blank\">PinkWink 새 책, 누구나 파이썬 Python을 또 출판했습니다. - PinkWink</a></div><div class=\"gs-bidi-start-align gs-snippet\" dir=\"ltr\">무대뽀로 <b>파이썬</b>으로 데이터를 다루는 내용을 엮어서 <b>파이썬</b>으로 데이터 주무르기라는 책을 인생 처음으로 출판했었습니다.</div><div class=\"gsc-url-bottom\"><div class=\"gs-bidi-start-align gs-visibleUrl gs-visibleUrl-short\" dir=\"ltr\">pinkwink.kr</div><div class=\"gs-bidi-start-align gs-visibleUrl gs-visibleUrl-long\" dir=\"ltr\" style=\"word-break:break-all;\">https://pinkwink.kr/1221</div></div><div class=\"gs-richsnippet-box\" style=\"display: none;\"></div><div class=\"gs-per-result-labels\" url=\"https://pinkwink.kr/1221\"></div></div></div></div><div class=\"gs-watermark\"><a class=\"gs-watermark\" href=\"http://code.google.com/apis/ajaxsearch/faq.html\" target=\"_blank\">Google에서 발췌 - 10/2021</a></div></div>"
      ]
     },
     "execution_count": 22,
     "metadata": {},
     "output_type": "execute_result"
    }
   ],
   "source": [
    "result = soup.find_all('div', 'gsc-webResult gsc-result') #div 태그의 'gsc-webResult' 클래스명 찾기\n",
    "result[0]"
   ]
  },
  {
   "cell_type": "code",
   "execution_count": 23,
   "metadata": {},
   "outputs": [],
   "source": [
    "driver.back()"
   ]
  },
  {
   "cell_type": "code",
   "execution_count": 24,
   "metadata": {},
   "outputs": [],
   "source": [
    "driver.forward()"
   ]
  },
  {
   "cell_type": "code",
   "execution_count": 25,
   "metadata": {},
   "outputs": [],
   "source": [
    "#driver.page_source"
   ]
  },
  {
   "cell_type": "code",
   "execution_count": 26,
   "metadata": {},
   "outputs": [
    {
     "data": {
      "text/plain": [
       "\"PinkWink Blog 검색결과 약 1,950개(0.40초)PinkWink 새 책, 누구나 파이썬 Python을 또 출판했습니다. - PinkWinkpinkwink.krhttps://pinkwink.kr/1221PinkWink › ...PinkWink 새 책, 누구나 파이썬 Python을 또 출판했습니다. - PinkWink무대뽀로 파이썬으로 데이터를 다루는 내용을 엮어서 파이썬으로 데이터 주무르기라는 책을 인생 처음으로 출판했었습니다.pinkwink.krhttps://pinkwink.kr/1221Google에서 발췌 - 10/2021'Software/Python' 카테고리의 글 목록 - PinkWinkpinkwink.krhttps://pinkwink.kr/category/Software/PythonPinkWink › category › Software › Python'Software/Python' 카테고리의 글 목록 - PinkWink'Software/Python' 카테고리의 글 목록. ... Python에서 두 개 이상의 자료를 묶는 zip을 이용해서 LIST형을 DICT 형으로 변환하기. Python으로 데이터를 정리하다보면\\xa0...pinkwink.krhttps://pinkwink.kr/category/Software/PythonGoogle에서 발췌 - 10/2021로보티즈의 다이나믹셀 XM 시리즈 Python으로 살짝 구동 ... - PinkWinkpinkwink.krhttps://pinkwink.kr/1038PinkWink › ...로보티즈의 다이나믹셀 XM 시리즈 Python으로 살짝 구동 ... - PinkWink바로 얼마전에 로보티즈의 다이나믹셀 이야기를 했는데요. 내침김에 좀 더 찾아보니 Python이나 MATLAB으로 접근할 수 있도록 Software SDK를 배포\\xa0...pinkwink.krhttps://pinkwink.kr/1038Google에서 발췌 - 10/2021Python에서 Open Dynamics Engine을 이용한 Two Link ... - PinkWinkpinkwink.krhttps://pinkwink.kr/687PinkWink › ...Python에서 Open Dynamics Engine을 이용한 Two Link ... - PinkWinkPython에서 얼머전에 Runge Kutta를 직접 코드로 구현하고 pygame 모듈을 이용해서 시뮬레이션을 애니메이션처럼 보이는 예제를 한번 다루었\\xa0...pinkwink.krhttps://pinkwink.kr/687Google에서 발췌 - 10/2021Python 함수 def에서 유용하게 사용할 수 있는 **kwargs ... - PinkWinkpinkwink.krhttps://pinkwink.kr/705PinkWink › ...Python 함수 def에서 유용하게 사용할 수 있는 **kwargs ... - PinkWink요즘은 좀 다시 살짝 gloomy 합니다. 분명 최근 제가 수행한 (저 개인한테는 아주아주 큰) 프로젝트를 거의 끝냈구요. 나름대로 성능도 확보했다고\\xa0...pinkwink.krhttps://pinkwink.kr/705Google에서 발췌 - 10/2021Python으로 구현해 보는 Band Stop Filter - PinkWinkpinkwink.krhttps://pinkwink.kr/937PinkWink › ...Python으로 구현해 보는 Band Stop Filter - PinkWink어쩌다 보니 Python으로 필터를 구현하는 법에 대해 꽤 많은 글을 적고 있네요^^. 그 시작은 아마, 1차 저역 통과 필터(1st order Low Pass\\xa0...pinkwink.krhttps://pinkwink.kr/937Google에서 발췌 - 10/2021Python - MS Window에서 실행파일 만들기 py2exe - PinkWinkpinkwink.krhttps://pinkwink.kr/568PinkWink › ...Python - MS Window에서 실행파일 만들기 py2exe - PinkWink장마가 좀 그쳤나요? 오늘은 그냥 덥네요... 딱 그 한마디... 더워요... 흑~~ 이렇게 더운날... 요즘 빠져있는 Python 설치하기 놀이를 또 올릴려구요\\xa0...pinkwink.krhttps://pinkwink.kr/568Google에서 발췌 - 10/2021Python으로 구현해보는 Band Pass Filter - PinkWinkpinkwink.krhttps://pinkwink.kr/934PinkWink › ...Python으로 구현해보는 Band Pass Filter - PinkWinkMATLAB에서 보통 많이 하는 필터 설계나 확인을 Python으로도 할 수 있다는 걸 살짝 보여줄려고 시작한 글이 이제 세 번째네요.pinkwink.krhttps://pinkwink.kr/934Google에서 발췌 - 10/2021Craig의 Robotics 3장 예제. PUMA 560 Python으로 ... - PinkWinkpinkwink.krhttps://pinkwink.kr/838PinkWink › ...Craig의 Robotics 3장 예제. PUMA 560 Python으로 ... - PinkWink그런걸 생각하면 참 잘 만들어진 로봇인듯합니다. {4}번 좌표계까지의 기구 구성 출처 : Introduction to Robotics 3rd Edition by Craig. PUMA560은 위\\xa0...pinkwink.krhttps://pinkwink.kr/838Google에서 발췌 - 10/2021Python에서 시스템의 운영체제 확인하기 - PinkWinkpinkwink.krhttps://pinkwink.kr/1002PinkWink › ...Python에서 시스템의 운영체제 확인하기 - PinkWink요즘.... 윈도우10과 우분투16.04와 Mac OS Sierra를 번갈아 사용하는 묘한 상황에 빠지다 보니~~~ python에서 시스템을 확인해야하는 코드가 필요\\xa0...pinkwink.krhttps://pinkwink.kr/1002Google에서 발췌 - 10/202112345678910검색Google에서 python 검색\""
      ]
     },
     "execution_count": 26,
     "metadata": {},
     "output_type": "execute_result"
    }
   ],
   "source": [
    "#e1 > div:nth-child(1) > a css selector 형태로 나타난다.\n",
    "elements = soup.select(\"#___gcse_0\")\n",
    "elements[0].text\n"
   ]
  },
  {
   "cell_type": "markdown",
   "metadata": {},
   "source": [
    "## 2. 셀프 주유소가 정말 저렴한가? - 데이터 확보하기 위한 작업\n",
    "- https://www.opinet.co.kr/searRgSelect.do\n",
    "- 사이트 구조 확인\n",
    "- 목표 데이터\n",
    "    - 브랜드\n",
    "    - 가격\n",
    "    - 셀프 주유 여부\n",
    "    - 위치"
   ]
  },
  {
   "cell_type": "markdown",
   "metadata": {},
   "source": [
    "## 3. 셀레니움으로 접근"
   ]
  },
  {
   "cell_type": "code",
   "execution_count": 36,
   "metadata": {},
   "outputs": [],
   "source": [
    "from selenium import webdriver"
   ]
  },
  {
   "cell_type": "code",
   "execution_count": 37,
   "metadata": {},
   "outputs": [],
   "source": [
    "url = \"https://www.opinet.co.kr/searRgSelect.do\"\n",
    "driver = webdriver.Chrome(\"../driver/chromedriver.exe\")\n",
    "driver.get(url)"
   ]
  },
  {
   "cell_type": "code",
   "execution_count": 38,
   "metadata": {},
   "outputs": [],
   "source": [
    "driver.get(url)"
   ]
  },
  {
   "cell_type": "markdown",
   "metadata": {},
   "source": [
    "- 문제\n",
    "    - 1. 해당 URL로 한번에 접근이 안된다.\n",
    "    - 2. 메인 페이지로 접속이 되고, 팝업창이 하나 나온다"
   ]
  },
  {
   "cell_type": "code",
   "execution_count": 39,
   "metadata": {},
   "outputs": [
    {
     "name": "stderr",
     "output_type": "stream",
     "text": [
      "C:\\Users\\whfh1\\Anaconda3\\lib\\site-packages\\ipykernel_launcher.py:1: DeprecationWarning: use driver.switch_to.window instead\n",
      "  \"\"\"Entry point for launching an IPython kernel.\n"
     ]
    }
   ],
   "source": [
    "driver.switch_to_window(driver.window_handles[-1])"
   ]
  },
  {
   "cell_type": "code",
   "execution_count": 40,
   "metadata": {},
   "outputs": [],
   "source": [
    "driver.close()"
   ]
  },
  {
   "cell_type": "code",
   "execution_count": 41,
   "metadata": {},
   "outputs": [
    {
     "name": "stderr",
     "output_type": "stream",
     "text": [
      "C:\\Users\\whfh1\\Anaconda3\\lib\\site-packages\\ipykernel_launcher.py:1: DeprecationWarning: use driver.switch_to.window instead\n",
      "  \"\"\"Entry point for launching an IPython kernel.\n"
     ]
    }
   ],
   "source": [
    "driver.switch_to_window(driver.window_handles[-1])"
   ]
  },
  {
   "cell_type": "code",
   "execution_count": 42,
   "metadata": {},
   "outputs": [],
   "source": [
    "driver.get(url)"
   ]
  },
  {
   "cell_type": "markdown",
   "metadata": {},
   "source": [
    "# 자동화 작업 진행"
   ]
  },
  {
   "cell_type": "code",
   "execution_count": 43,
   "metadata": {},
   "outputs": [],
   "source": [
    "import time\n",
    "\n",
    "def main_get():\n",
    "    url = \"https://www.opinet.co.kr/searRgSelect.do\"\n",
    "    driver = webdriver.Chrome(\"../driver/chromedriver.exe\")\n",
    "    driver.get(url)\n",
    "    time.sleep(3)\n",
    "    #팝업 창으로 전환\n",
    "    driver.switch_to_window(driver.window_handles[-1])\n",
    "    #팝업 창 닫아주기\n",
    "    driver.close()\n",
    "    time.sleep(3)\n",
    "    #메인화면 창으로 전환\n",
    "    driver.switch_to_window(driver.window_handles[-1])\n",
    "    #접근 URL 다시 요청\n",
    "    driver.get(url)"
   ]
  },
  {
   "cell_type": "code",
   "execution_count": null,
   "metadata": {},
   "outputs": [],
   "source": [
    "#driver.close()"
   ]
  },
  {
   "cell_type": "code",
   "execution_count": 44,
   "metadata": {},
   "outputs": [
    {
     "name": "stderr",
     "output_type": "stream",
     "text": [
      "C:\\Users\\whfh1\\Anaconda3\\lib\\site-packages\\ipykernel_launcher.py:9: DeprecationWarning: use driver.switch_to.window instead\n",
      "  if __name__ == '__main__':\n",
      "C:\\Users\\whfh1\\Anaconda3\\lib\\site-packages\\ipykernel_launcher.py:14: DeprecationWarning: use driver.switch_to.window instead\n",
      "  \n"
     ]
    }
   ],
   "source": [
    "main_get()"
   ]
  },
  {
   "cell_type": "code",
   "execution_count": 45,
   "metadata": {},
   "outputs": [
    {
     "data": {
      "text/plain": [
       "'            시/도\\n            \\n             \\n             \\n              서울\\n             \\n            \\n             \\n             \\n              부산\\n             \\n            \\n             \\n             \\n              대구\\n             \\n            \\n             \\n             \\n              인천\\n             \\n            \\n             \\n             \\n              광주\\n             \\n            \\n             \\n             \\n              대전\\n             \\n            \\n             \\n             \\n              울산\\n             \\n            \\n             \\n             \\n              세종\\n             \\n            \\n             \\n              경기\\n             \\n             \\n            \\n             \\n             \\n              강원\\n             \\n            \\n             \\n             \\n              충북\\n             \\n            \\n             \\n             \\n              충남\\n             \\n            \\n             \\n             \\n              전북\\n             \\n            \\n             \\n             \\n              전남\\n             \\n            \\n             \\n             \\n              경북\\n             \\n            \\n             \\n             \\n              경남\\n             \\n            \\n             \\n             \\n              제주\\n             \\n            \\n           '"
      ]
     },
     "execution_count": 45,
     "metadata": {},
     "output_type": "execute_result"
    }
   ],
   "source": [
    "sido_list_raw = driver.find_element_by_id(\"SIDO_NM0\")\n",
    "sido_list_raw.text"
   ]
  },
  {
   "cell_type": "code",
   "execution_count": 46,
   "metadata": {},
   "outputs": [
    {
     "data": {
      "text/plain": [
       "(18, '서울')"
      ]
     },
     "execution_count": 46,
     "metadata": {},
     "output_type": "execute_result"
    }
   ],
   "source": [
    "sido_list = sido_list_raw.find_elements_by_tag_name(\"option\")\n",
    "len(sido_list), sido_list[1].text"
   ]
  },
  {
   "cell_type": "code",
   "execution_count": 47,
   "metadata": {},
   "outputs": [
    {
     "data": {
      "text/plain": [
       "'서울특별시'"
      ]
     },
     "execution_count": 47,
     "metadata": {},
     "output_type": "execute_result"
    }
   ],
   "source": [
    "sido_list[1].get_attribute(\"value\")"
   ]
  },
  {
   "cell_type": "code",
   "execution_count": 48,
   "metadata": {},
   "outputs": [
    {
     "data": {
      "text/plain": [
       "['',\n",
       " '서울특별시',\n",
       " '부산광역시',\n",
       " '대구광역시',\n",
       " '인천광역시',\n",
       " '광주광역시',\n",
       " '대전광역시',\n",
       " '울산광역시',\n",
       " '세종특별자치시',\n",
       " '경기도',\n",
       " '강원도',\n",
       " '충청북도',\n",
       " '충청남도',\n",
       " '전라북도',\n",
       " '전라남도',\n",
       " '경상북도',\n",
       " '경상남도',\n",
       " '제주특별자치도']"
      ]
     },
     "execution_count": 48,
     "metadata": {},
     "output_type": "execute_result"
    }
   ],
   "source": [
    "sido_names = []\n",
    "\n",
    "for option in sido_list:\n",
    "    sido_names.append(option.get_attribute(\"value\"))\n",
    "sido_names"
   ]
  },
  {
   "cell_type": "code",
   "execution_count": 49,
   "metadata": {},
   "outputs": [
    {
     "data": {
      "text/plain": [
       "['서울특별시',\n",
       " '부산광역시',\n",
       " '대구광역시',\n",
       " '인천광역시',\n",
       " '광주광역시',\n",
       " '대전광역시',\n",
       " '울산광역시',\n",
       " '세종특별자치시',\n",
       " '경기도',\n",
       " '강원도',\n",
       " '충청북도',\n",
       " '충청남도',\n",
       " '전라북도',\n",
       " '전라남도',\n",
       " '경상북도',\n",
       " '경상남도',\n",
       " '제주특별자치도']"
      ]
     },
     "execution_count": 49,
     "metadata": {},
     "output_type": "execute_result"
    }
   ],
   "source": [
    "sido_names = sido_names[1:]\n",
    "sido_names "
   ]
  },
  {
   "cell_type": "code",
   "execution_count": 50,
   "metadata": {},
   "outputs": [],
   "source": [
    "sido_list_raw.send_keys(sido_names[0])"
   ]
  },
  {
   "cell_type": "code",
   "execution_count": 51,
   "metadata": {},
   "outputs": [
    {
     "data": {
      "text/plain": [
       "(['강남구', '강동구', '강북구', '강서구', '관악구'], 25)"
      ]
     },
     "execution_count": 51,
     "metadata": {},
     "output_type": "execute_result"
    }
   ],
   "source": [
    "# 구\n",
    "\n",
    "gu_list_raw = driver.find_element_by_id(\"SIGUNGU_NM0\")\n",
    "gu_list = gu_list_raw.find_elements_by_tag_name(\"option\")\n",
    "\n",
    "gu_names = [option.get_attribute(\"value\") for option in gu_list]\n",
    "gu_names = gu_names[1:]\n",
    "gu_names[:5], len(gu_names)"
   ]
  },
  {
   "cell_type": "code",
   "execution_count": 52,
   "metadata": {},
   "outputs": [],
   "source": [
    "gu_list_raw.send_keys(gu_names[15])"
   ]
  },
  {
   "cell_type": "code",
   "execution_count": 53,
   "metadata": {},
   "outputs": [],
   "source": [
    "# 엑셀 저장\n",
    "\n",
    "driver.find_element_by_css_selector(\"#glopopd_excel\").click() #id"
   ]
  },
  {
   "cell_type": "code",
   "execution_count": 54,
   "metadata": {},
   "outputs": [],
   "source": [
    "# 같은 방법 2\n",
    "driver.find_element_by_xpath('//*[@id=\"glopopd_excel\"]').click()"
   ]
  },
  {
   "cell_type": "code",
   "execution_count": null,
   "metadata": {},
   "outputs": [],
   "source": [
    "# 같은 방법 3\n",
    "element_get_excel = driver.find_element_by_id(\"glopopd_excel\")\n",
    "element_get_excel.click()"
   ]
  },
  {
   "cell_type": "code",
   "execution_count": null,
   "metadata": {},
   "outputs": [],
   "source": [
    "import time\n",
    "from tqdm import tqdm_notebook\n",
    "\n",
    "for gu in tqdm_notebook(gu_names):\n",
    "    element = driver.find_element_by_id(\"SIGUNGU_NM0\")\n",
    "    element.send_keys(gu)\n",
    "    time.sleep(3)\n",
    "    \n",
    "    element_get_excel = driver.find_element_by_xpath('//*[@id=\"glopopd_excel\"]').click()\n",
    "    time.sleep(3)"
   ]
  },
  {
   "cell_type": "markdown",
   "metadata": {},
   "source": [
    "# 4. 데이터 정리하기"
   ]
  },
  {
   "cell_type": "code",
   "execution_count": 55,
   "metadata": {},
   "outputs": [],
   "source": [
    "import pandas as pd\n",
    "from glob import glob"
   ]
  },
  {
   "cell_type": "code",
   "execution_count": 56,
   "metadata": {},
   "outputs": [
    {
     "data": {
      "text/plain": [
       "['../data\\\\지역_위치별(주유소) (10).xls',\n",
       " '../data\\\\지역_위치별(주유소) (11).xls',\n",
       " '../data\\\\지역_위치별(주유소) (12).xls',\n",
       " '../data\\\\지역_위치별(주유소) (13).xls',\n",
       " '../data\\\\지역_위치별(주유소) (14).xls',\n",
       " '../data\\\\지역_위치별(주유소) (15).xls',\n",
       " '../data\\\\지역_위치별(주유소) (16).xls',\n",
       " '../data\\\\지역_위치별(주유소) (17).xls',\n",
       " '../data\\\\지역_위치별(주유소) (18).xls',\n",
       " '../data\\\\지역_위치별(주유소) (19).xls',\n",
       " '../data\\\\지역_위치별(주유소) (20).xls',\n",
       " '../data\\\\지역_위치별(주유소) (21).xls',\n",
       " '../data\\\\지역_위치별(주유소) (22).xls',\n",
       " '../data\\\\지역_위치별(주유소) (23).xls',\n",
       " '../data\\\\지역_위치별(주유소) (24).xls',\n",
       " '../data\\\\지역_위치별(주유소) (25).xls',\n",
       " '../data\\\\지역_위치별(주유소) (26).xls',\n",
       " '../data\\\\지역_위치별(주유소) (27).xls',\n",
       " '../data\\\\지역_위치별(주유소) (28).xls',\n",
       " '../data\\\\지역_위치별(주유소) (29).xls',\n",
       " '../data\\\\지역_위치별(주유소) (5).xls',\n",
       " '../data\\\\지역_위치별(주유소) (6).xls',\n",
       " '../data\\\\지역_위치별(주유소) (7).xls',\n",
       " '../data\\\\지역_위치별(주유소) (8).xls',\n",
       " '../data\\\\지역_위치별(주유소) (9).xls']"
      ]
     },
     "execution_count": 56,
     "metadata": {},
     "output_type": "execute_result"
    }
   ],
   "source": [
    "# 파일 목록 한번에 가져요오기\n",
    "stations_files = glob(\"../data/지역_*.xls\")\n",
    "stations_files"
   ]
  },
  {
   "cell_type": "code",
   "execution_count": 57,
   "metadata": {},
   "outputs": [
    {
     "data": {
      "text/html": [
       "<div>\n",
       "<style scoped>\n",
       "    .dataframe tbody tr th:only-of-type {\n",
       "        vertical-align: middle;\n",
       "    }\n",
       "\n",
       "    .dataframe tbody tr th {\n",
       "        vertical-align: top;\n",
       "    }\n",
       "\n",
       "    .dataframe thead th {\n",
       "        text-align: right;\n",
       "    }\n",
       "</style>\n",
       "<table border=\"1\" class=\"dataframe\">\n",
       "  <thead>\n",
       "    <tr style=\"text-align: right;\">\n",
       "      <th></th>\n",
       "      <th>지역</th>\n",
       "      <th>상호</th>\n",
       "      <th>주소</th>\n",
       "      <th>상표</th>\n",
       "      <th>전화번호</th>\n",
       "      <th>셀프여부</th>\n",
       "      <th>고급휘발유</th>\n",
       "      <th>휘발유</th>\n",
       "      <th>경유</th>\n",
       "      <th>실내등유</th>\n",
       "    </tr>\n",
       "  </thead>\n",
       "  <tbody>\n",
       "    <tr>\n",
       "      <th>14</th>\n",
       "      <td>서울특별시</td>\n",
       "      <td>강평주유소</td>\n",
       "      <td>서울 광진구 아차산로 616 (광장동)</td>\n",
       "      <td>SK에너지</td>\n",
       "      <td>02-2201-0736</td>\n",
       "      <td>N</td>\n",
       "      <td>1918</td>\n",
       "      <td>1758</td>\n",
       "      <td>1558</td>\n",
       "      <td>1100</td>\n",
       "    </tr>\n",
       "    <tr>\n",
       "      <th>15</th>\n",
       "      <td>서울특별시</td>\n",
       "      <td>구의스타주유소</td>\n",
       "      <td>서울 광진구 자양로 103</td>\n",
       "      <td>GS칼텍스</td>\n",
       "      <td>02-457-4071</td>\n",
       "      <td>N</td>\n",
       "      <td>-</td>\n",
       "      <td>-</td>\n",
       "      <td>-</td>\n",
       "      <td>-</td>\n",
       "    </tr>\n",
       "  </tbody>\n",
       "</table>\n",
       "</div>"
      ],
      "text/plain": [
       "       지역       상호                     주소     상표          전화번호 셀프여부 고급휘발유  \\\n",
       "14  서울특별시    강평주유소  서울 광진구 아차산로 616 (광장동)  SK에너지  02-2201-0736    N  1918   \n",
       "15  서울특별시  구의스타주유소         서울 광진구 자양로 103  GS칼텍스   02-457-4071    N     -   \n",
       "\n",
       "     휘발유    경유  실내등유  \n",
       "14  1758  1558  1100  \n",
       "15     -     -     -  "
      ]
     },
     "execution_count": 57,
     "metadata": {},
     "output_type": "execute_result"
    }
   ],
   "source": [
    "# 하나만 읽기\n",
    "tmp = pd.read_excel(stations_files[0], header = 2)\n",
    "tmp.tail(2)"
   ]
  },
  {
   "cell_type": "code",
   "execution_count": 58,
   "metadata": {},
   "outputs": [],
   "source": [
    "tmp_raw = []\n",
    "\n",
    "for file_name in stations_files:\n",
    "    tmp = pd.read_excel(file_name, header = 2 )\n",
    "    tmp_raw.append(tmp)"
   ]
  },
  {
   "cell_type": "code",
   "execution_count": 59,
   "metadata": {},
   "outputs": [
    {
     "data": {
      "text/plain": [
       "[       지역                   상호                     주소      상표          전화번호  \\\n",
       " 0   서울특별시              (주)창원CW  서울 광진구 광나루로 460 (화양동)  현대오일뱅크  02-3436-1112   \n",
       " 1   서울특별시    현대오일뱅크(주)직영 능동주유소   서울 광진구 천호대로 584 (능동)  현대오일뱅크   02-452-7723   \n",
       " 2   서울특별시       정해네트웍스(주)일진주유소   서울 광진구 동일로 413 (중곡동)   S-OIL   02-461-5152   \n",
       " 3   서울특별시                태양주유소   서울 광진구 동일로 345 (중곡동)  현대오일뱅크   02-464-5141   \n",
       " 4   서울특별시                대원주유소  서울 광진구 용마산로 122 (중곡동)   S-OIL   02-444-1666   \n",
       " 5   서울특별시             (주)장수주유소   서울 광진구 동일로 266 (군자동)   SK에너지   02-498-1981   \n",
       " 6   서울특별시                용마주유소   서울 광진구 용마산로 68 (중곡동)   GS칼텍스   02-456-1884   \n",
       " 7   서울특별시      현대오일뱅크(주) 중원주유소   서울 광진구 동일로 398 (중곡동)  현대오일뱅크   02-467-2410   \n",
       " 8   서울특별시  현대오일뱅크(주)직영 중곡현대주유소   서울 광진구 동일로 435 (중곡동)  현대오일뱅크   02-497-5151   \n",
       " 9   서울특별시    현대오일뱅크㈜직영 장호셀프주유소     서울 광진구 자양로37 (자양동)  현대오일뱅크   02-447-9796   \n",
       " 10  서울특별시               동서울주유소   서울 광진구 강변역로 10 (구의동)   GS칼텍스   02-444-3910   \n",
       " 11  서울특별시         대성산업(주)구의주유소  서울 광진구 광나루로 570 (구의동)   GS칼텍스   02-457-0638   \n",
       " 12  서울특별시                삼호주유소  서울 광진구 천호대로 809 (광장동)   S-OIL   02-455-7200   \n",
       " 13  서울특별시                자양주유소  서울 광진구 아차산로 298 (자양동)   SK에너지   02-457-7600   \n",
       " 14  서울특별시                강평주유소  서울 광진구 아차산로 616 (광장동)   SK에너지  02-2201-0736   \n",
       " 15  서울특별시              구의스타주유소         서울 광진구 자양로 103   GS칼텍스   02-457-4071   \n",
       " \n",
       "    셀프여부 고급휘발유   휘발유    경유  실내등유  \n",
       " 0     Y     -  1649  1439     -  \n",
       " 1     Y  1879  1654  1444  1000  \n",
       " 2     Y  1827  1667  1447     -  \n",
       " 3     N     -  1675  1455     -  \n",
       " 4     N     -  1677  1477     -  \n",
       " 5     N     -  1678  1468     -  \n",
       " 6     N     -  1683  1475     -  \n",
       " 7     N  1879  1684  1469  1100  \n",
       " 8     N  1879  1684  1469     -  \n",
       " 9     Y     -  1699  1499     -  \n",
       " 10    N     -  1717  1517  1100  \n",
       " 11    N     -  1719  1519     -  \n",
       " 12    Y  1898  1728  1528     -  \n",
       " 13    N  1958  1758  1558     -  \n",
       " 14    N  1918  1758  1558  1100  \n",
       " 15    N     -     -     -     -  ,\n",
       "        지역                  상호                       주소      상표          전화번호  \\\n",
       " 0   서울특별시               신성주유소  서울 구로구 구로동로 187 (구로제2동)  현대오일뱅크   02-866-5189   \n",
       " 1   서울특별시      (주)한미석유구로그린주유소    서울 구로구 구로중앙로 76 (구로동)   GS칼텍스   02-861-5189   \n",
       " 2   서울특별시               구인주유소     서울 구로구 경인로 558 (구로동)   SK에너지  02-2677-5010   \n",
       " 3   서울특별시             SK구로주유소      서울 구로구 구일로 94 (구로동)   SK에너지   02-868-5758   \n",
       " 4   서울특별시       서울석유(주)풀페이주유소      서울 구로구 경인로 41 (온수동)   SK에너지  02-2613-7708   \n",
       " 5   서울특별시             처음처럼주유소     서울 구로구 오리로 1299 (궁동)   S-OIL  02-2611-5051   \n",
       " 6   서울특별시       극동유화(주) 항동주유소    서울 구로구 서해안로 2154 (항동)   S-OIL  02-2611-1113   \n",
       " 7   서울특별시             대원셀프주유소             서울 구로구 개봉로 7  현대오일뱅크  02-2612-3880   \n",
       " 8   서울특별시               시몬주유소           서울 구로구 부일로 871   S-OIL  02-2689-5185   \n",
       " 9   서울특별시    현대오일뱅크㈜직영 신오류주유소     서울 구로구 경인로 161 (오류동)  현대오일뱅크  02-2687-4186   \n",
       " 10  서울특별시              JHC에너지          서울 구로구 시흥대로 539  현대오일뱅크   02-866-9553   \n",
       " 11  서울특별시               개봉주유소     서울 구로구 고척로 115 (개봉동)  현대오일뱅크  02-2618-5145   \n",
       " 12  서울특별시       대성산업(주)디큐브주유소    서울 구로구 경인로 650 (신도림동)   GS칼텍스  02-2633-7188   \n",
       " 13  서울특별시             근린공원주유소     서울 구로구 고척로 199 (고척동)   S-OIL  02-2066-3700   \n",
       " 14  서울특별시               정은주유소     서울 구로구 경인로 407 (고척동)  현대오일뱅크  02-2611-5183   \n",
       " 15  서울특별시   현대오일뱅크㈜직영 구로셀프주유소          서울 구로구 시흥대로 531  현대오일뱅크   02-856-1135   \n",
       " 16  서울특별시               동선주유소     서울 구로구 경인로 150 (오류동)   GS칼텍스  02-2683-1126   \n",
       " 17  서울특별시   SK에너지(주)직영 개봉동주유소     서울 구로구 경인로 290 (개봉동)   SK에너지  02-2616-5189   \n",
       " 18  서울특별시               영진주유소    서울 구로구 구로동로 20 (가리봉동)   S-OIL   02-861-6625   \n",
       " 19  서울특별시  현대오일뱅크(주)직영 신구로주유소    서울 구로구 가마산로 293 (구로동)  현대오일뱅크   02-859-0051   \n",
       " 20  서울특별시               동아주유소      서울 구로구 도림로 91 (구로동)   S-OIL   02-855-1282   \n",
       " 21  서울특별시               구로주유소    서울 구로구 구로동로 137 (구로동)   GS칼텍스   02-587-1251   \n",
       " \n",
       "    셀프여부 고급휘발유   휘발유    경유  실내등유  \n",
       " 0     Y     -  1619  1419  1200  \n",
       " 1     Y     -  1625  1425     -  \n",
       " 2     N     -  1627  1427  1200  \n",
       " 3     N     -  1628  1428  1118  \n",
       " 4     N     -  1629  1425     -  \n",
       " 5     N     -  1639  1429   925  \n",
       " 6     Y     -  1639  1439     -  \n",
       " 7     Y     -  1647  1447     -  \n",
       " 8     N     -  1657  1457     -  \n",
       " 9     N  1908  1669  1479  1100  \n",
       " 10    N     -  1678  1468     -  \n",
       " 11    Y     -  1678  1468     -  \n",
       " 12    N  1887  1679  1429     -  \n",
       " 13    N     -  1687  1477  1100  \n",
       " 14    N     -  1687  1457  1100  \n",
       " 15    Y  1888  1688  1478     -  \n",
       " 16    N     -  1696  1496     -  \n",
       " 17    N     -  1719  1499     -  \n",
       " 18    N     -  1726  1496     -  \n",
       " 19    N  1888  1748  1539     -  \n",
       " 20    N     -  1898  1598  1200  \n",
       " 21    N     -  2198  1978  1376  ]"
      ]
     },
     "execution_count": 59,
     "metadata": {},
     "output_type": "execute_result"
    }
   ],
   "source": [
    "tmp_raw[:2]"
   ]
  },
  {
   "cell_type": "markdown",
   "metadata": {},
   "source": [
    "### pd.concat 사용 이유 : 형식이 동일하고 연달아 붙이기만 하면 될때는 concat"
   ]
  },
  {
   "cell_type": "code",
   "execution_count": 60,
   "metadata": {},
   "outputs": [
    {
     "data": {
      "text/html": [
       "<div>\n",
       "<style scoped>\n",
       "    .dataframe tbody tr th:only-of-type {\n",
       "        vertical-align: middle;\n",
       "    }\n",
       "\n",
       "    .dataframe tbody tr th {\n",
       "        vertical-align: top;\n",
       "    }\n",
       "\n",
       "    .dataframe thead th {\n",
       "        text-align: right;\n",
       "    }\n",
       "</style>\n",
       "<table border=\"1\" class=\"dataframe\">\n",
       "  <thead>\n",
       "    <tr style=\"text-align: right;\">\n",
       "      <th></th>\n",
       "      <th>지역</th>\n",
       "      <th>상호</th>\n",
       "      <th>주소</th>\n",
       "      <th>상표</th>\n",
       "      <th>전화번호</th>\n",
       "      <th>셀프여부</th>\n",
       "      <th>고급휘발유</th>\n",
       "      <th>휘발유</th>\n",
       "      <th>경유</th>\n",
       "      <th>실내등유</th>\n",
       "    </tr>\n",
       "  </thead>\n",
       "  <tbody>\n",
       "    <tr>\n",
       "      <th>0</th>\n",
       "      <td>서울특별시</td>\n",
       "      <td>(주)창원CW</td>\n",
       "      <td>서울 광진구 광나루로 460 (화양동)</td>\n",
       "      <td>현대오일뱅크</td>\n",
       "      <td>02-3436-1112</td>\n",
       "      <td>Y</td>\n",
       "      <td>-</td>\n",
       "      <td>1649</td>\n",
       "      <td>1439</td>\n",
       "      <td>-</td>\n",
       "    </tr>\n",
       "    <tr>\n",
       "      <th>1</th>\n",
       "      <td>서울특별시</td>\n",
       "      <td>현대오일뱅크(주)직영 능동주유소</td>\n",
       "      <td>서울 광진구 천호대로 584 (능동)</td>\n",
       "      <td>현대오일뱅크</td>\n",
       "      <td>02-452-7723</td>\n",
       "      <td>Y</td>\n",
       "      <td>1879</td>\n",
       "      <td>1654</td>\n",
       "      <td>1444</td>\n",
       "      <td>1000</td>\n",
       "    </tr>\n",
       "    <tr>\n",
       "      <th>2</th>\n",
       "      <td>서울특별시</td>\n",
       "      <td>정해네트웍스(주)일진주유소</td>\n",
       "      <td>서울 광진구 동일로 413 (중곡동)</td>\n",
       "      <td>S-OIL</td>\n",
       "      <td>02-461-5152</td>\n",
       "      <td>Y</td>\n",
       "      <td>1827</td>\n",
       "      <td>1667</td>\n",
       "      <td>1447</td>\n",
       "      <td>-</td>\n",
       "    </tr>\n",
       "    <tr>\n",
       "      <th>3</th>\n",
       "      <td>서울특별시</td>\n",
       "      <td>태양주유소</td>\n",
       "      <td>서울 광진구 동일로 345 (중곡동)</td>\n",
       "      <td>현대오일뱅크</td>\n",
       "      <td>02-464-5141</td>\n",
       "      <td>N</td>\n",
       "      <td>-</td>\n",
       "      <td>1675</td>\n",
       "      <td>1455</td>\n",
       "      <td>-</td>\n",
       "    </tr>\n",
       "    <tr>\n",
       "      <th>4</th>\n",
       "      <td>서울특별시</td>\n",
       "      <td>대원주유소</td>\n",
       "      <td>서울 광진구 용마산로 122 (중곡동)</td>\n",
       "      <td>S-OIL</td>\n",
       "      <td>02-444-1666</td>\n",
       "      <td>N</td>\n",
       "      <td>-</td>\n",
       "      <td>1677</td>\n",
       "      <td>1477</td>\n",
       "      <td>-</td>\n",
       "    </tr>\n",
       "    <tr>\n",
       "      <th>...</th>\n",
       "      <td>...</td>\n",
       "      <td>...</td>\n",
       "      <td>...</td>\n",
       "      <td>...</td>\n",
       "      <td>...</td>\n",
       "      <td>...</td>\n",
       "      <td>...</td>\n",
       "      <td>...</td>\n",
       "      <td>...</td>\n",
       "      <td>...</td>\n",
       "    </tr>\n",
       "    <tr>\n",
       "      <th>10</th>\n",
       "      <td>서울특별시</td>\n",
       "      <td>SK에너지(주)직영 대공원주유소</td>\n",
       "      <td>서울 관악구 과천대로 921 (남현동)</td>\n",
       "      <td>SK에너지</td>\n",
       "      <td>02-584-2522</td>\n",
       "      <td>N</td>\n",
       "      <td>1879</td>\n",
       "      <td>1739</td>\n",
       "      <td>1539</td>\n",
       "      <td>-</td>\n",
       "    </tr>\n",
       "    <tr>\n",
       "      <th>11</th>\n",
       "      <td>서울특별시</td>\n",
       "      <td>현대오일뱅크(주)직영 문성골주유소</td>\n",
       "      <td>서울 관악구 문성로 97 (신림동)</td>\n",
       "      <td>현대오일뱅크</td>\n",
       "      <td>02-839-0081</td>\n",
       "      <td>N</td>\n",
       "      <td>-</td>\n",
       "      <td>1748</td>\n",
       "      <td>1548</td>\n",
       "      <td>1100</td>\n",
       "    </tr>\n",
       "    <tr>\n",
       "      <th>12</th>\n",
       "      <td>서울특별시</td>\n",
       "      <td>유정주유소</td>\n",
       "      <td>서울 관악구 남부순환로 1691 (봉천동)</td>\n",
       "      <td>SK에너지</td>\n",
       "      <td>02-882-1154</td>\n",
       "      <td>N</td>\n",
       "      <td>-</td>\n",
       "      <td>1769</td>\n",
       "      <td>1569</td>\n",
       "      <td>1121</td>\n",
       "    </tr>\n",
       "    <tr>\n",
       "      <th>13</th>\n",
       "      <td>서울특별시</td>\n",
       "      <td>(주)한유에너지행운셀프주유소</td>\n",
       "      <td>서울 관악구 남부순환로 1883 (봉천동)</td>\n",
       "      <td>SK에너지</td>\n",
       "      <td>02-871-5189</td>\n",
       "      <td>Y</td>\n",
       "      <td>1994</td>\n",
       "      <td>1789</td>\n",
       "      <td>1589</td>\n",
       "      <td>-</td>\n",
       "    </tr>\n",
       "    <tr>\n",
       "      <th>14</th>\n",
       "      <td>서울특별시</td>\n",
       "      <td>CJ대한통운㈜ 신림주유소</td>\n",
       "      <td>서울 관악구 남부순환로 1515 (신림동)</td>\n",
       "      <td>GS칼텍스</td>\n",
       "      <td>02-2632-8612</td>\n",
       "      <td>N</td>\n",
       "      <td>-</td>\n",
       "      <td>1798</td>\n",
       "      <td>1591</td>\n",
       "      <td>-</td>\n",
       "    </tr>\n",
       "  </tbody>\n",
       "</table>\n",
       "<p>478 rows × 10 columns</p>\n",
       "</div>"
      ],
      "text/plain": [
       "       지역                  상호                       주소      상표          전화번호  \\\n",
       "0   서울특별시             (주)창원CW    서울 광진구 광나루로 460 (화양동)  현대오일뱅크  02-3436-1112   \n",
       "1   서울특별시   현대오일뱅크(주)직영 능동주유소     서울 광진구 천호대로 584 (능동)  현대오일뱅크   02-452-7723   \n",
       "2   서울특별시      정해네트웍스(주)일진주유소     서울 광진구 동일로 413 (중곡동)   S-OIL   02-461-5152   \n",
       "3   서울특별시               태양주유소     서울 광진구 동일로 345 (중곡동)  현대오일뱅크   02-464-5141   \n",
       "4   서울특별시               대원주유소    서울 광진구 용마산로 122 (중곡동)   S-OIL   02-444-1666   \n",
       "..    ...                 ...                      ...     ...           ...   \n",
       "10  서울특별시   SK에너지(주)직영 대공원주유소    서울 관악구 과천대로 921 (남현동)   SK에너지   02-584-2522   \n",
       "11  서울특별시  현대오일뱅크(주)직영 문성골주유소      서울 관악구 문성로 97 (신림동)  현대오일뱅크   02-839-0081   \n",
       "12  서울특별시               유정주유소  서울 관악구 남부순환로 1691 (봉천동)   SK에너지   02-882-1154   \n",
       "13  서울특별시     (주)한유에너지행운셀프주유소  서울 관악구 남부순환로 1883 (봉천동)   SK에너지   02-871-5189   \n",
       "14  서울특별시       CJ대한통운㈜ 신림주유소  서울 관악구 남부순환로 1515 (신림동)   GS칼텍스  02-2632-8612   \n",
       "\n",
       "   셀프여부 고급휘발유   휘발유    경유  실내등유  \n",
       "0     Y     -  1649  1439     -  \n",
       "1     Y  1879  1654  1444  1000  \n",
       "2     Y  1827  1667  1447     -  \n",
       "3     N     -  1675  1455     -  \n",
       "4     N     -  1677  1477     -  \n",
       "..  ...   ...   ...   ...   ...  \n",
       "10    N  1879  1739  1539     -  \n",
       "11    N     -  1748  1548  1100  \n",
       "12    N     -  1769  1569  1121  \n",
       "13    Y  1994  1789  1589     -  \n",
       "14    N     -  1798  1591     -  \n",
       "\n",
       "[478 rows x 10 columns]"
      ]
     },
     "execution_count": 60,
     "metadata": {},
     "output_type": "execute_result"
    }
   ],
   "source": [
    "stations_raw = pd.concat(tmp_raw)\n",
    "stations_raw"
   ]
  },
  {
   "cell_type": "code",
   "execution_count": 61,
   "metadata": {},
   "outputs": [
    {
     "name": "stdout",
     "output_type": "stream",
     "text": [
      "<class 'pandas.core.frame.DataFrame'>\n",
      "Int64Index: 478 entries, 0 to 14\n",
      "Data columns (total 10 columns):\n",
      " #   Column  Non-Null Count  Dtype \n",
      "---  ------  --------------  ----- \n",
      " 0   지역      478 non-null    object\n",
      " 1   상호      478 non-null    object\n",
      " 2   주소      478 non-null    object\n",
      " 3   상표      478 non-null    object\n",
      " 4   전화번호    478 non-null    object\n",
      " 5   셀프여부    478 non-null    object\n",
      " 6   고급휘발유   478 non-null    object\n",
      " 7   휘발유     478 non-null    object\n",
      " 8   경유      478 non-null    object\n",
      " 9   실내등유    478 non-null    object\n",
      "dtypes: object(10)\n",
      "memory usage: 41.1+ KB\n"
     ]
    }
   ],
   "source": [
    "stations_raw.info()"
   ]
  },
  {
   "cell_type": "code",
   "execution_count": 62,
   "metadata": {},
   "outputs": [
    {
     "data": {
      "text/plain": [
       "Index(['지역', '상호', '주소', '상표', '전화번호', '셀프여부', '고급휘발유', '휘발유', '경유', '실내등유'], dtype='object')"
      ]
     },
     "execution_count": 62,
     "metadata": {},
     "output_type": "execute_result"
    }
   ],
   "source": [
    "stations_raw.columns"
   ]
  },
  {
   "cell_type": "code",
   "execution_count": 63,
   "metadata": {},
   "outputs": [
    {
     "data": {
      "text/html": [
       "<div>\n",
       "<style scoped>\n",
       "    .dataframe tbody tr th:only-of-type {\n",
       "        vertical-align: middle;\n",
       "    }\n",
       "\n",
       "    .dataframe tbody tr th {\n",
       "        vertical-align: top;\n",
       "    }\n",
       "\n",
       "    .dataframe thead th {\n",
       "        text-align: right;\n",
       "    }\n",
       "</style>\n",
       "<table border=\"1\" class=\"dataframe\">\n",
       "  <thead>\n",
       "    <tr style=\"text-align: right;\">\n",
       "      <th></th>\n",
       "      <th>상호</th>\n",
       "      <th>주소</th>\n",
       "      <th>가격</th>\n",
       "      <th>셀프</th>\n",
       "      <th>상표</th>\n",
       "    </tr>\n",
       "  </thead>\n",
       "  <tbody>\n",
       "    <tr>\n",
       "      <th>10</th>\n",
       "      <td>SK에너지(주)직영 대공원주유소</td>\n",
       "      <td>서울 관악구 과천대로 921 (남현동)</td>\n",
       "      <td>1739</td>\n",
       "      <td>N</td>\n",
       "      <td>SK에너지</td>\n",
       "    </tr>\n",
       "    <tr>\n",
       "      <th>11</th>\n",
       "      <td>현대오일뱅크(주)직영 문성골주유소</td>\n",
       "      <td>서울 관악구 문성로 97 (신림동)</td>\n",
       "      <td>1748</td>\n",
       "      <td>N</td>\n",
       "      <td>현대오일뱅크</td>\n",
       "    </tr>\n",
       "    <tr>\n",
       "      <th>12</th>\n",
       "      <td>유정주유소</td>\n",
       "      <td>서울 관악구 남부순환로 1691 (봉천동)</td>\n",
       "      <td>1769</td>\n",
       "      <td>N</td>\n",
       "      <td>SK에너지</td>\n",
       "    </tr>\n",
       "    <tr>\n",
       "      <th>13</th>\n",
       "      <td>(주)한유에너지행운셀프주유소</td>\n",
       "      <td>서울 관악구 남부순환로 1883 (봉천동)</td>\n",
       "      <td>1789</td>\n",
       "      <td>Y</td>\n",
       "      <td>SK에너지</td>\n",
       "    </tr>\n",
       "    <tr>\n",
       "      <th>14</th>\n",
       "      <td>CJ대한통운㈜ 신림주유소</td>\n",
       "      <td>서울 관악구 남부순환로 1515 (신림동)</td>\n",
       "      <td>1798</td>\n",
       "      <td>N</td>\n",
       "      <td>GS칼텍스</td>\n",
       "    </tr>\n",
       "  </tbody>\n",
       "</table>\n",
       "</div>"
      ],
      "text/plain": [
       "                    상호                       주소    가격 셀프      상표\n",
       "10   SK에너지(주)직영 대공원주유소    서울 관악구 과천대로 921 (남현동)  1739  N   SK에너지\n",
       "11  현대오일뱅크(주)직영 문성골주유소      서울 관악구 문성로 97 (신림동)  1748  N  현대오일뱅크\n",
       "12               유정주유소  서울 관악구 남부순환로 1691 (봉천동)  1769  N   SK에너지\n",
       "13     (주)한유에너지행운셀프주유소  서울 관악구 남부순환로 1883 (봉천동)  1789  Y   SK에너지\n",
       "14       CJ대한통운㈜ 신림주유소  서울 관악구 남부순환로 1515 (신림동)  1798  N   GS칼텍스"
      ]
     },
     "execution_count": 63,
     "metadata": {},
     "output_type": "execute_result"
    }
   ],
   "source": [
    "stations = pd.DataFrame({\n",
    "    \"상호\" : stations_raw[\"상호\"],\n",
    "    \"주소\" : stations_raw[\"주소\"],\n",
    "    \"가격\" : stations_raw[\"휘발유\"],\n",
    "    \"셀프\" : stations_raw[\"셀프여부\"],\n",
    "    \"상표\" : stations_raw[\"상표\"],\n",
    "})\n",
    "stations.tail()"
   ]
  },
  {
   "cell_type": "code",
   "execution_count": 64,
   "metadata": {},
   "outputs": [
    {
     "name": "stdout",
     "output_type": "stream",
     "text": [
      "광진구\n",
      "광진구\n",
      "광진구\n",
      "광진구\n",
      "광진구\n",
      "광진구\n",
      "광진구\n",
      "광진구\n",
      "광진구\n",
      "광진구\n",
      "광진구\n",
      "광진구\n",
      "광진구\n",
      "광진구\n",
      "광진구\n",
      "광진구\n",
      "구로구\n",
      "구로구\n",
      "구로구\n",
      "구로구\n",
      "구로구\n",
      "구로구\n",
      "구로구\n",
      "구로구\n",
      "구로구\n",
      "구로구\n",
      "구로구\n",
      "구로구\n",
      "구로구\n",
      "구로구\n",
      "구로구\n",
      "구로구\n",
      "구로구\n",
      "구로구\n",
      "구로구\n",
      "구로구\n",
      "구로구\n",
      "구로구\n",
      "금천구\n",
      "금천구\n",
      "금천구\n",
      "금천구\n",
      "금천구\n",
      "금천구\n",
      "금천구\n",
      "금천구\n",
      "금천구\n",
      "금천구\n",
      "금천구\n",
      "노원구\n",
      "노원구\n",
      "노원구\n",
      "노원구\n",
      "노원구\n",
      "노원구\n",
      "노원구\n",
      "노원구\n",
      "노원구\n",
      "노원구\n",
      "노원구\n",
      "노원구\n",
      "노원구\n",
      "노원구\n",
      "노원구\n",
      "도봉구\n",
      "도봉구\n",
      "도봉구\n",
      "도봉구\n",
      "도봉구\n",
      "도봉구\n",
      "도봉구\n",
      "도봉구\n",
      "도봉구\n",
      "도봉구\n",
      "도봉구\n",
      "도봉구\n",
      "도봉구\n",
      "도봉구\n",
      "도봉구\n",
      "도봉구\n",
      "도봉구\n",
      "도봉구\n",
      "동대문구\n",
      "동대문구\n",
      "동대문구\n",
      "동대문구\n",
      "동대문구\n",
      "동대문구\n",
      "동대문구\n",
      "동대문구\n",
      "동대문구\n",
      "동대문구\n",
      "동대문구\n",
      "동대문구\n",
      "동대문구\n",
      "동대문구\n",
      "동대문구\n",
      "동대문구\n",
      "동대문구\n",
      "동대문구\n",
      "동대문구\n",
      "동작구\n",
      "동작구\n",
      "동작구\n",
      "동작구\n",
      "동작구\n",
      "동작구\n",
      "동작구\n",
      "동작구\n",
      "동작구\n",
      "동작구\n",
      "마포구\n",
      "마포구\n",
      "마포구\n",
      "마포구\n",
      "마포구\n",
      "마포구\n",
      "마포구\n",
      "마포구\n",
      "마포구\n",
      "마포구\n",
      "마포구\n",
      "마포구\n",
      "서대문구\n",
      "서대문구\n",
      "서대문구\n",
      "서대문구\n",
      "서대문구\n",
      "서대문구\n",
      "서대문구\n",
      "서대문구\n",
      "서대문구\n",
      "서대문구\n",
      "서대문구\n",
      "서대문구\n",
      "서대문구\n",
      "서대문구\n",
      "서대문구\n",
      "서초구\n",
      "서초구\n",
      "서초구\n",
      "서초구\n",
      "서초구\n",
      "서초구\n",
      "서초구\n",
      "서초구\n",
      "서초구\n",
      "서초구\n",
      "서초구\n",
      "서초구\n",
      "서초구\n",
      "서초구\n",
      "서초구\n",
      "서초구\n",
      "서초구\n",
      "서초구\n",
      "서초구\n",
      "서초구\n",
      "서초구\n",
      "서초구\n",
      "서초구\n",
      "서초구\n",
      "서초구\n",
      "서초구\n",
      "서초구\n",
      "서초구\n",
      "서초구\n",
      "서초구\n",
      "서초구\n",
      "서초구\n",
      "서초구\n",
      "서초구\n",
      "서초구\n",
      "성동구\n",
      "성동구\n",
      "성동구\n",
      "성동구\n",
      "성동구\n",
      "성동구\n",
      "성동구\n",
      "성동구\n",
      "성동구\n",
      "성동구\n",
      "성동구\n",
      "성동구\n",
      "성동구\n",
      "성동구\n",
      "성동구\n",
      "성동구\n",
      "성동구\n",
      "성북구\n",
      "성북구\n",
      "성북구\n",
      "성북구\n",
      "성북구\n",
      "성북구\n",
      "성북구\n",
      "성북구\n",
      "성북구\n",
      "성북구\n",
      "성북구\n",
      "성북구\n",
      "성북구\n",
      "성북구\n",
      "성북구\n",
      "성북구\n",
      "성북구\n",
      "성북구\n",
      "성북구\n",
      "성북구\n",
      "성북구\n",
      "성북구\n",
      "성북구\n",
      "성북구\n",
      "송파구\n",
      "송파구\n",
      "송파구\n",
      "송파구\n",
      "송파구\n",
      "송파구\n",
      "송파구\n",
      "송파구\n",
      "송파구\n",
      "송파구\n",
      "송파구\n",
      "송파구\n",
      "송파구\n",
      "송파구\n",
      "송파구\n",
      "송파구\n",
      "송파구\n",
      "송파구\n",
      "송파구\n",
      "송파구\n",
      "송파구\n",
      "송파구\n",
      "송파구\n",
      "송파구\n",
      "송파구\n",
      "송파구\n",
      "송파구\n",
      "송파구\n",
      "송파구\n",
      "송파구\n",
      "송파구\n",
      "송파구\n",
      "양천구\n",
      "양천구\n",
      "양천구\n",
      "양천구\n",
      "양천구\n",
      "양천구\n",
      "양천구\n",
      "양천구\n",
      "양천구\n",
      "양천구\n",
      "양천구\n",
      "양천구\n",
      "양천구\n",
      "양천구\n",
      "양천구\n",
      "양천구\n",
      "양천구\n",
      "양천구\n",
      "양천구\n",
      "양천구\n",
      "양천구\n",
      "양천구\n",
      "양천구\n",
      "양천구\n",
      "양천구\n",
      "영등포구\n",
      "영등포구\n",
      "영등포구\n",
      "영등포구\n",
      "영등포구\n",
      "영등포구\n",
      "영등포구\n",
      "영등포구\n",
      "영등포구\n",
      "영등포구\n",
      "영등포구\n",
      "영등포구\n",
      "영등포구\n",
      "영등포구\n",
      "영등포구\n",
      "영등포구\n",
      "영등포구\n",
      "영등포구\n",
      "영등포구\n",
      "영등포구\n",
      "영등포구\n",
      "영등포구\n",
      "영등포구\n",
      "영등포구\n",
      "영등포구\n",
      "영등포구\n",
      "영등포구\n",
      "영등포구\n",
      "용산구\n",
      "용산구\n",
      "용산구\n",
      "용산구\n",
      "용산구\n",
      "용산구\n",
      "용산구\n",
      "용산구\n",
      "용산구\n",
      "용산구\n",
      "용산구\n",
      "용산구\n",
      "용산구\n",
      "은평구\n",
      "은평구\n",
      "은평구\n",
      "은평구\n",
      "은평구\n",
      "은평구\n",
      "은평구\n",
      "은평구\n",
      "은평구\n",
      "은평구\n",
      "은평구\n",
      "은평구\n",
      "은평구\n",
      "은평구\n",
      "은평구\n",
      "은평구\n",
      "은평구\n",
      "종로구\n",
      "종로구\n",
      "종로구\n",
      "종로구\n",
      "종로구\n",
      "종로구\n",
      "종로구\n",
      "종로구\n",
      "종로구\n",
      "중구\n",
      "중구\n",
      "중구\n",
      "중구\n",
      "중구\n",
      "중구\n",
      "중구\n",
      "중구\n",
      "중구\n",
      "중구\n",
      "중구\n",
      "중랑구\n",
      "중랑구\n",
      "중랑구\n",
      "중랑구\n",
      "중랑구\n",
      "중랑구\n",
      "중랑구\n",
      "중랑구\n",
      "중랑구\n",
      "중랑구\n",
      "중랑구\n",
      "중랑구\n",
      "중랑구\n",
      "중랑구\n",
      "중랑구\n",
      "강남구\n",
      "강남구\n",
      "강남구\n",
      "강남구\n",
      "강남구\n",
      "강남구\n",
      "강남구\n",
      "강남구\n",
      "강남구\n",
      "강남구\n",
      "강남구\n",
      "강남구\n",
      "강남구\n",
      "강남구\n",
      "강남구\n",
      "강남구\n",
      "강남구\n",
      "강남구\n",
      "강남구\n",
      "강남구\n",
      "강남구\n",
      "강남구\n",
      "강남구\n",
      "강남구\n",
      "강남구\n",
      "강남구\n",
      "강남구\n",
      "강남구\n",
      "강남구\n",
      "강남구\n",
      "강남구\n",
      "강남구\n",
      "강남구\n",
      "강남구\n",
      "강남구\n",
      "강남구\n",
      "강남구\n",
      "강남구\n",
      "강동구\n",
      "강동구\n",
      "강동구\n",
      "강동구\n",
      "강동구\n",
      "강동구\n",
      "강동구\n",
      "강동구\n",
      "강동구\n",
      "강동구\n",
      "강동구\n",
      "강동구\n",
      "강동구\n",
      "강동구\n",
      "강동구\n",
      "강동구\n",
      "강북구\n",
      "강북구\n",
      "강북구\n",
      "강북구\n",
      "강북구\n",
      "강북구\n",
      "강북구\n",
      "강북구\n",
      "강북구\n",
      "강북구\n",
      "강북구\n",
      "강북구\n",
      "강북구\n",
      "강서구\n",
      "강서구\n",
      "강서구\n",
      "강서구\n",
      "강서구\n",
      "강서구\n",
      "강서구\n",
      "강서구\n",
      "강서구\n",
      "강서구\n",
      "강서구\n",
      "강서구\n",
      "강서구\n",
      "강서구\n",
      "강서구\n",
      "강서구\n",
      "강서구\n",
      "강서구\n",
      "강서구\n",
      "강서구\n",
      "강서구\n",
      "강서구\n",
      "강서구\n",
      "강서구\n",
      "강서구\n",
      "강서구\n",
      "강서구\n",
      "강서구\n",
      "강서구\n",
      "강서구\n",
      "강서구\n",
      "강서구\n",
      "관악구\n",
      "관악구\n",
      "관악구\n",
      "관악구\n",
      "관악구\n",
      "관악구\n",
      "관악구\n",
      "관악구\n",
      "관악구\n",
      "관악구\n",
      "관악구\n",
      "관악구\n",
      "관악구\n",
      "관악구\n",
      "관악구\n"
     ]
    }
   ],
   "source": [
    "##실행하면 길게나옴\n",
    "for eachAddress in stations[\"주소\"]:\n",
    "    print(eachAddress.split()[1])"
   ]
  },
  {
   "cell_type": "code",
   "execution_count": 65,
   "metadata": {},
   "outputs": [
    {
     "data": {
      "text/plain": [
       "0     광진구\n",
       "1     광진구\n",
       "2     광진구\n",
       "3     광진구\n",
       "4     광진구\n",
       "     ... \n",
       "10    관악구\n",
       "11    관악구\n",
       "12    관악구\n",
       "13    관악구\n",
       "14    관악구\n",
       "Name: 구, Length: 478, dtype: object"
      ]
     },
     "execution_count": 65,
     "metadata": {},
     "output_type": "execute_result"
    }
   ],
   "source": [
    "stations[\"구\"] = [eachAddress.split()[1] for eachAddress in stations[\"주소\"]]\n",
    "stations[\"구\"]"
   ]
  },
  {
   "cell_type": "code",
   "execution_count": 66,
   "metadata": {},
   "outputs": [
    {
     "data": {
      "text/plain": [
       "(array(['광진구', '구로구', '금천구', '노원구', '도봉구', '동대문구', '동작구', '마포구', '서대문구',\n",
       "        '서초구', '성동구', '성북구', '송파구', '양천구', '영등포구', '용산구', '은평구', '종로구',\n",
       "        '중구', '중랑구', '강남구', '강동구', '강북구', '강서구', '관악구'], dtype=object), 25)"
      ]
     },
     "execution_count": 66,
     "metadata": {},
     "output_type": "execute_result"
    }
   ],
   "source": [
    "stations[\"구\"].unique(), len(stations[\"구\"].unique())"
   ]
  },
  {
   "cell_type": "markdown",
   "metadata": {},
   "source": [
    "## 만약 띄어쓰기 문제로 27개 나오면 밑에 코드 진행"
   ]
  },
  {
   "cell_type": "code",
   "execution_count": 67,
   "metadata": {},
   "outputs": [],
   "source": [
    "#stations[stations[\"구\"] == \"서울특별시\"]\n",
    "#stations.loc[stations[\"구\"] == \"서울특별시\", \"구\"] = \"성동구\"\n",
    "#stations[stations[\"구\"] == \"특별시\"]\n",
    "#stations.loc[stations[\"구\"] == \"서울특별시\", \"구\"] = \"도봉구\""
   ]
  },
  {
   "cell_type": "markdown",
   "metadata": {},
   "source": [
    "### 가격 데이터형 변환 object => float"
   ]
  },
  {
   "cell_type": "code",
   "execution_count": 68,
   "metadata": {},
   "outputs": [],
   "source": [
    "# stations[\"가격\"] = stations[\"가격\"].astype(\"float\") #실행하면 에러난다. 가격정보가 없는 것이 있었다. "
   ]
  },
  {
   "cell_type": "code",
   "execution_count": 69,
   "metadata": {},
   "outputs": [
    {
     "data": {
      "text/html": [
       "<div>\n",
       "<style scoped>\n",
       "    .dataframe tbody tr th:only-of-type {\n",
       "        vertical-align: middle;\n",
       "    }\n",
       "\n",
       "    .dataframe tbody tr th {\n",
       "        vertical-align: top;\n",
       "    }\n",
       "\n",
       "    .dataframe thead th {\n",
       "        text-align: right;\n",
       "    }\n",
       "</style>\n",
       "<table border=\"1\" class=\"dataframe\">\n",
       "  <thead>\n",
       "    <tr style=\"text-align: right;\">\n",
       "      <th></th>\n",
       "      <th>상호</th>\n",
       "      <th>주소</th>\n",
       "      <th>가격</th>\n",
       "      <th>셀프</th>\n",
       "      <th>상표</th>\n",
       "      <th>구</th>\n",
       "    </tr>\n",
       "  </thead>\n",
       "  <tbody>\n",
       "    <tr>\n",
       "      <th>15</th>\n",
       "      <td>구의스타주유소</td>\n",
       "      <td>서울 광진구 자양로 103</td>\n",
       "      <td>-</td>\n",
       "      <td>N</td>\n",
       "      <td>GS칼텍스</td>\n",
       "      <td>광진구</td>\n",
       "    </tr>\n",
       "    <tr>\n",
       "      <th>14</th>\n",
       "      <td>양지진흥개발(주)상계주유소</td>\n",
       "      <td>서울 노원구 노해로 527 (상계동)</td>\n",
       "      <td>-</td>\n",
       "      <td>N</td>\n",
       "      <td>SK에너지</td>\n",
       "      <td>노원구</td>\n",
       "    </tr>\n",
       "    <tr>\n",
       "      <th>17</th>\n",
       "      <td>(주)자연에너지 햇살주유소</td>\n",
       "      <td>서울 도봉구 방학로 142 (방학동)</td>\n",
       "      <td>-</td>\n",
       "      <td>Y</td>\n",
       "      <td>현대오일뱅크</td>\n",
       "      <td>도봉구</td>\n",
       "    </tr>\n",
       "    <tr>\n",
       "      <th>31</th>\n",
       "      <td>현대오일뱅크㈜직영 올림픽셀프주유소</td>\n",
       "      <td>서울 송파구 위례성대로 188 (오금동)</td>\n",
       "      <td>-</td>\n",
       "      <td>Y</td>\n",
       "      <td>현대오일뱅크</td>\n",
       "      <td>송파구</td>\n",
       "    </tr>\n",
       "    <tr>\n",
       "      <th>27</th>\n",
       "      <td>지에스칼텍스㈜ 화일주유소</td>\n",
       "      <td>서울 영등포구 도림로 415</td>\n",
       "      <td>-</td>\n",
       "      <td>Y</td>\n",
       "      <td>GS칼텍스</td>\n",
       "      <td>영등포구</td>\n",
       "    </tr>\n",
       "    <tr>\n",
       "      <th>16</th>\n",
       "      <td>삼융주유소</td>\n",
       "      <td>서울 은평구 수색로 299 (수색동)</td>\n",
       "      <td>-</td>\n",
       "      <td>N</td>\n",
       "      <td>SK에너지</td>\n",
       "      <td>은평구</td>\n",
       "    </tr>\n",
       "    <tr>\n",
       "      <th>10</th>\n",
       "      <td>지에스칼텍스(주)직영 역전점</td>\n",
       "      <td>서울 중구 퇴계로 15</td>\n",
       "      <td>-</td>\n",
       "      <td>N</td>\n",
       "      <td>GS칼텍스</td>\n",
       "      <td>중구</td>\n",
       "    </tr>\n",
       "    <tr>\n",
       "      <th>14</th>\n",
       "      <td>지에스칼텍스㈜ 소망주유소</td>\n",
       "      <td>서울 중랑구 망우로 475</td>\n",
       "      <td>-</td>\n",
       "      <td>Y</td>\n",
       "      <td>GS칼텍스</td>\n",
       "      <td>중랑구</td>\n",
       "    </tr>\n",
       "    <tr>\n",
       "      <th>35</th>\n",
       "      <td>동우주유소</td>\n",
       "      <td>서울특별시 강남구  봉은사로 311 (논현동)</td>\n",
       "      <td>-</td>\n",
       "      <td>N</td>\n",
       "      <td>SK에너지</td>\n",
       "      <td>강남구</td>\n",
       "    </tr>\n",
       "    <tr>\n",
       "      <th>36</th>\n",
       "      <td>삼성주유소</td>\n",
       "      <td>서울 강남구 삼성로 521 (삼성동)</td>\n",
       "      <td>-</td>\n",
       "      <td>N</td>\n",
       "      <td>SK에너지</td>\n",
       "      <td>강남구</td>\n",
       "    </tr>\n",
       "    <tr>\n",
       "      <th>37</th>\n",
       "      <td>학여울주유소</td>\n",
       "      <td>서울 강남구 남부순환로 3170 (일원2동)</td>\n",
       "      <td>-</td>\n",
       "      <td>N</td>\n",
       "      <td>GS칼텍스</td>\n",
       "      <td>강남구</td>\n",
       "    </tr>\n",
       "  </tbody>\n",
       "</table>\n",
       "</div>"
      ],
      "text/plain": [
       "                    상호                         주소 가격 셀프      상표     구\n",
       "15             구의스타주유소             서울 광진구 자양로 103  -  N   GS칼텍스   광진구\n",
       "14      양지진흥개발(주)상계주유소       서울 노원구 노해로 527 (상계동)  -  N   SK에너지   노원구\n",
       "17      (주)자연에너지 햇살주유소       서울 도봉구 방학로 142 (방학동)  -  Y  현대오일뱅크   도봉구\n",
       "31  현대오일뱅크㈜직영 올림픽셀프주유소     서울 송파구 위례성대로 188 (오금동)  -  Y  현대오일뱅크   송파구\n",
       "27       지에스칼텍스㈜ 화일주유소            서울 영등포구 도림로 415  -  Y   GS칼텍스  영등포구\n",
       "16               삼융주유소       서울 은평구 수색로 299 (수색동)  -  N   SK에너지   은평구\n",
       "10     지에스칼텍스(주)직영 역전점               서울 중구 퇴계로 15  -  N   GS칼텍스    중구\n",
       "14       지에스칼텍스㈜ 소망주유소             서울 중랑구 망우로 475  -  Y   GS칼텍스   중랑구\n",
       "35               동우주유소  서울특별시 강남구  봉은사로 311 (논현동)  -  N   SK에너지   강남구\n",
       "36               삼성주유소       서울 강남구 삼성로 521 (삼성동)  -  N   SK에너지   강남구\n",
       "37              학여울주유소   서울 강남구 남부순환로 3170 (일원2동)  -  N   GS칼텍스   강남구"
      ]
     },
     "execution_count": 69,
     "metadata": {},
     "output_type": "execute_result"
    }
   ],
   "source": [
    "stations[stations[\"가격\"] == \"-\"]"
   ]
  },
  {
   "cell_type": "code",
   "execution_count": 70,
   "metadata": {},
   "outputs": [
    {
     "data": {
      "text/html": [
       "<div>\n",
       "<style scoped>\n",
       "    .dataframe tbody tr th:only-of-type {\n",
       "        vertical-align: middle;\n",
       "    }\n",
       "\n",
       "    .dataframe tbody tr th {\n",
       "        vertical-align: top;\n",
       "    }\n",
       "\n",
       "    .dataframe thead th {\n",
       "        text-align: right;\n",
       "    }\n",
       "</style>\n",
       "<table border=\"1\" class=\"dataframe\">\n",
       "  <thead>\n",
       "    <tr style=\"text-align: right;\">\n",
       "      <th></th>\n",
       "      <th>상호</th>\n",
       "      <th>주소</th>\n",
       "      <th>가격</th>\n",
       "      <th>셀프</th>\n",
       "      <th>상표</th>\n",
       "      <th>구</th>\n",
       "    </tr>\n",
       "  </thead>\n",
       "  <tbody>\n",
       "    <tr>\n",
       "      <th>10</th>\n",
       "      <td>SK에너지(주)직영 대공원주유소</td>\n",
       "      <td>서울 관악구 과천대로 921 (남현동)</td>\n",
       "      <td>1739</td>\n",
       "      <td>N</td>\n",
       "      <td>SK에너지</td>\n",
       "      <td>관악구</td>\n",
       "    </tr>\n",
       "    <tr>\n",
       "      <th>11</th>\n",
       "      <td>현대오일뱅크(주)직영 문성골주유소</td>\n",
       "      <td>서울 관악구 문성로 97 (신림동)</td>\n",
       "      <td>1748</td>\n",
       "      <td>N</td>\n",
       "      <td>현대오일뱅크</td>\n",
       "      <td>관악구</td>\n",
       "    </tr>\n",
       "    <tr>\n",
       "      <th>12</th>\n",
       "      <td>유정주유소</td>\n",
       "      <td>서울 관악구 남부순환로 1691 (봉천동)</td>\n",
       "      <td>1769</td>\n",
       "      <td>N</td>\n",
       "      <td>SK에너지</td>\n",
       "      <td>관악구</td>\n",
       "    </tr>\n",
       "    <tr>\n",
       "      <th>13</th>\n",
       "      <td>(주)한유에너지행운셀프주유소</td>\n",
       "      <td>서울 관악구 남부순환로 1883 (봉천동)</td>\n",
       "      <td>1789</td>\n",
       "      <td>Y</td>\n",
       "      <td>SK에너지</td>\n",
       "      <td>관악구</td>\n",
       "    </tr>\n",
       "    <tr>\n",
       "      <th>14</th>\n",
       "      <td>CJ대한통운㈜ 신림주유소</td>\n",
       "      <td>서울 관악구 남부순환로 1515 (신림동)</td>\n",
       "      <td>1798</td>\n",
       "      <td>N</td>\n",
       "      <td>GS칼텍스</td>\n",
       "      <td>관악구</td>\n",
       "    </tr>\n",
       "  </tbody>\n",
       "</table>\n",
       "</div>"
      ],
      "text/plain": [
       "                    상호                       주소    가격 셀프      상표    구\n",
       "10   SK에너지(주)직영 대공원주유소    서울 관악구 과천대로 921 (남현동)  1739  N   SK에너지  관악구\n",
       "11  현대오일뱅크(주)직영 문성골주유소      서울 관악구 문성로 97 (신림동)  1748  N  현대오일뱅크  관악구\n",
       "12               유정주유소  서울 관악구 남부순환로 1691 (봉천동)  1769  N   SK에너지  관악구\n",
       "13     (주)한유에너지행운셀프주유소  서울 관악구 남부순환로 1883 (봉천동)  1789  Y   SK에너지  관악구\n",
       "14       CJ대한통운㈜ 신림주유소  서울 관악구 남부순환로 1515 (신림동)  1798  N   GS칼텍스  관악구"
      ]
     },
     "execution_count": 70,
     "metadata": {},
     "output_type": "execute_result"
    }
   ],
   "source": [
    "#가격 정보가 있는 주유소만 사용\n",
    "stations = stations[stations[\"가격\"] != \"-\"]\n",
    "stations.tail()"
   ]
  },
  {
   "cell_type": "code",
   "execution_count": 71,
   "metadata": {},
   "outputs": [
    {
     "name": "stdout",
     "output_type": "stream",
     "text": [
      "<class 'pandas.core.frame.DataFrame'>\n",
      "Int64Index: 467 entries, 0 to 14\n",
      "Data columns (total 6 columns):\n",
      " #   Column  Non-Null Count  Dtype \n",
      "---  ------  --------------  ----- \n",
      " 0   상호      467 non-null    object\n",
      " 1   주소      467 non-null    object\n",
      " 2   가격      467 non-null    object\n",
      " 3   셀프      467 non-null    object\n",
      " 4   상표      467 non-null    object\n",
      " 5   구       467 non-null    object\n",
      "dtypes: object(6)\n",
      "memory usage: 25.5+ KB\n"
     ]
    }
   ],
   "source": [
    "stations.info()"
   ]
  },
  {
   "cell_type": "code",
   "execution_count": 72,
   "metadata": {},
   "outputs": [],
   "source": [
    "stations[\"가격\"] = stations[\"가격\"].astype(\"float\") #가격 형태 float로 바뀜"
   ]
  },
  {
   "cell_type": "code",
   "execution_count": 73,
   "metadata": {},
   "outputs": [
    {
     "name": "stdout",
     "output_type": "stream",
     "text": [
      "<class 'pandas.core.frame.DataFrame'>\n",
      "Int64Index: 467 entries, 0 to 14\n",
      "Data columns (total 6 columns):\n",
      " #   Column  Non-Null Count  Dtype  \n",
      "---  ------  --------------  -----  \n",
      " 0   상호      467 non-null    object \n",
      " 1   주소      467 non-null    object \n",
      " 2   가격      467 non-null    float64\n",
      " 3   셀프      467 non-null    object \n",
      " 4   상표      467 non-null    object \n",
      " 5   구       467 non-null    object \n",
      "dtypes: float64(1), object(5)\n",
      "memory usage: 25.5+ KB\n"
     ]
    }
   ],
   "source": [
    "stations.info()"
   ]
  },
  {
   "cell_type": "code",
   "execution_count": 74,
   "metadata": {},
   "outputs": [
    {
     "data": {
      "text/html": [
       "<div>\n",
       "<style scoped>\n",
       "    .dataframe tbody tr th:only-of-type {\n",
       "        vertical-align: middle;\n",
       "    }\n",
       "\n",
       "    .dataframe tbody tr th {\n",
       "        vertical-align: top;\n",
       "    }\n",
       "\n",
       "    .dataframe thead th {\n",
       "        text-align: right;\n",
       "    }\n",
       "</style>\n",
       "<table border=\"1\" class=\"dataframe\">\n",
       "  <thead>\n",
       "    <tr style=\"text-align: right;\">\n",
       "      <th></th>\n",
       "      <th>상호</th>\n",
       "      <th>주소</th>\n",
       "      <th>가격</th>\n",
       "      <th>셀프</th>\n",
       "      <th>상표</th>\n",
       "      <th>구</th>\n",
       "    </tr>\n",
       "  </thead>\n",
       "  <tbody>\n",
       "    <tr>\n",
       "      <th>0</th>\n",
       "      <td>(주)창원CW</td>\n",
       "      <td>서울 광진구 광나루로 460 (화양동)</td>\n",
       "      <td>1649.0</td>\n",
       "      <td>Y</td>\n",
       "      <td>현대오일뱅크</td>\n",
       "      <td>광진구</td>\n",
       "    </tr>\n",
       "    <tr>\n",
       "      <th>1</th>\n",
       "      <td>현대오일뱅크(주)직영 능동주유소</td>\n",
       "      <td>서울 광진구 천호대로 584 (능동)</td>\n",
       "      <td>1654.0</td>\n",
       "      <td>Y</td>\n",
       "      <td>현대오일뱅크</td>\n",
       "      <td>광진구</td>\n",
       "    </tr>\n",
       "    <tr>\n",
       "      <th>2</th>\n",
       "      <td>정해네트웍스(주)일진주유소</td>\n",
       "      <td>서울 광진구 동일로 413 (중곡동)</td>\n",
       "      <td>1667.0</td>\n",
       "      <td>Y</td>\n",
       "      <td>S-OIL</td>\n",
       "      <td>광진구</td>\n",
       "    </tr>\n",
       "    <tr>\n",
       "      <th>3</th>\n",
       "      <td>태양주유소</td>\n",
       "      <td>서울 광진구 동일로 345 (중곡동)</td>\n",
       "      <td>1675.0</td>\n",
       "      <td>N</td>\n",
       "      <td>현대오일뱅크</td>\n",
       "      <td>광진구</td>\n",
       "    </tr>\n",
       "    <tr>\n",
       "      <th>4</th>\n",
       "      <td>대원주유소</td>\n",
       "      <td>서울 광진구 용마산로 122 (중곡동)</td>\n",
       "      <td>1677.0</td>\n",
       "      <td>N</td>\n",
       "      <td>S-OIL</td>\n",
       "      <td>광진구</td>\n",
       "    </tr>\n",
       "    <tr>\n",
       "      <th>...</th>\n",
       "      <td>...</td>\n",
       "      <td>...</td>\n",
       "      <td>...</td>\n",
       "      <td>...</td>\n",
       "      <td>...</td>\n",
       "      <td>...</td>\n",
       "    </tr>\n",
       "    <tr>\n",
       "      <th>10</th>\n",
       "      <td>SK에너지(주)직영 대공원주유소</td>\n",
       "      <td>서울 관악구 과천대로 921 (남현동)</td>\n",
       "      <td>1739.0</td>\n",
       "      <td>N</td>\n",
       "      <td>SK에너지</td>\n",
       "      <td>관악구</td>\n",
       "    </tr>\n",
       "    <tr>\n",
       "      <th>11</th>\n",
       "      <td>현대오일뱅크(주)직영 문성골주유소</td>\n",
       "      <td>서울 관악구 문성로 97 (신림동)</td>\n",
       "      <td>1748.0</td>\n",
       "      <td>N</td>\n",
       "      <td>현대오일뱅크</td>\n",
       "      <td>관악구</td>\n",
       "    </tr>\n",
       "    <tr>\n",
       "      <th>12</th>\n",
       "      <td>유정주유소</td>\n",
       "      <td>서울 관악구 남부순환로 1691 (봉천동)</td>\n",
       "      <td>1769.0</td>\n",
       "      <td>N</td>\n",
       "      <td>SK에너지</td>\n",
       "      <td>관악구</td>\n",
       "    </tr>\n",
       "    <tr>\n",
       "      <th>13</th>\n",
       "      <td>(주)한유에너지행운셀프주유소</td>\n",
       "      <td>서울 관악구 남부순환로 1883 (봉천동)</td>\n",
       "      <td>1789.0</td>\n",
       "      <td>Y</td>\n",
       "      <td>SK에너지</td>\n",
       "      <td>관악구</td>\n",
       "    </tr>\n",
       "    <tr>\n",
       "      <th>14</th>\n",
       "      <td>CJ대한통운㈜ 신림주유소</td>\n",
       "      <td>서울 관악구 남부순환로 1515 (신림동)</td>\n",
       "      <td>1798.0</td>\n",
       "      <td>N</td>\n",
       "      <td>GS칼텍스</td>\n",
       "      <td>관악구</td>\n",
       "    </tr>\n",
       "  </tbody>\n",
       "</table>\n",
       "<p>467 rows × 6 columns</p>\n",
       "</div>"
      ],
      "text/plain": [
       "                    상호                       주소      가격 셀프      상표    구\n",
       "0              (주)창원CW    서울 광진구 광나루로 460 (화양동)  1649.0  Y  현대오일뱅크  광진구\n",
       "1    현대오일뱅크(주)직영 능동주유소     서울 광진구 천호대로 584 (능동)  1654.0  Y  현대오일뱅크  광진구\n",
       "2       정해네트웍스(주)일진주유소     서울 광진구 동일로 413 (중곡동)  1667.0  Y   S-OIL  광진구\n",
       "3                태양주유소     서울 광진구 동일로 345 (중곡동)  1675.0  N  현대오일뱅크  광진구\n",
       "4                대원주유소    서울 광진구 용마산로 122 (중곡동)  1677.0  N   S-OIL  광진구\n",
       "..                 ...                      ...     ... ..     ...  ...\n",
       "10   SK에너지(주)직영 대공원주유소    서울 관악구 과천대로 921 (남현동)  1739.0  N   SK에너지  관악구\n",
       "11  현대오일뱅크(주)직영 문성골주유소      서울 관악구 문성로 97 (신림동)  1748.0  N  현대오일뱅크  관악구\n",
       "12               유정주유소  서울 관악구 남부순환로 1691 (봉천동)  1769.0  N   SK에너지  관악구\n",
       "13     (주)한유에너지행운셀프주유소  서울 관악구 남부순환로 1883 (봉천동)  1789.0  Y   SK에너지  관악구\n",
       "14       CJ대한통운㈜ 신림주유소  서울 관악구 남부순환로 1515 (신림동)  1798.0  N   GS칼텍스  관악구\n",
       "\n",
       "[467 rows x 6 columns]"
      ]
     },
     "execution_count": 74,
     "metadata": {},
     "output_type": "execute_result"
    }
   ],
   "source": [
    "stations"
   ]
  },
  {
   "cell_type": "code",
   "execution_count": 75,
   "metadata": {},
   "outputs": [
    {
     "data": {
      "text/html": [
       "<div>\n",
       "<style scoped>\n",
       "    .dataframe tbody tr th:only-of-type {\n",
       "        vertical-align: middle;\n",
       "    }\n",
       "\n",
       "    .dataframe tbody tr th {\n",
       "        vertical-align: top;\n",
       "    }\n",
       "\n",
       "    .dataframe thead th {\n",
       "        text-align: right;\n",
       "    }\n",
       "</style>\n",
       "<table border=\"1\" class=\"dataframe\">\n",
       "  <thead>\n",
       "    <tr style=\"text-align: right;\">\n",
       "      <th></th>\n",
       "      <th>index</th>\n",
       "      <th>상호</th>\n",
       "      <th>주소</th>\n",
       "      <th>가격</th>\n",
       "      <th>셀프</th>\n",
       "      <th>상표</th>\n",
       "      <th>구</th>\n",
       "    </tr>\n",
       "  </thead>\n",
       "  <tbody>\n",
       "    <tr>\n",
       "      <th>462</th>\n",
       "      <td>10</td>\n",
       "      <td>SK에너지(주)직영 대공원주유소</td>\n",
       "      <td>서울 관악구 과천대로 921 (남현동)</td>\n",
       "      <td>1739.0</td>\n",
       "      <td>N</td>\n",
       "      <td>SK에너지</td>\n",
       "      <td>관악구</td>\n",
       "    </tr>\n",
       "    <tr>\n",
       "      <th>463</th>\n",
       "      <td>11</td>\n",
       "      <td>현대오일뱅크(주)직영 문성골주유소</td>\n",
       "      <td>서울 관악구 문성로 97 (신림동)</td>\n",
       "      <td>1748.0</td>\n",
       "      <td>N</td>\n",
       "      <td>현대오일뱅크</td>\n",
       "      <td>관악구</td>\n",
       "    </tr>\n",
       "    <tr>\n",
       "      <th>464</th>\n",
       "      <td>12</td>\n",
       "      <td>유정주유소</td>\n",
       "      <td>서울 관악구 남부순환로 1691 (봉천동)</td>\n",
       "      <td>1769.0</td>\n",
       "      <td>N</td>\n",
       "      <td>SK에너지</td>\n",
       "      <td>관악구</td>\n",
       "    </tr>\n",
       "    <tr>\n",
       "      <th>465</th>\n",
       "      <td>13</td>\n",
       "      <td>(주)한유에너지행운셀프주유소</td>\n",
       "      <td>서울 관악구 남부순환로 1883 (봉천동)</td>\n",
       "      <td>1789.0</td>\n",
       "      <td>Y</td>\n",
       "      <td>SK에너지</td>\n",
       "      <td>관악구</td>\n",
       "    </tr>\n",
       "    <tr>\n",
       "      <th>466</th>\n",
       "      <td>14</td>\n",
       "      <td>CJ대한통운㈜ 신림주유소</td>\n",
       "      <td>서울 관악구 남부순환로 1515 (신림동)</td>\n",
       "      <td>1798.0</td>\n",
       "      <td>N</td>\n",
       "      <td>GS칼텍스</td>\n",
       "      <td>관악구</td>\n",
       "    </tr>\n",
       "  </tbody>\n",
       "</table>\n",
       "</div>"
      ],
      "text/plain": [
       "     index                  상호                       주소      가격 셀프      상표  \\\n",
       "462     10   SK에너지(주)직영 대공원주유소    서울 관악구 과천대로 921 (남현동)  1739.0  N   SK에너지   \n",
       "463     11  현대오일뱅크(주)직영 문성골주유소      서울 관악구 문성로 97 (신림동)  1748.0  N  현대오일뱅크   \n",
       "464     12               유정주유소  서울 관악구 남부순환로 1691 (봉천동)  1769.0  N   SK에너지   \n",
       "465     13     (주)한유에너지행운셀프주유소  서울 관악구 남부순환로 1883 (봉천동)  1789.0  Y   SK에너지   \n",
       "466     14       CJ대한통운㈜ 신림주유소  서울 관악구 남부순환로 1515 (신림동)  1798.0  N   GS칼텍스   \n",
       "\n",
       "       구  \n",
       "462  관악구  \n",
       "463  관악구  \n",
       "464  관악구  \n",
       "465  관악구  \n",
       "466  관악구  "
      ]
     },
     "execution_count": 75,
     "metadata": {},
     "output_type": "execute_result"
    }
   ],
   "source": [
    "# 인덱스 재정렬\n",
    "stations.reset_index(inplace = True)\n",
    "stations.tail()"
   ]
  },
  {
   "cell_type": "code",
   "execution_count": 76,
   "metadata": {},
   "outputs": [
    {
     "data": {
      "text/html": [
       "<div>\n",
       "<style scoped>\n",
       "    .dataframe tbody tr th:only-of-type {\n",
       "        vertical-align: middle;\n",
       "    }\n",
       "\n",
       "    .dataframe tbody tr th {\n",
       "        vertical-align: top;\n",
       "    }\n",
       "\n",
       "    .dataframe thead th {\n",
       "        text-align: right;\n",
       "    }\n",
       "</style>\n",
       "<table border=\"1\" class=\"dataframe\">\n",
       "  <thead>\n",
       "    <tr style=\"text-align: right;\">\n",
       "      <th></th>\n",
       "      <th>상호</th>\n",
       "      <th>주소</th>\n",
       "      <th>가격</th>\n",
       "      <th>셀프</th>\n",
       "      <th>상표</th>\n",
       "      <th>구</th>\n",
       "    </tr>\n",
       "  </thead>\n",
       "  <tbody>\n",
       "    <tr>\n",
       "      <th>0</th>\n",
       "      <td>(주)창원CW</td>\n",
       "      <td>서울 광진구 광나루로 460 (화양동)</td>\n",
       "      <td>1649.0</td>\n",
       "      <td>Y</td>\n",
       "      <td>현대오일뱅크</td>\n",
       "      <td>광진구</td>\n",
       "    </tr>\n",
       "    <tr>\n",
       "      <th>1</th>\n",
       "      <td>현대오일뱅크(주)직영 능동주유소</td>\n",
       "      <td>서울 광진구 천호대로 584 (능동)</td>\n",
       "      <td>1654.0</td>\n",
       "      <td>Y</td>\n",
       "      <td>현대오일뱅크</td>\n",
       "      <td>광진구</td>\n",
       "    </tr>\n",
       "    <tr>\n",
       "      <th>2</th>\n",
       "      <td>정해네트웍스(주)일진주유소</td>\n",
       "      <td>서울 광진구 동일로 413 (중곡동)</td>\n",
       "      <td>1667.0</td>\n",
       "      <td>Y</td>\n",
       "      <td>S-OIL</td>\n",
       "      <td>광진구</td>\n",
       "    </tr>\n",
       "    <tr>\n",
       "      <th>3</th>\n",
       "      <td>태양주유소</td>\n",
       "      <td>서울 광진구 동일로 345 (중곡동)</td>\n",
       "      <td>1675.0</td>\n",
       "      <td>N</td>\n",
       "      <td>현대오일뱅크</td>\n",
       "      <td>광진구</td>\n",
       "    </tr>\n",
       "    <tr>\n",
       "      <th>4</th>\n",
       "      <td>대원주유소</td>\n",
       "      <td>서울 광진구 용마산로 122 (중곡동)</td>\n",
       "      <td>1677.0</td>\n",
       "      <td>N</td>\n",
       "      <td>S-OIL</td>\n",
       "      <td>광진구</td>\n",
       "    </tr>\n",
       "  </tbody>\n",
       "</table>\n",
       "</div>"
      ],
      "text/plain": [
       "                  상호                     주소      가격 셀프      상표    구\n",
       "0            (주)창원CW  서울 광진구 광나루로 460 (화양동)  1649.0  Y  현대오일뱅크  광진구\n",
       "1  현대오일뱅크(주)직영 능동주유소   서울 광진구 천호대로 584 (능동)  1654.0  Y  현대오일뱅크  광진구\n",
       "2     정해네트웍스(주)일진주유소   서울 광진구 동일로 413 (중곡동)  1667.0  Y   S-OIL  광진구\n",
       "3              태양주유소   서울 광진구 동일로 345 (중곡동)  1675.0  N  현대오일뱅크  광진구\n",
       "4              대원주유소  서울 광진구 용마산로 122 (중곡동)  1677.0  N   S-OIL  광진구"
      ]
     },
     "execution_count": 76,
     "metadata": {},
     "output_type": "execute_result"
    }
   ],
   "source": [
    "del stations[\"index\"]\n",
    "stations.head()"
   ]
  },
  {
   "cell_type": "code",
   "execution_count": 77,
   "metadata": {},
   "outputs": [
    {
     "data": {
      "text/html": [
       "<div>\n",
       "<style scoped>\n",
       "    .dataframe tbody tr th:only-of-type {\n",
       "        vertical-align: middle;\n",
       "    }\n",
       "\n",
       "    .dataframe tbody tr th {\n",
       "        vertical-align: top;\n",
       "    }\n",
       "\n",
       "    .dataframe thead th {\n",
       "        text-align: right;\n",
       "    }\n",
       "</style>\n",
       "<table border=\"1\" class=\"dataframe\">\n",
       "  <thead>\n",
       "    <tr style=\"text-align: right;\">\n",
       "      <th></th>\n",
       "      <th>상호</th>\n",
       "      <th>주소</th>\n",
       "      <th>가격</th>\n",
       "      <th>셀프</th>\n",
       "      <th>상표</th>\n",
       "      <th>구</th>\n",
       "    </tr>\n",
       "  </thead>\n",
       "  <tbody>\n",
       "    <tr>\n",
       "      <th>462</th>\n",
       "      <td>SK에너지(주)직영 대공원주유소</td>\n",
       "      <td>서울 관악구 과천대로 921 (남현동)</td>\n",
       "      <td>1739.0</td>\n",
       "      <td>N</td>\n",
       "      <td>SK에너지</td>\n",
       "      <td>관악구</td>\n",
       "    </tr>\n",
       "    <tr>\n",
       "      <th>463</th>\n",
       "      <td>현대오일뱅크(주)직영 문성골주유소</td>\n",
       "      <td>서울 관악구 문성로 97 (신림동)</td>\n",
       "      <td>1748.0</td>\n",
       "      <td>N</td>\n",
       "      <td>현대오일뱅크</td>\n",
       "      <td>관악구</td>\n",
       "    </tr>\n",
       "    <tr>\n",
       "      <th>464</th>\n",
       "      <td>유정주유소</td>\n",
       "      <td>서울 관악구 남부순환로 1691 (봉천동)</td>\n",
       "      <td>1769.0</td>\n",
       "      <td>N</td>\n",
       "      <td>SK에너지</td>\n",
       "      <td>관악구</td>\n",
       "    </tr>\n",
       "    <tr>\n",
       "      <th>465</th>\n",
       "      <td>(주)한유에너지행운셀프주유소</td>\n",
       "      <td>서울 관악구 남부순환로 1883 (봉천동)</td>\n",
       "      <td>1789.0</td>\n",
       "      <td>Y</td>\n",
       "      <td>SK에너지</td>\n",
       "      <td>관악구</td>\n",
       "    </tr>\n",
       "    <tr>\n",
       "      <th>466</th>\n",
       "      <td>CJ대한통운㈜ 신림주유소</td>\n",
       "      <td>서울 관악구 남부순환로 1515 (신림동)</td>\n",
       "      <td>1798.0</td>\n",
       "      <td>N</td>\n",
       "      <td>GS칼텍스</td>\n",
       "      <td>관악구</td>\n",
       "    </tr>\n",
       "  </tbody>\n",
       "</table>\n",
       "</div>"
      ],
      "text/plain": [
       "                     상호                       주소      가격 셀프      상표    구\n",
       "462   SK에너지(주)직영 대공원주유소    서울 관악구 과천대로 921 (남현동)  1739.0  N   SK에너지  관악구\n",
       "463  현대오일뱅크(주)직영 문성골주유소      서울 관악구 문성로 97 (신림동)  1748.0  N  현대오일뱅크  관악구\n",
       "464               유정주유소  서울 관악구 남부순환로 1691 (봉천동)  1769.0  N   SK에너지  관악구\n",
       "465     (주)한유에너지행운셀프주유소  서울 관악구 남부순환로 1883 (봉천동)  1789.0  Y   SK에너지  관악구\n",
       "466       CJ대한통운㈜ 신림주유소  서울 관악구 남부순환로 1515 (신림동)  1798.0  N   GS칼텍스  관악구"
      ]
     },
     "execution_count": 77,
     "metadata": {},
     "output_type": "execute_result"
    }
   ],
   "source": [
    "stations.tail()"
   ]
  },
  {
   "cell_type": "markdown",
   "metadata": {},
   "source": [
    "# 5. 주유 가격 정보 시각화"
   ]
  },
  {
   "cell_type": "code",
   "execution_count": 83,
   "metadata": {},
   "outputs": [],
   "source": [
    "import matplotlib.pyplot as plt\n",
    "import seaborn as sns\n",
    "import platform\n",
    "from matplotlib import font_manager, rc\n",
    "\n",
    "get_ipython().run_line_magic(\"matplotlib\", \"inline\")\n",
    "path = \"c:/Windows/Fonts/malgun.ttf\"\n",
    "if platform.system() == \"Windows\":\n",
    "    font_name = font_manager.FontProperties(fname = path).get_name()\n",
    "    rc('font', family = font_name)"
   ]
  },
  {
   "cell_type": "code",
   "execution_count": 84,
   "metadata": {},
   "outputs": [
    {
     "data": {
      "text/html": [
       "<div>\n",
       "<style scoped>\n",
       "    .dataframe tbody tr th:only-of-type {\n",
       "        vertical-align: middle;\n",
       "    }\n",
       "\n",
       "    .dataframe tbody tr th {\n",
       "        vertical-align: top;\n",
       "    }\n",
       "\n",
       "    .dataframe thead th {\n",
       "        text-align: right;\n",
       "    }\n",
       "</style>\n",
       "<table border=\"1\" class=\"dataframe\">\n",
       "  <thead>\n",
       "    <tr style=\"text-align: right;\">\n",
       "      <th></th>\n",
       "      <th>상호</th>\n",
       "      <th>주소</th>\n",
       "      <th>가격</th>\n",
       "      <th>셀프</th>\n",
       "      <th>상표</th>\n",
       "      <th>구</th>\n",
       "    </tr>\n",
       "  </thead>\n",
       "  <tbody>\n",
       "    <tr>\n",
       "      <th>0</th>\n",
       "      <td>(주)창원CW</td>\n",
       "      <td>서울 광진구 광나루로 460 (화양동)</td>\n",
       "      <td>1649.0</td>\n",
       "      <td>Y</td>\n",
       "      <td>현대오일뱅크</td>\n",
       "      <td>광진구</td>\n",
       "    </tr>\n",
       "    <tr>\n",
       "      <th>1</th>\n",
       "      <td>현대오일뱅크(주)직영 능동주유소</td>\n",
       "      <td>서울 광진구 천호대로 584 (능동)</td>\n",
       "      <td>1654.0</td>\n",
       "      <td>Y</td>\n",
       "      <td>현대오일뱅크</td>\n",
       "      <td>광진구</td>\n",
       "    </tr>\n",
       "    <tr>\n",
       "      <th>2</th>\n",
       "      <td>정해네트웍스(주)일진주유소</td>\n",
       "      <td>서울 광진구 동일로 413 (중곡동)</td>\n",
       "      <td>1667.0</td>\n",
       "      <td>Y</td>\n",
       "      <td>S-OIL</td>\n",
       "      <td>광진구</td>\n",
       "    </tr>\n",
       "    <tr>\n",
       "      <th>3</th>\n",
       "      <td>태양주유소</td>\n",
       "      <td>서울 광진구 동일로 345 (중곡동)</td>\n",
       "      <td>1675.0</td>\n",
       "      <td>N</td>\n",
       "      <td>현대오일뱅크</td>\n",
       "      <td>광진구</td>\n",
       "    </tr>\n",
       "    <tr>\n",
       "      <th>4</th>\n",
       "      <td>대원주유소</td>\n",
       "      <td>서울 광진구 용마산로 122 (중곡동)</td>\n",
       "      <td>1677.0</td>\n",
       "      <td>N</td>\n",
       "      <td>S-OIL</td>\n",
       "      <td>광진구</td>\n",
       "    </tr>\n",
       "  </tbody>\n",
       "</table>\n",
       "</div>"
      ],
      "text/plain": [
       "                  상호                     주소      가격 셀프      상표    구\n",
       "0            (주)창원CW  서울 광진구 광나루로 460 (화양동)  1649.0  Y  현대오일뱅크  광진구\n",
       "1  현대오일뱅크(주)직영 능동주유소   서울 광진구 천호대로 584 (능동)  1654.0  Y  현대오일뱅크  광진구\n",
       "2     정해네트웍스(주)일진주유소   서울 광진구 동일로 413 (중곡동)  1667.0  Y   S-OIL  광진구\n",
       "3              태양주유소   서울 광진구 동일로 345 (중곡동)  1675.0  N  현대오일뱅크  광진구\n",
       "4              대원주유소  서울 광진구 용마산로 122 (중곡동)  1677.0  N   S-OIL  광진구"
      ]
     },
     "execution_count": 84,
     "metadata": {},
     "output_type": "execute_result"
    }
   ],
   "source": [
    "stations.head()"
   ]
  },
  {
   "cell_type": "code",
   "execution_count": 85,
   "metadata": {},
   "outputs": [
    {
     "data": {
      "text/plain": [
       "<matplotlib.axes._subplots.AxesSubplot at 0x1823fa9c550>"
      ]
     },
     "execution_count": 85,
     "metadata": {},
     "output_type": "execute_result"
    },
    {
     "data": {
      "image/png": "[encoded data removed]",
      "text/plain": [
       "<Figure size 864x576 with 1 Axes>"
      ]
     },
     "metadata": {
      "needs_background": "light"
     },
     "output_type": "display_data"
    }
   ],
   "source": [
    "stations.boxplot(column=\"가격\", by=\"셀프\", figsize = (12,8))"
   ]
  },
  {
   "cell_type": "code",
   "execution_count": 87,
   "metadata": {},
   "outputs": [
    {
     "data": {
      "image/png": "[encoded data removed]",
      "text/plain": [
       "<Figure size 864x576 with 1 Axes>"
      ]
     },
     "metadata": {
      "needs_background": "light"
     },
     "output_type": "display_data"
    }
   ],
   "source": [
    "plt.figure(figsize = (12,8))\n",
    "sns.boxplot(x=\"셀프\", y=\"가격\", data=stations, palette = \"Set3\")\n",
    "plt.grid()\n",
    "plt.show()"
   ]
  },
  {
   "cell_type": "markdown",
   "metadata": {},
   "source": [
    "#### 1. 셀프주유소가 아닌 곳은 outlier가 많다\n",
    "#### 2. 셀프주유소가 셀프가 아닌 곳보다 중간값이 더 낮다\n",
    "#### 3. 셀프 아닌 곳은 중간값에 비해 IQR이 크다, 즉 평균이 높단 얘기인데 특정 주유소가 비싸다고 생각하면 된다."
   ]
  },
  {
   "cell_type": "code",
   "execution_count": 90,
   "metadata": {},
   "outputs": [
    {
     "data": {
      "image/png": "[encoded data removed]",
      "text/plain": [
       "<Figure size 864x576 with 1 Axes>"
      ]
     },
     "metadata": {
      "needs_background": "light"
     },
     "output_type": "display_data"
    }
   ],
   "source": [
    "plt.figure(figsize = (12,8))\n",
    "sns.boxplot(x = \"상표\", y=\"가격\", hue = \"셀프\", data = stations, palette = \"Set3\" )\n",
    "plt.grid()\n",
    "plt.show()"
   ]
  },
  {
   "cell_type": "markdown",
   "metadata": {},
   "source": [
    "#### 1. 서울시 SK에너지 주유소는 셀프주유소가 가장 비싸다, \n",
    "#### 2. 전반적으로 sk가 비싸다\n",
    "#### 3. 전반적으로 현대오일뱅크와 S-OIL이 저렴하다"
   ]
  },
  {
   "cell_type": "code",
   "execution_count": null,
   "metadata": {},
   "outputs": [],
   "source": [
    "# 지도 시각화"
   ]
  },
  {
   "cell_type": "code",
   "execution_count": 92,
   "metadata": {},
   "outputs": [],
   "source": [
    "import json\n",
    "import folium\n",
    "import warnings\n",
    "\n",
    "warnings.simplefilter(action=\"ignore\", category=FutureWarning)"
   ]
  },
  {
   "cell_type": "code",
   "execution_count": 95,
   "metadata": {},
   "outputs": [
    {
     "data": {
      "text/html": [
       "<div>\n",
       "<style scoped>\n",
       "    .dataframe tbody tr th:only-of-type {\n",
       "        vertical-align: middle;\n",
       "    }\n",
       "\n",
       "    .dataframe tbody tr th {\n",
       "        vertical-align: top;\n",
       "    }\n",
       "\n",
       "    .dataframe thead th {\n",
       "        text-align: right;\n",
       "    }\n",
       "</style>\n",
       "<table border=\"1\" class=\"dataframe\">\n",
       "  <thead>\n",
       "    <tr style=\"text-align: right;\">\n",
       "      <th></th>\n",
       "      <th>상호</th>\n",
       "      <th>주소</th>\n",
       "      <th>가격</th>\n",
       "      <th>셀프</th>\n",
       "      <th>상표</th>\n",
       "      <th>구</th>\n",
       "    </tr>\n",
       "  </thead>\n",
       "  <tbody>\n",
       "    <tr>\n",
       "      <th>341</th>\n",
       "      <td>서남주유소</td>\n",
       "      <td>서울 중구 통일로 30</td>\n",
       "      <td>2552.0</td>\n",
       "      <td>N</td>\n",
       "      <td>SK에너지</td>\n",
       "      <td>중구</td>\n",
       "    </tr>\n",
       "    <tr>\n",
       "      <th>306</th>\n",
       "      <td>서계주유소</td>\n",
       "      <td>서울 용산구 청파로 367 (서계동)</td>\n",
       "      <td>2498.0</td>\n",
       "      <td>N</td>\n",
       "      <td>GS칼텍스</td>\n",
       "      <td>용산구</td>\n",
       "    </tr>\n",
       "    <tr>\n",
       "      <th>340</th>\n",
       "      <td>필동주유소</td>\n",
       "      <td>서울 중구  퇴계로 196 (필동2가)</td>\n",
       "      <td>2369.0</td>\n",
       "      <td>N</td>\n",
       "      <td>GS칼텍스</td>\n",
       "      <td>중구</td>\n",
       "    </tr>\n",
       "    <tr>\n",
       "      <th>339</th>\n",
       "      <td>SK에너지(주) 퇴계로주유소</td>\n",
       "      <td>서울 중구 퇴계로 228 (필동2가)</td>\n",
       "      <td>2322.0</td>\n",
       "      <td>N</td>\n",
       "      <td>SK에너지</td>\n",
       "      <td>중구</td>\n",
       "    </tr>\n",
       "    <tr>\n",
       "      <th>305</th>\n",
       "      <td>동자동주유소</td>\n",
       "      <td>서울 용산구 한강대로104길 6 (동자동)</td>\n",
       "      <td>2290.0</td>\n",
       "      <td>N</td>\n",
       "      <td>SK에너지</td>\n",
       "      <td>용산구</td>\n",
       "    </tr>\n",
       "    <tr>\n",
       "      <th>338</th>\n",
       "      <td>약수주유소</td>\n",
       "      <td>서울 중구 다산로 173</td>\n",
       "      <td>2278.0</td>\n",
       "      <td>N</td>\n",
       "      <td>GS칼텍스</td>\n",
       "      <td>중구</td>\n",
       "    </tr>\n",
       "    <tr>\n",
       "      <th>390</th>\n",
       "      <td>뉴서울(강남)</td>\n",
       "      <td>서울 강남구 언주로 716</td>\n",
       "      <td>2275.0</td>\n",
       "      <td>N</td>\n",
       "      <td>SK에너지</td>\n",
       "      <td>강남구</td>\n",
       "    </tr>\n",
       "    <tr>\n",
       "      <th>304</th>\n",
       "      <td>한남지점</td>\n",
       "      <td>서울 용산구 한남대로21길 4 (한남동)</td>\n",
       "      <td>2198.0</td>\n",
       "      <td>N</td>\n",
       "      <td>SK에너지</td>\n",
       "      <td>용산구</td>\n",
       "    </tr>\n",
       "    <tr>\n",
       "      <th>331</th>\n",
       "      <td>(주)대양씨앤씨 사직주유소</td>\n",
       "      <td>서울 종로구 사직로 65 (사직동)</td>\n",
       "      <td>2198.0</td>\n",
       "      <td>N</td>\n",
       "      <td>GS칼텍스</td>\n",
       "      <td>종로구</td>\n",
       "    </tr>\n",
       "    <tr>\n",
       "      <th>303</th>\n",
       "      <td>에너비스</td>\n",
       "      <td>서울 용산구 한남대로 82 (한남동)</td>\n",
       "      <td>2198.0</td>\n",
       "      <td>N</td>\n",
       "      <td>SK에너지</td>\n",
       "      <td>용산구</td>\n",
       "    </tr>\n",
       "  </tbody>\n",
       "</table>\n",
       "</div>"
      ],
      "text/plain": [
       "                  상호                       주소      가격 셀프     상표    구\n",
       "341            서남주유소             서울 중구 통일로 30  2552.0  N  SK에너지   중구\n",
       "306            서계주유소     서울 용산구 청파로 367 (서계동)  2498.0  N  GS칼텍스  용산구\n",
       "340            필동주유소    서울 중구  퇴계로 196 (필동2가)  2369.0  N  GS칼텍스   중구\n",
       "339  SK에너지(주) 퇴계로주유소     서울 중구 퇴계로 228 (필동2가)  2322.0  N  SK에너지   중구\n",
       "305           동자동주유소  서울 용산구 한강대로104길 6 (동자동)  2290.0  N  SK에너지  용산구\n",
       "338            약수주유소            서울 중구 다산로 173  2278.0  N  GS칼텍스   중구\n",
       "390          뉴서울(강남)           서울 강남구 언주로 716  2275.0  N  SK에너지  강남구\n",
       "304             한남지점   서울 용산구 한남대로21길 4 (한남동)  2198.0  N  SK에너지  용산구\n",
       "331   (주)대양씨앤씨 사직주유소      서울 종로구 사직로 65 (사직동)  2198.0  N  GS칼텍스  종로구\n",
       "303             에너비스     서울 용산구 한남대로 82 (한남동)  2198.0  N  SK에너지  용산구"
      ]
     },
     "execution_count": 95,
     "metadata": {},
     "output_type": "execute_result"
    }
   ],
   "source": [
    "# 가장 비싼 주유소 10개\n",
    "stations.sort_values(by=\"가격\", ascending = False).head(10)"
   ]
  },
  {
   "cell_type": "code",
   "execution_count": 96,
   "metadata": {},
   "outputs": [
    {
     "data": {
      "text/html": [
       "<div>\n",
       "<style scoped>\n",
       "    .dataframe tbody tr th:only-of-type {\n",
       "        vertical-align: middle;\n",
       "    }\n",
       "\n",
       "    .dataframe tbody tr th {\n",
       "        vertical-align: top;\n",
       "    }\n",
       "\n",
       "    .dataframe thead th {\n",
       "        text-align: right;\n",
       "    }\n",
       "</style>\n",
       "<table border=\"1\" class=\"dataframe\">\n",
       "  <thead>\n",
       "    <tr style=\"text-align: right;\">\n",
       "      <th></th>\n",
       "      <th>상호</th>\n",
       "      <th>주소</th>\n",
       "      <th>가격</th>\n",
       "      <th>셀프</th>\n",
       "      <th>상표</th>\n",
       "      <th>구</th>\n",
       "    </tr>\n",
       "  </thead>\n",
       "  <tbody>\n",
       "    <tr>\n",
       "      <th>79</th>\n",
       "      <td>동서울고속주유소</td>\n",
       "      <td>서울 동대문구 한천로 414</td>\n",
       "      <td>1595.0</td>\n",
       "      <td>Y</td>\n",
       "      <td>SK에너지</td>\n",
       "      <td>동대문구</td>\n",
       "    </tr>\n",
       "    <tr>\n",
       "      <th>268</th>\n",
       "      <td>도림주유소</td>\n",
       "      <td>서울 영등포구 도림로 343 (도림동)</td>\n",
       "      <td>1598.0</td>\n",
       "      <td>Y</td>\n",
       "      <td>알뜰주유소</td>\n",
       "      <td>영등포구</td>\n",
       "    </tr>\n",
       "    <tr>\n",
       "      <th>267</th>\n",
       "      <td>남서울고속주유소</td>\n",
       "      <td>서울 영등포구 가마산로 367 (대림동)</td>\n",
       "      <td>1598.0</td>\n",
       "      <td>Y</td>\n",
       "      <td>SK에너지</td>\n",
       "      <td>영등포구</td>\n",
       "    </tr>\n",
       "    <tr>\n",
       "      <th>269</th>\n",
       "      <td>성락주유소</td>\n",
       "      <td>서울 영등포구 가마산로 414 (신길동)</td>\n",
       "      <td>1598.0</td>\n",
       "      <td>Y</td>\n",
       "      <td>S-OIL</td>\n",
       "      <td>영등포구</td>\n",
       "    </tr>\n",
       "    <tr>\n",
       "      <th>270</th>\n",
       "      <td>영등포제일셀프주유소</td>\n",
       "      <td>서울 영등포구 가마산로 379</td>\n",
       "      <td>1598.0</td>\n",
       "      <td>Y</td>\n",
       "      <td>현대오일뱅크</td>\n",
       "      <td>영등포구</td>\n",
       "    </tr>\n",
       "    <tr>\n",
       "      <th>211</th>\n",
       "      <td>송파알찬주유소</td>\n",
       "      <td>서울 송파구 백제고분로 229 (삼전동)</td>\n",
       "      <td>1610.0</td>\n",
       "      <td>Y</td>\n",
       "      <td>S-OIL</td>\n",
       "      <td>송파구</td>\n",
       "    </tr>\n",
       "    <tr>\n",
       "      <th>242</th>\n",
       "      <td>개나리Self주유소</td>\n",
       "      <td>서울 양천구 남부순환로 442 (신월동)</td>\n",
       "      <td>1612.0</td>\n",
       "      <td>Y</td>\n",
       "      <td>SK에너지</td>\n",
       "      <td>양천구</td>\n",
       "    </tr>\n",
       "    <tr>\n",
       "      <th>244</th>\n",
       "      <td>형산석유(주)원주유소</td>\n",
       "      <td>서울 양천구 남부순환로 408</td>\n",
       "      <td>1617.0</td>\n",
       "      <td>N</td>\n",
       "      <td>현대오일뱅크</td>\n",
       "      <td>양천구</td>\n",
       "    </tr>\n",
       "    <tr>\n",
       "      <th>243</th>\n",
       "      <td>현대주유소</td>\n",
       "      <td>서울 양천구 남부순환로 372 (신월동)</td>\n",
       "      <td>1617.0</td>\n",
       "      <td>Y</td>\n",
       "      <td>S-OIL</td>\n",
       "      <td>양천구</td>\n",
       "    </tr>\n",
       "    <tr>\n",
       "      <th>407</th>\n",
       "      <td>수유동주유소</td>\n",
       "      <td>서울 강북구 도봉로 395 (수유동)</td>\n",
       "      <td>1617.0</td>\n",
       "      <td>Y</td>\n",
       "      <td>GS칼텍스</td>\n",
       "      <td>강북구</td>\n",
       "    </tr>\n",
       "  </tbody>\n",
       "</table>\n",
       "</div>"
      ],
      "text/plain": [
       "              상호                      주소      가격 셀프      상표     구\n",
       "79      동서울고속주유소         서울 동대문구 한천로 414  1595.0  Y   SK에너지  동대문구\n",
       "268        도림주유소   서울 영등포구 도림로 343 (도림동)  1598.0  Y   알뜰주유소  영등포구\n",
       "267     남서울고속주유소  서울 영등포구 가마산로 367 (대림동)  1598.0  Y   SK에너지  영등포구\n",
       "269        성락주유소  서울 영등포구 가마산로 414 (신길동)  1598.0  Y   S-OIL  영등포구\n",
       "270   영등포제일셀프주유소        서울 영등포구 가마산로 379  1598.0  Y  현대오일뱅크  영등포구\n",
       "211      송파알찬주유소  서울 송파구 백제고분로 229 (삼전동)  1610.0  Y   S-OIL   송파구\n",
       "242   개나리Self주유소  서울 양천구 남부순환로 442 (신월동)  1612.0  Y   SK에너지   양천구\n",
       "244  형산석유(주)원주유소        서울 양천구 남부순환로 408  1617.0  N  현대오일뱅크   양천구\n",
       "243        현대주유소  서울 양천구 남부순환로 372 (신월동)  1617.0  Y   S-OIL   양천구\n",
       "407       수유동주유소    서울 강북구 도봉로 395 (수유동)  1617.0  Y   GS칼텍스   강북구"
      ]
     },
     "execution_count": 96,
     "metadata": {},
     "output_type": "execute_result"
    }
   ],
   "source": [
    "# 가장 값싼 주유소 10개\n",
    "stations.sort_values(by=\"가격\", ascending = True).head(10)"
   ]
  },
  {
   "cell_type": "code",
   "execution_count": 100,
   "metadata": {},
   "outputs": [
    {
     "data": {
      "text/html": [
       "<div>\n",
       "<style scoped>\n",
       "    .dataframe tbody tr th:only-of-type {\n",
       "        vertical-align: middle;\n",
       "    }\n",
       "\n",
       "    .dataframe tbody tr th {\n",
       "        vertical-align: top;\n",
       "    }\n",
       "\n",
       "    .dataframe thead th {\n",
       "        text-align: right;\n",
       "    }\n",
       "</style>\n",
       "<table border=\"1\" class=\"dataframe\">\n",
       "  <thead>\n",
       "    <tr style=\"text-align: right;\">\n",
       "      <th></th>\n",
       "      <th>가격</th>\n",
       "    </tr>\n",
       "    <tr>\n",
       "      <th>구</th>\n",
       "      <th></th>\n",
       "    </tr>\n",
       "  </thead>\n",
       "  <tbody>\n",
       "    <tr>\n",
       "      <th>강남구</th>\n",
       "      <td>1882.371429</td>\n",
       "    </tr>\n",
       "    <tr>\n",
       "      <th>강동구</th>\n",
       "      <td>1779.375000</td>\n",
       "    </tr>\n",
       "    <tr>\n",
       "      <th>강북구</th>\n",
       "      <td>1648.615385</td>\n",
       "    </tr>\n",
       "    <tr>\n",
       "      <th>강서구</th>\n",
       "      <td>1694.031250</td>\n",
       "    </tr>\n",
       "    <tr>\n",
       "      <th>관악구</th>\n",
       "      <td>1725.466667</td>\n",
       "    </tr>\n",
       "  </tbody>\n",
       "</table>\n",
       "</div>"
      ],
      "text/plain": [
       "              가격\n",
       "구               \n",
       "강남구  1882.371429\n",
       "강동구  1779.375000\n",
       "강북구  1648.615385\n",
       "강서구  1694.031250\n",
       "관악구  1725.466667"
      ]
     },
     "execution_count": 100,
     "metadata": {},
     "output_type": "execute_result"
    }
   ],
   "source": [
    "import numpy as np\n",
    "\n",
    "gu_data = pd.pivot_table(data=stations, index= \"구\", values=\"가격\", aggfunc = np.mean)\n",
    "gu_data.head()"
   ]
  },
  {
   "cell_type": "code",
   "execution_count": 107,
   "metadata": {},
   "outputs": [
    {
     "data": {
      "text/html": [
       "<div style=\"width:100%;\"><div style=\"position:relative;width:100%;height:0;padding-bottom:60%;\"><span style=\"color:#565656\">Make this Notebook Trusted to load map: File -> Trust Notebook</span><iframe src=\"about:blank\" style=\"position:absolute;width:100%;height:100%;left:0;top:0;border:none !important;\" data-html=%3C%21DOCTYPE%20html%3E%0A%3Chead%3E%20%20%20%20%0A%20%20%20%20%3Cmeta%20http-equiv%3D%22content-type%22%20content%3D%22text/html%3B%20charset%3DUTF-8%22%20/%3E%0A%20%20%20%20%0A%20%20%20%20%20%20%20%20%3Cscript%3E%0A%20%20%20%20%20%20%20%20%20%20%20%20L_NO_TOUCH%20%3D%20false%3B%0A%20%20%20%20%20%20%20%20%20%20%20%20L_DISABLE_3D%20%3D%20false%3B%0A%20%20%20%20%20%20%20%20%3C/script%3E%0A%20%20%20%20%0A%20%20%20%20%3Cstyle%3Ehtml%2C%20body%20%7Bwidth%3A%20100%25%3Bheight%3A%20100%25%3Bmargin%3A%200%3Bpadding%3A%200%3B%7D%3C/style%3E%0A%20%20%20%20%3Cstyle%3E%23map%20%7Bposition%3Aabsolute%3Btop%3A0%3Bbottom%3A0%3Bright%3A0%3Bleft%3A0%3B%7D%3C/style%3E%0A%20%20%20%20%3Cscript%20src%3D%22https%3A//cdn.jsdelivr.net/npm/leaflet%401.6.0/dist/leaflet.js%22%3E%3C/script%3E%0A%20%20%20%20%3Cscript%20src%3D%22https%3A//code.jquery.com/jquery-1.12.4.min.js%22%3E%3C/script%3E%0A%20%20%20%20%3Cscript%20src%3D%22https%3A//maxcdn.bootstrapcdn.com/bootstrap/3.2.0/js/bootstrap.min.js%22%3E%3C/script%3E%0A%20%20%20%20%3Cscript%20src%3D%22https%3A//cdnjs.cloudflare.com/ajax/libs/Leaflet.awesome-markers/2.0.2/leaflet.awesome-markers.js%22%3E%3C/script%3E%0A%20%20%20%20%3Clink%20rel%3D%22stylesheet%22%20href%3D%22https%3A//cdn.jsdelivr.net/npm/leaflet%401.6.0/dist/leaflet.css%22/%3E%0A%20%20%20%20%3Clink%20rel%3D%22stylesheet%22%20href%3D%22https%3A//maxcdn.bootstrapcdn.com/bootstrap/3.2.0/css/bootstrap.min.css%22/%3E%0A%20%20%20%20%3Clink%20rel%3D%22stylesheet%22%20href%3D%22https%3A//maxcdn.bootstrapcdn.com/bootstrap/3.2.0/css/bootstrap-theme.min.css%22/%3E%0A%20%20%20%20%3Clink%20rel%3D%22stylesheet%22%20href%3D%22https%3A//maxcdn.bootstrapcdn.com/font-awesome/4.6.3/css/font-awesome.min.css%22/%3E%0A%20%20%20%20%3Clink%20rel%3D%22stylesheet%22%20href%3D%22https%3A//cdnjs.cloudflare.com/ajax/libs/Leaflet.awesome-markers/2.0.2/leaflet.awesome-markers.css%22/%3E%0A%20%20%20%20%3Clink%20rel%3D%22stylesheet%22%20href%3D%22https%3A//cdn.jsdelivr.net/gh/python-visualization/folium/folium/templates/leaflet.awesome.rotate.min.css%22/%3E%0A%20%20%20%20%0A%20%20%20%20%20%20%20%20%20%20%20%20%3Cmeta%20name%3D%22viewport%22%20content%3D%22width%3Ddevice-width%2C%0A%20%20%20%20%20%20%20%20%20%20%20%20%20%20%20%20initial-scale%3D1.0%2C%20maximum-scale%3D1.0%2C%20user-scalable%3Dno%22%20/%3E%0A%20%20%20%20%20%20%20%20%20%20%20%20%3Cstyle%3E%0A%20%20%20%20%20%20%20%20%20%20%20%20%20%20%20%20%23map_f5b74ecf2c73488fb96f9fea9c11802c%20%7B%0A%20%20%20%20%20%20%20%20%20%20%20%20%20%20%20%20%20%20%20%20position%3A%20relative%3B%0A%20%20%20%20%20%20%20%20%20%20%20%20%20%20%20%20%20%20%20%20width%3A%20100.0%25%3B%0A%20%20%20%20%20%20%20%20%20%20%20%20%20%20%20%20%20%20%20%20height%3A%20100.0%25%3B%0A%20%20%20%20%20%20%20%20%20%20%20%20%20%20%20%20%20%20%20%20left%3A%200.0%25%3B%0A%20%20%20%20%20%20%20%20%20%20%20%20%20%20%20%20%20%20%20%20top%3A%200.0%25%3B%0A%20%20%20%20%20%20%20%20%20%20%20%20%20%20%20%20%7D%0A%20%20%20%20%20%20%20%20%20%20%20%20%3C/style%3E%0A%20%20%20%20%20%20%20%20%0A%20%20%20%20%3Cscript%20src%3D%22https%3A//cdnjs.cloudflare.com/ajax/libs/d3/3.5.5/d3.min.js%22%3E%3C/script%3E%0A%3C/head%3E%0A%3Cbody%3E%20%20%20%20%0A%20%20%20%20%0A%20%20%20%20%20%20%20%20%20%20%20%20%3Cdiv%20class%3D%22folium-map%22%20id%3D%22map_f5b74ecf2c73488fb96f9fea9c11802c%22%20%3E%3C/div%3E%0A%20%20%20%20%20%20%20%20%0A%3C/body%3E%0A%3Cscript%3E%20%20%20%20%0A%20%20%20%20%0A%20%20%20%20%20%20%20%20%20%20%20%20var%20map_f5b74ecf2c73488fb96f9fea9c11802c%20%3D%20L.map%28%0A%20%20%20%20%20%20%20%20%20%20%20%20%20%20%20%20%22map_f5b74ecf2c73488fb96f9fea9c11802c%22%2C%0A%20%20%20%20%20%20%20%20%20%20%20%20%20%20%20%20%7B%0A%20%20%20%20%20%20%20%20%20%20%20%20%20%20%20%20%20%20%20%20center%3A%20%5B37.5502%2C%20126.982%5D%2C%0A%20%20%20%20%20%20%20%20%20%20%20%20%20%20%20%20%20%20%20%20crs%3A%20L.CRS.EPSG3857%2C%0A%20%20%20%20%20%20%20%20%20%20%20%20%20%20%20%20%20%20%20%20zoom%3A%2010.5%2C%0A%20%20%20%20%20%20%20%20%20%20%20%20%20%20%20%20%20%20%20%20zoomControl%3A%20true%2C%0A%20%20%20%20%20%20%20%20%20%20%20%20%20%20%20%20%20%20%20%20preferCanvas%3A%20false%2C%0A%20%20%20%20%20%20%20%20%20%20%20%20%20%20%20%20%7D%0A%20%20%20%20%20%20%20%20%20%20%20%20%29%3B%0A%0A%20%20%20%20%20%20%20%20%20%20%20%20%0A%0A%20%20%20%20%20%20%20%20%0A%20%20%20%20%0A%20%20%20%20%20%20%20%20%20%20%20%20var%20tile_layer_d9a4d08f3161449b98a35372167debfb%20%3D%20L.tileLayer%28%0A%20%20%20%20%20%20%20%20%20%20%20%20%20%20%20%20%22https%3A//stamen-tiles-%7Bs%7D.a.ssl.fastly.net/toner/%7Bz%7D/%7Bx%7D/%7By%7D.png%22%2C%0A%20%20%20%20%20%20%20%20%20%20%20%20%20%20%20%20%7B%22attribution%22%3A%20%22Map%20tiles%20by%20%5Cu003ca%20href%3D%5C%22http%3A//stamen.com%5C%22%5Cu003eStamen%20Design%5Cu003c/a%5Cu003e%2C%20under%20%5Cu003ca%20href%3D%5C%22http%3A//creativecommons.org/licenses/by/3.0%5C%22%5Cu003eCC%20BY%203.0%5Cu003c/a%5Cu003e.%20Data%20by%20%5Cu0026copy%3B%20%5Cu003ca%20href%3D%5C%22http%3A//openstreetmap.org%5C%22%5Cu003eOpenStreetMap%5Cu003c/a%5Cu003e%2C%20under%20%5Cu003ca%20href%3D%5C%22http%3A//www.openstreetmap.org/copyright%5C%22%5Cu003eODbL%5Cu003c/a%5Cu003e.%22%2C%20%22detectRetina%22%3A%20false%2C%20%22maxNativeZoom%22%3A%2018%2C%20%22maxZoom%22%3A%2018%2C%20%22minZoom%22%3A%200%2C%20%22noWrap%22%3A%20false%2C%20%22opacity%22%3A%201%2C%20%22subdomains%22%3A%20%22abc%22%2C%20%22tms%22%3A%20false%7D%0A%20%20%20%20%20%20%20%20%20%20%20%20%29.addTo%28map_f5b74ecf2c73488fb96f9fea9c11802c%29%3B%0A%20%20%20%20%20%20%20%20%0A%20%20%20%20%0A%20%20%20%20%20%20%20%20%20%20%20%20var%20choropleth_dba6607ade9648d0ba1226c34f0d0b70%20%3D%20L.featureGroup%28%0A%20%20%20%20%20%20%20%20%20%20%20%20%20%20%20%20%7B%7D%0A%20%20%20%20%20%20%20%20%20%20%20%20%29.addTo%28map_f5b74ecf2c73488fb96f9fea9c11802c%29%3B%0A%20%20%20%20%20%20%20%20%0A%20%20%20%20%0A%20%20%20%20%20%20%20%20function%20geo_json_60fd0cf868b74f4da7cce6e59ae221a8_styler%28feature%29%20%7B%0A%20%20%20%20%20%20%20%20%20%20%20%20switch%28feature.id%29%20%7B%0A%20%20%20%20%20%20%20%20%20%20%20%20%20%20%20%20case%20%22%5Cuac15%5Cub3d9%5Cuad6c%22%3A%20case%20%22%5Cuc11c%5Cucd08%5Cuad6c%22%3A%20case%20%22%5Cuc601%5Cub4f1%5Cud3ec%5Cuad6c%22%3A%20case%20%22%5Cub9c8%5Cud3ec%5Cuad6c%22%3A%20case%20%22%5Cuc131%5Cub3d9%5Cuad6c%22%3A%20%0A%20%20%20%20%20%20%20%20%20%20%20%20%20%20%20%20%20%20%20%20return%20%7B%22color%22%3A%20%22black%22%2C%20%22fillColor%22%3A%20%22%23d4b9da%22%2C%20%22fillOpacity%22%3A%200.6%2C%20%22opacity%22%3A%201%2C%20%22weight%22%3A%201%7D%3B%0A%20%20%20%20%20%20%20%20%20%20%20%20%20%20%20%20case%20%22%5Cuac15%5Cub0a8%5Cuad6c%22%3A%20%0A%20%20%20%20%20%20%20%20%20%20%20%20%20%20%20%20%20%20%20%20return%20%7B%22color%22%3A%20%22black%22%2C%20%22fillColor%22%3A%20%22%23c994c7%22%2C%20%22fillOpacity%22%3A%200.6%2C%20%22opacity%22%3A%201%2C%20%22weight%22%3A%201%7D%3B%0A%20%20%20%20%20%20%20%20%20%20%20%20%20%20%20%20case%20%22%5Cuc6a9%5Cuc0b0%5Cuad6c%22%3A%20case%20%22%5Cuc911%5Cuad6c%22%3A%20%0A%20%20%20%20%20%20%20%20%20%20%20%20%20%20%20%20%20%20%20%20return%20%7B%22color%22%3A%20%22black%22%2C%20%22fillColor%22%3A%20%22%23980043%22%2C%20%22fillOpacity%22%3A%200.6%2C%20%22opacity%22%3A%201%2C%20%22weight%22%3A%201%7D%3B%0A%20%20%20%20%20%20%20%20%20%20%20%20%20%20%20%20case%20%22%5Cuc885%5Cub85c%5Cuad6c%22%3A%20%0A%20%20%20%20%20%20%20%20%20%20%20%20%20%20%20%20%20%20%20%20return%20%7B%22color%22%3A%20%22black%22%2C%20%22fillColor%22%3A%20%22%23dd1c77%22%2C%20%22fillOpacity%22%3A%200.6%2C%20%22opacity%22%3A%201%2C%20%22weight%22%3A%201%7D%3B%0A%20%20%20%20%20%20%20%20%20%20%20%20%20%20%20%20default%3A%0A%20%20%20%20%20%20%20%20%20%20%20%20%20%20%20%20%20%20%20%20return%20%7B%22color%22%3A%20%22black%22%2C%20%22fillColor%22%3A%20%22%23f1eef6%22%2C%20%22fillOpacity%22%3A%200.6%2C%20%22opacity%22%3A%201%2C%20%22weight%22%3A%201%7D%3B%0A%20%20%20%20%20%20%20%20%20%20%20%20%7D%0A%20%20%20%20%20%20%20%20%7D%0A%0A%20%20%20%20%20%20%20%20function%20geo_json_60fd0cf868b74f4da7cce6e59ae221a8_onEachFeature%28feature%2C%20layer%29%20%7B%0A%20%20%20%20%20%20%20%20%20%20%20%20layer.on%28%7B%0A%20%20%20%20%20%20%20%20%20%20%20%20%7D%29%3B%0A%20%20%20%20%20%20%20%20%7D%3B%0A%20%20%20%20%20%20%20%20var%20geo_json_60fd0cf868b74f4da7cce6e59ae221a8%20%3D%20L.geoJson%28null%2C%20%7B%0A%20%20%20%20%20%20%20%20%20%20%20%20%20%20%20%20onEachFeature%3A%20geo_json_60fd0cf868b74f4da7cce6e59ae221a8_onEachFeature%2C%0A%20%20%20%20%20%20%20%20%20%20%20%20%0A%20%20%20%20%20%20%20%20%20%20%20%20%20%20%20%20style%3A%20geo_json_60fd0cf868b74f4da7cce6e59ae221a8_styler%2C%0A%20%20%20%20%20%20%20%20%7D%29%3B%0A%0A%20%20%20%20%20%20%20%20function%20geo_json_60fd0cf868b74f4da7cce6e59ae221a8_add%20%28data%29%20%7B%0A%20%20%20%20%20%20%20%20%20%20%20%20geo_json_60fd0cf868b74f4da7cce6e59ae221a8%0A%20%20%20%20%20%20%20%20%20%20%20%20%20%20%20%20.addData%28data%29%0A%20%20%20%20%20%20%20%20%20%20%20%20%20%20%20%20.addTo%28choropleth_dba6607ade9648d0ba1226c34f0d0b70%29%3B%0A%20%20%20%20%20%20%20%20%7D%0A%20%20%20%20%20%20%20%20%20%20%20%20geo_json_60fd0cf868b74f4da7cce6e59ae221a8_add%28%7B%22features%22%3A%20%5B%7B%22geometry%22%3A%20%7B%22coordinates%22%3A%20%5B%5B%5B127.11519584981606%2C%2037.557533180704915%5D%2C%20%5B127.16683184366129%2C%2037.57672487388627%5D%2C%20%5B127.18408792330152%2C%2037.55814280369575%5D%2C%20%5B127.16530984307447%2C%2037.54221851258693%5D%2C%20%5B127.14672806823502%2C%2037.51415680680291%5D%2C%20%5B127.12123165719615%2C%2037.52528270089%5D%2C%20%5B127.1116764203608%2C%2037.540669955324965%5D%2C%20%5B127.11519584981606%2C%2037.557533180704915%5D%5D%5D%2C%20%22type%22%3A%20%22Polygon%22%7D%2C%20%22id%22%3A%20%22%5Cuac15%5Cub3d9%5Cuad6c%22%2C%20%22properties%22%3A%20%7B%22base_year%22%3A%20%222013%22%2C%20%22code%22%3A%20%2211250%22%2C%20%22name%22%3A%20%22%5Cuac15%5Cub3d9%5Cuad6c%22%2C%20%22name_eng%22%3A%20%22Gangdong-gu%22%7D%2C%20%22type%22%3A%20%22Feature%22%7D%2C%20%7B%22geometry%22%3A%20%7B%22coordinates%22%3A%20%5B%5B%5B127.0690698130372%2C%2037.522279423505026%5D%2C%20%5B127.10087519791962%2C%2037.524841220167055%5D%2C%20%5B127.1116764203608%2C%2037.540669955324965%5D%2C%20%5B127.12123165719615%2C%2037.52528270089%5D%2C%20%5B127.14672806823502%2C%2037.51415680680291%5D%2C%20%5B127.1634944215765%2C%2037.497445406097484%5D%2C%20%5B127.14206058413274%2C%2037.47089819098501%5D%2C%20%5B127.12440571080893%2C%2037.46240445587048%5D%2C%20%5B127.11117085201238%2C%2037.485708381512445%5D%2C%20%5B127.0719146000724%2C%2037.50224013587669%5D%2C%20%5B127.0690698130372%2C%2037.522279423505026%5D%5D%5D%2C%20%22type%22%3A%20%22Polygon%22%7D%2C%20%22id%22%3A%20%22%5Cuc1a1%5Cud30c%5Cuad6c%22%2C%20%22properties%22%3A%20%7B%22base_year%22%3A%20%222013%22%2C%20%22code%22%3A%20%2211240%22%2C%20%22name%22%3A%20%22%5Cuc1a1%5Cud30c%5Cuad6c%22%2C%20%22name_eng%22%3A%20%22Songpa-gu%22%7D%2C%20%22type%22%3A%20%22Feature%22%7D%2C%20%7B%22geometry%22%3A%20%7B%22coordinates%22%3A%20%5B%5B%5B127.05867359288398%2C%2037.52629974922568%5D%2C%20%5B127.0690698130372%2C%2037.522279423505026%5D%2C%20%5B127.0719146000724%2C%2037.50224013587669%5D%2C%20%5B127.11117085201238%2C%2037.485708381512445%5D%2C%20%5B127.12440571080893%2C%2037.46240445587048%5D%2C%20%5B127.09842759318751%2C%2037.45862253857461%5D%2C%20%5B127.08640440578156%2C%2037.472697935184655%5D%2C%20%5B127.0559170481904%2C%2037.4659228914077%5D%2C%20%5B127.03621915098798%2C%2037.48175802427603%5D%2C%20%5B127.01397119667513%2C%2037.52503988289669%5D%2C%20%5B127.02302831890559%2C%2037.53231899582663%5D%2C%20%5B127.05867359288398%2C%2037.52629974922568%5D%5D%5D%2C%20%22type%22%3A%20%22Polygon%22%7D%2C%20%22id%22%3A%20%22%5Cuac15%5Cub0a8%5Cuad6c%22%2C%20%22properties%22%3A%20%7B%22base_year%22%3A%20%222013%22%2C%20%22code%22%3A%20%2211230%22%2C%20%22name%22%3A%20%22%5Cuac15%5Cub0a8%5Cuad6c%22%2C%20%22name_eng%22%3A%20%22Gangnam-gu%22%7D%2C%20%22type%22%3A%20%22Feature%22%7D%2C%20%7B%22geometry%22%3A%20%7B%22coordinates%22%3A%20%5B%5B%5B127.01397119667513%2C%2037.52503988289669%5D%2C%20%5B127.03621915098798%2C%2037.48175802427603%5D%2C%20%5B127.0559170481904%2C%2037.4659228914077%5D%2C%20%5B127.08640440578156%2C%2037.472697935184655%5D%2C%20%5B127.09842759318751%2C%2037.45862253857461%5D%2C%20%5B127.09046928565951%2C%2037.44296826114185%5D%2C%20%5B127.06778107605433%2C%2037.426197424057314%5D%2C%20%5B127.04957232987142%2C%2037.42805836845694%5D%2C%20%5B127.03881782597922%2C%2037.45382039851715%5D%2C%20%5B126.99072073195462%2C%2037.455326143310025%5D%2C%20%5B126.98367668291802%2C%2037.473856492692086%5D%2C%20%5B126.98223807916081%2C%2037.509314966770326%5D%2C%20%5B127.01397119667513%2C%2037.52503988289669%5D%5D%5D%2C%20%22type%22%3A%20%22Polygon%22%7D%2C%20%22id%22%3A%20%22%5Cuc11c%5Cucd08%5Cuad6c%22%2C%20%22properties%22%3A%20%7B%22base_year%22%3A%20%222013%22%2C%20%22code%22%3A%20%2211220%22%2C%20%22name%22%3A%20%22%5Cuc11c%5Cucd08%5Cuad6c%22%2C%20%22name_eng%22%3A%20%22Seocho-gu%22%7D%2C%20%22type%22%3A%20%22Feature%22%7D%2C%20%7B%22geometry%22%3A%20%7B%22coordinates%22%3A%20%5B%5B%5B126.98367668291802%2C%2037.473856492692086%5D%2C%20%5B126.99072073195462%2C%2037.455326143310025%5D%2C%20%5B126.96520439085143%2C%2037.438249784006246%5D%2C%20%5B126.95000001010182%2C%2037.43613451165719%5D%2C%20%5B126.93084408056525%2C%2037.447382928333994%5D%2C%20%5B126.9167728146601%2C%2037.45490566423789%5D%2C%20%5B126.90156094129895%2C%2037.47753842789901%5D%2C%20%5B126.90531975801812%2C%2037.48218087575429%5D%2C%20%5B126.94922661389508%2C%2037.49125437495649%5D%2C%20%5B126.9725891850662%2C%2037.472561363278125%5D%2C%20%5B126.98367668291802%2C%2037.473856492692086%5D%5D%5D%2C%20%22type%22%3A%20%22Polygon%22%7D%2C%20%22id%22%3A%20%22%5Cuad00%5Cuc545%5Cuad6c%22%2C%20%22properties%22%3A%20%7B%22base_year%22%3A%20%222013%22%2C%20%22code%22%3A%20%2211210%22%2C%20%22name%22%3A%20%22%5Cuad00%5Cuc545%5Cuad6c%22%2C%20%22name_eng%22%3A%20%22Gwanak-gu%22%7D%2C%20%22type%22%3A%20%22Feature%22%7D%2C%20%7B%22geometry%22%3A%20%7B%22coordinates%22%3A%20%5B%5B%5B126.98223807916081%2C%2037.509314966770326%5D%2C%20%5B126.98367668291802%2C%2037.473856492692086%5D%2C%20%5B126.9725891850662%2C%2037.472561363278125%5D%2C%20%5B126.94922661389508%2C%2037.49125437495649%5D%2C%20%5B126.90531975801812%2C%2037.48218087575429%5D%2C%20%5B126.92177893174825%2C%2037.494889877415176%5D%2C%20%5B126.92810628828279%2C%2037.51329595732015%5D%2C%20%5B126.95249990298159%2C%2037.51722500741813%5D%2C%20%5B126.98223807916081%2C%2037.509314966770326%5D%5D%5D%2C%20%22type%22%3A%20%22Polygon%22%7D%2C%20%22id%22%3A%20%22%5Cub3d9%5Cuc791%5Cuad6c%22%2C%20%22properties%22%3A%20%7B%22base_year%22%3A%20%222013%22%2C%20%22code%22%3A%20%2211200%22%2C%20%22name%22%3A%20%22%5Cub3d9%5Cuc791%5Cuad6c%22%2C%20%22name_eng%22%3A%20%22Dongjak-gu%22%7D%2C%20%22type%22%3A%20%22Feature%22%7D%2C%20%7B%22geometry%22%3A%20%7B%22coordinates%22%3A%20%5B%5B%5B126.89184663862764%2C%2037.547373974997114%5D%2C%20%5B126.94566733083212%2C%2037.526617542453366%5D%2C%20%5B126.95249990298159%2C%2037.51722500741813%5D%2C%20%5B126.92810628828279%2C%2037.51329595732015%5D%2C%20%5B126.92177893174825%2C%2037.494889877415176%5D%2C%20%5B126.90531975801812%2C%2037.48218087575429%5D%2C%20%5B126.89594776782485%2C%2037.504675281309176%5D%2C%20%5B126.88156402353862%2C%2037.513970034765684%5D%2C%20%5B126.88825757860099%2C%2037.54079733630232%5D%2C%20%5B126.89184663862764%2C%2037.547373974997114%5D%5D%5D%2C%20%22type%22%3A%20%22Polygon%22%7D%2C%20%22id%22%3A%20%22%5Cuc601%5Cub4f1%5Cud3ec%5Cuad6c%22%2C%20%22properties%22%3A%20%7B%22base_year%22%3A%20%222013%22%2C%20%22code%22%3A%20%2211190%22%2C%20%22name%22%3A%20%22%5Cuc601%5Cub4f1%5Cud3ec%5Cuad6c%22%2C%20%22name_eng%22%3A%20%22Yeongdeungpo-gu%22%7D%2C%20%22type%22%3A%20%22Feature%22%7D%2C%20%7B%22geometry%22%3A%20%7B%22coordinates%22%3A%20%5B%5B%5B126.90156094129895%2C%2037.47753842789901%5D%2C%20%5B126.9167728146601%2C%2037.45490566423789%5D%2C%20%5B126.93084408056525%2C%2037.447382928333994%5D%2C%20%5B126.9025831711697%2C%2037.434549366349124%5D%2C%20%5B126.87683271502428%2C%2037.482576591607305%5D%2C%20%5B126.90156094129895%2C%2037.47753842789901%5D%5D%5D%2C%20%22type%22%3A%20%22Polygon%22%7D%2C%20%22id%22%3A%20%22%5Cuae08%5Cucc9c%5Cuad6c%22%2C%20%22properties%22%3A%20%7B%22base_year%22%3A%20%222013%22%2C%20%22code%22%3A%20%2211180%22%2C%20%22name%22%3A%20%22%5Cuae08%5Cucc9c%5Cuad6c%22%2C%20%22name_eng%22%3A%20%22Geumcheon-gu%22%7D%2C%20%22type%22%3A%20%22Feature%22%7D%2C%20%7B%22geometry%22%3A%20%7B%22coordinates%22%3A%20%5B%5B%5B126.82688081517314%2C%2037.50548972232896%5D%2C%20%5B126.88156402353862%2C%2037.513970034765684%5D%2C%20%5B126.89594776782485%2C%2037.504675281309176%5D%2C%20%5B126.90531975801812%2C%2037.48218087575429%5D%2C%20%5B126.90156094129895%2C%2037.47753842789901%5D%2C%20%5B126.87683271502428%2C%2037.482576591607305%5D%2C%20%5B126.84762676054953%2C%2037.47146723936323%5D%2C%20%5B126.83549485076196%2C%2037.474098236975095%5D%2C%20%5B126.82264796791348%2C%2037.4878476492147%5D%2C%20%5B126.82504736331406%2C%2037.50302612640443%5D%2C%20%5B126.82688081517314%2C%2037.50548972232896%5D%5D%5D%2C%20%22type%22%3A%20%22Polygon%22%7D%2C%20%22id%22%3A%20%22%5Cuad6c%5Cub85c%5Cuad6c%22%2C%20%22properties%22%3A%20%7B%22base_year%22%3A%20%222013%22%2C%20%22code%22%3A%20%2211170%22%2C%20%22name%22%3A%20%22%5Cuad6c%5Cub85c%5Cuad6c%22%2C%20%22name_eng%22%3A%20%22Guro-gu%22%7D%2C%20%22type%22%3A%20%22Feature%22%7D%2C%20%7B%22geometry%22%3A%20%7B%22coordinates%22%3A%20%5B%5B%5B126.79575768552907%2C%2037.57881087633202%5D%2C%20%5B126.80702115023597%2C%2037.60123001013228%5D%2C%20%5B126.82251438477105%2C%2037.5880430810082%5D%2C%20%5B126.85984199399667%2C%2037.571847855292745%5D%2C%20%5B126.89184663862764%2C%2037.547373974997114%5D%2C%20%5B126.88825757860099%2C%2037.54079733630232%5D%2C%20%5B126.86637464321238%2C%2037.54859191094823%5D%2C%20%5B126.86610073476395%2C%2037.52699964144669%5D%2C%20%5B126.84257291943153%2C%2037.52373707805596%5D%2C%20%5B126.8242331426722%2C%2037.53788078753248%5D%2C%20%5B126.77324417717703%2C%2037.5459123450554%5D%2C%20%5B126.76979180579352%2C%2037.55139183008809%5D%2C%20%5B126.79575768552907%2C%2037.57881087633202%5D%5D%5D%2C%20%22type%22%3A%20%22Polygon%22%7D%2C%20%22id%22%3A%20%22%5Cuac15%5Cuc11c%5Cuad6c%22%2C%20%22properties%22%3A%20%7B%22base_year%22%3A%20%222013%22%2C%20%22code%22%3A%20%2211160%22%2C%20%22name%22%3A%20%22%5Cuac15%5Cuc11c%5Cuad6c%22%2C%20%22name_eng%22%3A%20%22Gangseo-gu%22%7D%2C%20%22type%22%3A%20%22Feature%22%7D%2C%20%7B%22geometry%22%3A%20%7B%22coordinates%22%3A%20%5B%5B%5B126.8242331426722%2C%2037.53788078753248%5D%2C%20%5B126.84257291943153%2C%2037.52373707805596%5D%2C%20%5B126.86610073476395%2C%2037.52699964144669%5D%2C%20%5B126.86637464321238%2C%2037.54859191094823%5D%2C%20%5B126.88825757860099%2C%2037.54079733630232%5D%2C%20%5B126.88156402353862%2C%2037.513970034765684%5D%2C%20%5B126.82688081517314%2C%2037.50548972232896%5D%2C%20%5B126.8242331426722%2C%2037.53788078753248%5D%5D%5D%2C%20%22type%22%3A%20%22Polygon%22%7D%2C%20%22id%22%3A%20%22%5Cuc591%5Cucc9c%5Cuad6c%22%2C%20%22properties%22%3A%20%7B%22base_year%22%3A%20%222013%22%2C%20%22code%22%3A%20%2211150%22%2C%20%22name%22%3A%20%22%5Cuc591%5Cucc9c%5Cuad6c%22%2C%20%22name_eng%22%3A%20%22Yangcheon-gu%22%7D%2C%20%22type%22%3A%20%22Feature%22%7D%2C%20%7B%22geometry%22%3A%20%7B%22coordinates%22%3A%20%5B%5B%5B126.90522065831053%2C%2037.57409700522574%5D%2C%20%5B126.93898161798973%2C%2037.552310003728124%5D%2C%20%5B126.96358226710812%2C%2037.55605635475154%5D%2C%20%5B126.96448570553055%2C%2037.548705692021635%5D%2C%20%5B126.94566733083212%2C%2037.526617542453366%5D%2C%20%5B126.89184663862764%2C%2037.547373974997114%5D%2C%20%5B126.85984199399667%2C%2037.571847855292745%5D%2C%20%5B126.88433284773288%2C%2037.588143322880526%5D%2C%20%5B126.90522065831053%2C%2037.57409700522574%5D%5D%5D%2C%20%22type%22%3A%20%22Polygon%22%7D%2C%20%22id%22%3A%20%22%5Cub9c8%5Cud3ec%5Cuad6c%22%2C%20%22properties%22%3A%20%7B%22base_year%22%3A%20%222013%22%2C%20%22code%22%3A%20%2211140%22%2C%20%22name%22%3A%20%22%5Cub9c8%5Cud3ec%5Cuad6c%22%2C%20%22name_eng%22%3A%20%22Mapo-gu%22%7D%2C%20%22type%22%3A%20%22Feature%22%7D%2C%20%7B%22geometry%22%3A%20%7B%22coordinates%22%3A%20%5B%5B%5B126.9524752030572%2C%2037.60508692737045%5D%2C%20%5B126.95565425846463%2C%2037.576080790881456%5D%2C%20%5B126.96873633279075%2C%2037.56313604690827%5D%2C%20%5B126.96358226710812%2C%2037.55605635475154%5D%2C%20%5B126.93898161798973%2C%2037.552310003728124%5D%2C%20%5B126.90522065831053%2C%2037.57409700522574%5D%2C%20%5B126.9524752030572%2C%2037.60508692737045%5D%5D%5D%2C%20%22type%22%3A%20%22Polygon%22%7D%2C%20%22id%22%3A%20%22%5Cuc11c%5Cub300%5Cubb38%5Cuad6c%22%2C%20%22properties%22%3A%20%7B%22base_year%22%3A%20%222013%22%2C%20%22code%22%3A%20%2211130%22%2C%20%22name%22%3A%20%22%5Cuc11c%5Cub300%5Cubb38%5Cuad6c%22%2C%20%22name_eng%22%3A%20%22Seodaemun-gu%22%7D%2C%20%22type%22%3A%20%22Feature%22%7D%2C%20%7B%22geometry%22%3A%20%7B%22coordinates%22%3A%20%5B%5B%5B126.9738864128702%2C%2037.62949634786888%5D%2C%20%5B126.95427017006129%2C%2037.622033431339425%5D%2C%20%5B126.9524752030572%2C%2037.60508692737045%5D%2C%20%5B126.90522065831053%2C%2037.57409700522574%5D%2C%20%5B126.88433284773288%2C%2037.588143322880526%5D%2C%20%5B126.90396681003595%2C%2037.59227403419942%5D%2C%20%5B126.90303066177668%2C%2037.609977911401344%5D%2C%20%5B126.91455481429648%2C%2037.64150050996935%5D%2C%20%5B126.956473797387%2C%2037.652480737339445%5D%2C%20%5B126.9738864128702%2C%2037.62949634786888%5D%5D%5D%2C%20%22type%22%3A%20%22Polygon%22%7D%2C%20%22id%22%3A%20%22%5Cuc740%5Cud3c9%5Cuad6c%22%2C%20%22properties%22%3A%20%7B%22base_year%22%3A%20%222013%22%2C%20%22code%22%3A%20%2211120%22%2C%20%22name%22%3A%20%22%5Cuc740%5Cud3c9%5Cuad6c%22%2C%20%22name_eng%22%3A%20%22Eunpyeong-gu%22%7D%2C%20%22type%22%3A%20%22Feature%22%7D%2C%20%7B%22geometry%22%3A%20%7B%22coordinates%22%3A%20%5B%5B%5B127.0838752703195%2C%2037.69359534202034%5D%2C%20%5B127.09706391309695%2C%2037.686383719372294%5D%2C%20%5B127.09440766298717%2C%2037.64713490473045%5D%2C%20%5B127.11326795855199%2C%2037.639622905315925%5D%2C%20%5B127.10782277688129%2C%2037.61804244241069%5D%2C%20%5B127.07351243825278%2C%2037.61283660342313%5D%2C%20%5B127.05209373568619%2C%2037.62164065487782%5D%2C%20%5B127.04358800895609%2C%2037.62848931298715%5D%2C%20%5B127.05800075220091%2C%2037.64318263878276%5D%2C%20%5B127.05288479710485%2C%2037.68423857084347%5D%2C%20%5B127.0838752703195%2C%2037.69359534202034%5D%5D%5D%2C%20%22type%22%3A%20%22Polygon%22%7D%2C%20%22id%22%3A%20%22%5Cub178%5Cuc6d0%5Cuad6c%22%2C%20%22properties%22%3A%20%7B%22base_year%22%3A%20%222013%22%2C%20%22code%22%3A%20%2211110%22%2C%20%22name%22%3A%20%22%5Cub178%5Cuc6d0%5Cuad6c%22%2C%20%22name_eng%22%3A%20%22Nowon-gu%22%7D%2C%20%22type%22%3A%20%22Feature%22%7D%2C%20%7B%22geometry%22%3A%20%7B%22coordinates%22%3A%20%5B%5B%5B127.05288479710485%2C%2037.68423857084347%5D%2C%20%5B127.05800075220091%2C%2037.64318263878276%5D%2C%20%5B127.04358800895609%2C%2037.62848931298715%5D%2C%20%5B127.01465935892466%2C%2037.64943687496812%5D%2C%20%5B127.02062116141389%2C%2037.667173575971205%5D%2C%20%5B127.01039666042071%2C%2037.681894589603594%5D%2C%20%5B127.01795099203432%2C%2037.69824412775662%5D%2C%20%5B127.05288479710485%2C%2037.68423857084347%5D%5D%5D%2C%20%22type%22%3A%20%22Polygon%22%7D%2C%20%22id%22%3A%20%22%5Cub3c4%5Cubd09%5Cuad6c%22%2C%20%22properties%22%3A%20%7B%22base_year%22%3A%20%222013%22%2C%20%22code%22%3A%20%2211100%22%2C%20%22name%22%3A%20%22%5Cub3c4%5Cubd09%5Cuad6c%22%2C%20%22name_eng%22%3A%20%22Dobong-gu%22%7D%2C%20%22type%22%3A%20%22Feature%22%7D%2C%20%7B%22geometry%22%3A%20%7B%22coordinates%22%3A%20%5B%5B%5B126.99383903424%2C%2037.676681761199085%5D%2C%20%5B127.01039666042071%2C%2037.681894589603594%5D%2C%20%5B127.02062116141389%2C%2037.667173575971205%5D%2C%20%5B127.01465935892466%2C%2037.64943687496812%5D%2C%20%5B127.04358800895609%2C%2037.62848931298715%5D%2C%20%5B127.05209373568619%2C%2037.62164065487782%5D%2C%20%5B127.03892400992301%2C%2037.609715611023816%5D%2C%20%5B127.0128154749523%2C%2037.613652243470256%5D%2C%20%5B126.98672705513869%2C%2037.63377641288196%5D%2C%20%5B126.9817452676551%2C%2037.65209769387776%5D%2C%20%5B126.99383903424%2C%2037.676681761199085%5D%5D%5D%2C%20%22type%22%3A%20%22Polygon%22%7D%2C%20%22id%22%3A%20%22%5Cuac15%5Cubd81%5Cuad6c%22%2C%20%22properties%22%3A%20%7B%22base_year%22%3A%20%222013%22%2C%20%22code%22%3A%20%2211090%22%2C%20%22name%22%3A%20%22%5Cuac15%5Cubd81%5Cuad6c%22%2C%20%22name_eng%22%3A%20%22Gangbuk-gu%22%7D%2C%20%22type%22%3A%20%22Feature%22%7D%2C%20%7B%22geometry%22%3A%20%7B%22coordinates%22%3A%20%5B%5B%5B126.977175406416%2C%2037.62859715400388%5D%2C%20%5B126.98672705513869%2C%2037.63377641288196%5D%2C%20%5B127.0128154749523%2C%2037.613652243470256%5D%2C%20%5B127.03892400992301%2C%2037.609715611023816%5D%2C%20%5B127.05209373568619%2C%2037.62164065487782%5D%2C%20%5B127.07351243825278%2C%2037.61283660342313%5D%2C%20%5B127.07382707099227%2C%2037.60401928986419%5D%2C%20%5B127.042705222094%2C%2037.59239437593391%5D%2C%20%5B127.02527254528003%2C%2037.57524616245249%5D%2C%20%5B126.99348293358314%2C%2037.588565457216156%5D%2C%20%5B126.98879865992384%2C%2037.6118927319756%5D%2C%20%5B126.977175406416%2C%2037.62859715400388%5D%5D%5D%2C%20%22type%22%3A%20%22Polygon%22%7D%2C%20%22id%22%3A%20%22%5Cuc131%5Cubd81%5Cuad6c%22%2C%20%22properties%22%3A%20%7B%22base_year%22%3A%20%222013%22%2C%20%22code%22%3A%20%2211080%22%2C%20%22name%22%3A%20%22%5Cuc131%5Cubd81%5Cuad6c%22%2C%20%22name_eng%22%3A%20%22Seongbuk-gu%22%7D%2C%20%22type%22%3A%20%22Feature%22%7D%2C%20%7B%22geometry%22%3A%20%7B%22coordinates%22%3A%20%5B%5B%5B127.07351243825278%2C%2037.61283660342313%5D%2C%20%5B127.10782277688129%2C%2037.61804244241069%5D%2C%20%5B127.1201246020114%2C%2037.60178457598188%5D%2C%20%5B127.10304174249214%2C%2037.57076342290955%5D%2C%20%5B127.08068541280403%2C%2037.56906425519017%5D%2C%20%5B127.07382707099227%2C%2037.60401928986419%5D%2C%20%5B127.07351243825278%2C%2037.61283660342313%5D%5D%5D%2C%20%22type%22%3A%20%22Polygon%22%7D%2C%20%22id%22%3A%20%22%5Cuc911%5Cub791%5Cuad6c%22%2C%20%22properties%22%3A%20%7B%22base_year%22%3A%20%222013%22%2C%20%22code%22%3A%20%2211070%22%2C%20%22name%22%3A%20%22%5Cuc911%5Cub791%5Cuad6c%22%2C%20%22name_eng%22%3A%20%22Jungnang-gu%22%7D%2C%20%22type%22%3A%20%22Feature%22%7D%2C%20%7B%22geometry%22%3A%20%7B%22coordinates%22%3A%20%5B%5B%5B127.02527254528003%2C%2037.57524616245249%5D%2C%20%5B127.042705222094%2C%2037.59239437593391%5D%2C%20%5B127.07382707099227%2C%2037.60401928986419%5D%2C%20%5B127.08068541280403%2C%2037.56906425519017%5D%2C%20%5B127.07421053024362%2C%2037.55724769712085%5D%2C%20%5B127.05005601081567%2C%2037.567577612590846%5D%2C%20%5B127.02547266349976%2C%2037.568943552237734%5D%2C%20%5B127.02527254528003%2C%2037.57524616245249%5D%5D%5D%2C%20%22type%22%3A%20%22Polygon%22%7D%2C%20%22id%22%3A%20%22%5Cub3d9%5Cub300%5Cubb38%5Cuad6c%22%2C%20%22properties%22%3A%20%7B%22base_year%22%3A%20%222013%22%2C%20%22code%22%3A%20%2211060%22%2C%20%22name%22%3A%20%22%5Cub3d9%5Cub300%5Cubb38%5Cuad6c%22%2C%20%22name_eng%22%3A%20%22Dongdaemun-gu%22%7D%2C%20%22type%22%3A%20%22Feature%22%7D%2C%20%7B%22geometry%22%3A%20%7B%22coordinates%22%3A%20%5B%5B%5B127.08068541280403%2C%2037.56906425519017%5D%2C%20%5B127.10304174249214%2C%2037.57076342290955%5D%2C%20%5B127.11519584981606%2C%2037.557533180704915%5D%2C%20%5B127.1116764203608%2C%2037.540669955324965%5D%2C%20%5B127.10087519791962%2C%2037.524841220167055%5D%2C%20%5B127.0690698130372%2C%2037.522279423505026%5D%2C%20%5B127.05867359288398%2C%2037.52629974922568%5D%2C%20%5B127.07421053024362%2C%2037.55724769712085%5D%2C%20%5B127.08068541280403%2C%2037.56906425519017%5D%5D%5D%2C%20%22type%22%3A%20%22Polygon%22%7D%2C%20%22id%22%3A%20%22%5Cuad11%5Cuc9c4%5Cuad6c%22%2C%20%22properties%22%3A%20%7B%22base_year%22%3A%20%222013%22%2C%20%22code%22%3A%20%2211050%22%2C%20%22name%22%3A%20%22%5Cuad11%5Cuc9c4%5Cuad6c%22%2C%20%22name_eng%22%3A%20%22Gwangjin-gu%22%7D%2C%20%22type%22%3A%20%22Feature%22%7D%2C%20%7B%22geometry%22%3A%20%7B%22coordinates%22%3A%20%5B%5B%5B127.02547266349976%2C%2037.568943552237734%5D%2C%20%5B127.05005601081567%2C%2037.567577612590846%5D%2C%20%5B127.07421053024362%2C%2037.55724769712085%5D%2C%20%5B127.05867359288398%2C%2037.52629974922568%5D%2C%20%5B127.02302831890559%2C%2037.53231899582663%5D%2C%20%5B127.01070894177482%2C%2037.54118048964762%5D%2C%20%5B127.02547266349976%2C%2037.568943552237734%5D%5D%5D%2C%20%22type%22%3A%20%22Polygon%22%7D%2C%20%22id%22%3A%20%22%5Cuc131%5Cub3d9%5Cuad6c%22%2C%20%22properties%22%3A%20%7B%22base_year%22%3A%20%222013%22%2C%20%22code%22%3A%20%2211040%22%2C%20%22name%22%3A%20%22%5Cuc131%5Cub3d9%5Cuad6c%22%2C%20%22name_eng%22%3A%20%22Seongdong-gu%22%7D%2C%20%22type%22%3A%20%22Feature%22%7D%2C%20%7B%22geometry%22%3A%20%7B%22coordinates%22%3A%20%5B%5B%5B127.01070894177482%2C%2037.54118048964762%5D%2C%20%5B127.02302831890559%2C%2037.53231899582663%5D%2C%20%5B127.01397119667513%2C%2037.52503988289669%5D%2C%20%5B126.98223807916081%2C%2037.509314966770326%5D%2C%20%5B126.95249990298159%2C%2037.51722500741813%5D%2C%20%5B126.94566733083212%2C%2037.526617542453366%5D%2C%20%5B126.96448570553055%2C%2037.548705692021635%5D%2C%20%5B126.98752996903328%2C%2037.55094818807139%5D%2C%20%5B127.01070894177482%2C%2037.54118048964762%5D%5D%5D%2C%20%22type%22%3A%20%22Polygon%22%7D%2C%20%22id%22%3A%20%22%5Cuc6a9%5Cuc0b0%5Cuad6c%22%2C%20%22properties%22%3A%20%7B%22base_year%22%3A%20%222013%22%2C%20%22code%22%3A%20%2211030%22%2C%20%22name%22%3A%20%22%5Cuc6a9%5Cuc0b0%5Cuad6c%22%2C%20%22name_eng%22%3A%20%22Yongsan-gu%22%7D%2C%20%22type%22%3A%20%22Feature%22%7D%2C%20%7B%22geometry%22%3A%20%7B%22coordinates%22%3A%20%5B%5B%5B127.02547266349976%2C%2037.568943552237734%5D%2C%20%5B127.01070894177482%2C%2037.54118048964762%5D%2C%20%5B126.98752996903328%2C%2037.55094818807139%5D%2C%20%5B126.96448570553055%2C%2037.548705692021635%5D%2C%20%5B126.96358226710812%2C%2037.55605635475154%5D%2C%20%5B126.96873633279075%2C%2037.56313604690827%5D%2C%20%5B127.02547266349976%2C%2037.568943552237734%5D%5D%5D%2C%20%22type%22%3A%20%22Polygon%22%7D%2C%20%22id%22%3A%20%22%5Cuc911%5Cuad6c%22%2C%20%22properties%22%3A%20%7B%22base_year%22%3A%20%222013%22%2C%20%22code%22%3A%20%2211020%22%2C%20%22name%22%3A%20%22%5Cuc911%5Cuad6c%22%2C%20%22name_eng%22%3A%20%22Jung-gu%22%7D%2C%20%22type%22%3A%20%22Feature%22%7D%2C%20%7B%22geometry%22%3A%20%7B%22coordinates%22%3A%20%5B%5B%5B126.9738864128702%2C%2037.62949634786888%5D%2C%20%5B126.977175406416%2C%2037.62859715400388%5D%2C%20%5B126.98879865992384%2C%2037.6118927319756%5D%2C%20%5B126.99348293358314%2C%2037.588565457216156%5D%2C%20%5B127.02527254528003%2C%2037.57524616245249%5D%2C%20%5B127.02547266349976%2C%2037.568943552237734%5D%2C%20%5B126.96873633279075%2C%2037.56313604690827%5D%2C%20%5B126.95565425846463%2C%2037.576080790881456%5D%2C%20%5B126.9524752030572%2C%2037.60508692737045%5D%2C%20%5B126.95427017006129%2C%2037.622033431339425%5D%2C%20%5B126.9738864128702%2C%2037.62949634786888%5D%5D%5D%2C%20%22type%22%3A%20%22Polygon%22%7D%2C%20%22id%22%3A%20%22%5Cuc885%5Cub85c%5Cuad6c%22%2C%20%22properties%22%3A%20%7B%22base_year%22%3A%20%222013%22%2C%20%22code%22%3A%20%2211010%22%2C%20%22name%22%3A%20%22%5Cuc885%5Cub85c%5Cuad6c%22%2C%20%22name_eng%22%3A%20%22Jongno-gu%22%7D%2C%20%22type%22%3A%20%22Feature%22%7D%5D%2C%20%22type%22%3A%20%22FeatureCollection%22%7D%29%3B%0A%0A%20%20%20%20%20%20%20%20%0A%20%20%20%20%0A%20%20%20%20var%20color_map_1047682350b64d96b30f86cf8e22cee1%20%3D%20%7B%7D%3B%0A%0A%20%20%20%20%0A%20%20%20%20color_map_1047682350b64d96b30f86cf8e22cee1.color%20%3D%20d3.scale.threshold%28%29%0A%20%20%20%20%20%20%20%20%20%20%20%20%20%20.domain%28%5B1648.6153846153845%2C%201649.6059349468167%2C%201650.5964852782488%2C%201651.587035609681%2C%201652.5775859411128%2C%201653.568136272545%2C%201654.558686603977%2C%201655.5492369354092%2C%201656.5397872668414%2C%201657.5303375982735%2C%201658.5208879297054%2C%201659.5114382611375%2C%201660.5019885925697%2C%201661.4925389240018%2C%201662.483089255434%2C%201663.473639586866%2C%201664.464189918298%2C%201665.45474024973%2C%201666.4452905811622%2C%201667.4358409125944%2C%201668.4263912440265%2C%201669.4169415754586%2C%201670.4074919068905%2C%201671.3980422383227%2C%201672.3885925697548%2C%201673.379142901187%2C%201674.369693232619%2C%201675.3602435640512%2C%201676.350793895483%2C%201677.3413442269152%2C%201678.3318945583474%2C%201679.3224448897795%2C%201680.3129952212116%2C%201681.3035455526438%2C%201682.2940958840757%2C%201683.2846462155078%2C%201684.27519654694%2C%201685.265746878372%2C%201686.2562972098042%2C%201687.2468475412363%2C%201688.2373978726685%2C%201689.2279482041004%2C%201690.2184985355325%2C%201691.2090488669646%2C%201692.1995991983968%2C%201693.190149529829%2C%201694.180699861261%2C%201695.171250192693%2C%201696.161800524125%2C%201697.1523508555572%2C%201698.1429011869893%2C%201699.1334515184215%2C%201700.1240018498536%2C%201701.1145521812855%2C%201702.1051025127176%2C%201703.0956528441498%2C%201704.0862031755819%2C%201705.076753507014%2C%201706.0673038384462%2C%201707.057854169878%2C%201708.0484045013102%2C%201709.0389548327423%2C%201710.0295051641745%2C%201711.0200554956066%2C%201712.0106058270387%2C%201713.0011561584706%2C%201713.9917064899028%2C%201714.9822568213349%2C%201715.972807152767%2C%201716.9633574841992%2C%201717.9539078156313%2C%201718.9444581470632%2C%201719.9350084784953%2C%201720.9255588099275%2C%201721.9161091413596%2C%201722.9066594727917%2C%201723.8972098042238%2C%201724.8877601356558%2C%201725.8783104670879%2C%201726.86886079852%2C%201727.8594111299522%2C%201728.8499614613843%2C%201729.8405117928164%2C%201730.8310621242485%2C%201731.8216124556805%2C%201732.8121627871126%2C%201733.8027131185447%2C%201734.7932634499768%2C%201735.783813781409%2C%201736.774364112841%2C%201737.764914444273%2C%201738.7554647757051%2C%201739.7460151071373%2C%201740.7365654385694%2C%201741.7271157700015%2C%201742.7176661014337%2C%201743.7082164328656%2C%201744.6987667642977%2C%201745.6893170957298%2C%201746.679867427162%2C%201747.670417758594%2C%201748.6609680900262%2C%201749.6515184214581%2C%201750.6420687528903%2C%201751.6326190843224%2C%201752.6231694157545%2C%201753.6137197471867%2C%201754.6042700786188%2C%201755.5948204100507%2C%201756.5853707414828%2C%201757.575921072915%2C%201758.566471404347%2C%201759.5570217357792%2C%201760.5475720672114%2C%201761.5381223986433%2C%201762.5286727300754%2C%201763.5192230615075%2C%201764.5097733929397%2C%201765.5003237243718%2C%201766.490874055804%2C%201767.481424387236%2C%201768.471974718668%2C%201769.4625250501%2C%201770.4530753815322%2C%201771.4436257129644%2C%201772.4341760443965%2C%201773.4247263758286%2C%201774.4152767072605%2C%201775.4058270386927%2C%201776.3963773701248%2C%201777.386927701557%2C%201778.377478032989%2C%201779.3680283644212%2C%201780.358578695853%2C%201781.3491290272852%2C%201782.3396793587174%2C%201783.3302296901495%2C%201784.3207800215816%2C%201785.3113303530138%2C%201786.3018806844457%2C%201787.2924310158778%2C%201788.28298134731%2C%201789.273531678742%2C%201790.2640820101742%2C%201791.2546323416063%2C%201792.2451826730385%2C%201793.2357330044704%2C%201794.2262833359025%2C%201795.2168336673346%2C%201796.2073839987668%2C%201797.197934330199%2C%201798.1884846616308%2C%201799.179034993063%2C%201800.169585324495%2C%201801.1601356559272%2C%201802.1506859873593%2C%201803.1412363187915%2C%201804.1317866502236%2C%201805.1223369816555%2C%201806.1128873130876%2C%201807.1034376445198%2C%201808.093987975952%2C%201809.084538307384%2C%201810.075088638816%2C%201811.065638970248%2C%201812.0561893016802%2C%201813.0467396331123%2C%201814.0372899645445%2C%201815.0278402959766%2C%201816.0183906274087%2C%201817.0089409588406%2C%201817.9994912902728%2C%201818.990041621705%2C%201819.980591953137%2C%201820.9711422845692%2C%201821.961692616001%2C%201822.9522429474332%2C%201823.9427932788653%2C%201824.9333436102975%2C%201825.9238939417296%2C%201826.9144442731617%2C%201827.9049946045939%2C%201828.895544936026%2C%201829.886095267458%2C%201830.87664559889%2C%201831.8671959303222%2C%201832.8577462617543%2C%201833.8482965931864%2C%201834.8388469246183%2C%201835.8293972560505%2C%201836.8199475874826%2C%201837.8104979189147%2C%201838.8010482503469%2C%201839.791598581779%2C%201840.7821489132111%2C%201841.772699244643%2C%201842.7632495760752%2C%201843.7537999075073%2C%201844.7443502389394%2C%201845.7349005703716%2C%201846.7254509018035%2C%201847.7160012332356%2C%201848.7065515646677%2C%201849.6971018960999%2C%201850.687652227532%2C%201851.6782025589641%2C%201852.6687528903963%2C%201853.6593032218282%2C%201854.6498535532603%2C%201855.6404038846924%2C%201856.6309542161246%2C%201857.6215045475567%2C%201858.6120548789888%2C%201859.6026052104207%2C%201860.5931555418529%2C%201861.583705873285%2C%201862.5742562047171%2C%201863.5648065361493%2C%201864.5553568675814%2C%201865.5459071990135%2C%201866.5364575304454%2C%201867.5270078618776%2C%201868.5175581933097%2C%201869.5081085247418%2C%201870.498658856174%2C%201871.4892091876059%2C%201872.479759519038%2C%201873.4703098504701%2C%201874.4608601819023%2C%201875.4514105133344%2C%201876.4419608447665%2C%201877.4325111761987%2C%201878.4230615076306%2C%201879.4136118390627%2C%201880.4041621704948%2C%201881.394712501927%2C%201882.385262833359%2C%201883.375813164791%2C%201884.3663634962231%2C%201885.3569138276553%2C%201886.3474641590874%2C%201887.3380144905195%2C%201888.3285648219517%2C%201889.3191151533838%2C%201890.3096654848157%2C%201891.3002158162478%2C%201892.29076614768%2C%201893.281316479112%2C%201894.2718668105442%2C%201895.2624171419761%2C%201896.2529674734083%2C%201897.2435178048404%2C%201898.2340681362725%2C%201899.2246184677047%2C%201900.2151687991368%2C%201901.205719130569%2C%201902.196269462001%2C%201903.186819793433%2C%201904.177370124865%2C%201905.1679204562972%2C%201906.1584707877294%2C%201907.1490211191615%2C%201908.1395714505934%2C%201909.1301217820255%2C%201910.1206721134577%2C%201911.1112224448898%2C%201912.101772776322%2C%201913.092323107754%2C%201914.0828734391862%2C%201915.0734237706183%2C%201916.0639741020502%2C%201917.0545244334824%2C%201918.0450747649145%2C%201919.0356250963464%2C%201920.0261754277785%2C%201921.0167257592107%2C%201922.0072760906428%2C%201922.997826422075%2C%201923.988376753507%2C%201924.9789270849392%2C%201925.9694774163713%2C%201926.9600277478032%2C%201927.9505780792354%2C%201928.9411284106675%2C%201929.9316787420996%2C%201930.9222290735318%2C%201931.9127794049637%2C%201932.9033297363958%2C%201933.893880067828%2C%201934.88443039926%2C%201935.8749807306922%2C%201936.8655310621243%2C%201937.8560813935565%2C%201938.8466317249886%2C%201939.8371820564205%2C%201940.8277323878526%2C%201941.8182827192848%2C%201942.8088330507169%2C%201943.799383382149%2C%201944.789933713581%2C%201945.780484045013%2C%201946.7710343764452%2C%201947.7615847078773%2C%201948.7521350393095%2C%201949.7426853707416%2C%201950.7332357021737%2C%201951.7237860336056%2C%201952.7143363650378%2C%201953.7048866964699%2C%201954.695437027902%2C%201955.6859873593341%2C%201956.676537690766%2C%201957.6670880221982%2C%201958.6576383536303%2C%201959.6481886850625%2C%201960.6387390164946%2C%201961.6292893479267%2C%201962.6198396793588%2C%201963.610390010791%2C%201964.6009403422229%2C%201965.591490673655%2C%201966.5820410050871%2C%201967.5725913365193%2C%201968.5631416679512%2C%201969.5536919993833%2C%201970.5442423308155%2C%201971.5347926622476%2C%201972.5253429936797%2C%201973.5158933251118%2C%201974.506443656544%2C%201975.4969939879759%2C%201976.487544319408%2C%201977.4780946508401%2C%201978.4686449822723%2C%201979.4591953137044%2C%201980.4497456451365%2C%201981.4402959765684%2C%201982.4308463080006%2C%201983.4213966394327%2C%201984.4119469708648%2C%201985.402497302297%2C%201986.393047633729%2C%201987.3835979651612%2C%201988.3741482965931%2C%201989.3646986280253%2C%201990.3552489594574%2C%201991.3457992908895%2C%201992.3363496223217%2C%201993.3268999537536%2C%201994.3174502851857%2C%201995.3080006166178%2C%201996.29855094805%2C%201997.289101279482%2C%201998.2796516109142%2C%201999.2702019423464%2C%202000.2607522737785%2C%202001.2513026052104%2C%202002.2418529366425%2C%202003.2324032680747%2C%202004.2229535995068%2C%202005.2135039309387%2C%202006.2040542623708%2C%202007.194604593803%2C%202008.185154925235%2C%202009.1757052566672%2C%202010.1662555880994%2C%202011.1568059195315%2C%202012.1473562509636%2C%202013.1379065823955%2C%202014.1284569138277%2C%202015.1190072452598%2C%202016.109557576692%2C%202017.1001079081238%2C%202018.090658239556%2C%202019.081208570988%2C%202020.0717589024202%2C%202021.0623092338524%2C%202022.0528595652845%2C%202023.0434098967166%2C%202024.0339602281488%2C%202025.0245105595807%2C%202026.0150608910128%2C%202027.005611222445%2C%202027.996161553877%2C%202028.9867118853092%2C%202029.977262216741%2C%202030.9678125481732%2C%202031.9583628796054%2C%202032.9489132110375%2C%202033.9394635424696%2C%202034.9300138739018%2C%202035.920564205334%2C%202036.9111145367658%2C%202037.901664868198%2C%202038.89221519963%2C%202039.8827655310622%2C%202040.8733158624943%2C%202041.8638661939265%2C%202042.8544165253584%2C%202043.8449668567905%2C%202044.8355171882226%2C%202045.8260675196548%2C%202046.816617851087%2C%202047.807168182519%2C%202048.797718513951%2C%202049.7882688453833%2C%202050.7788191768154%2C%202051.769369508247%2C%202052.7599198396792%2C%202053.7504701711114%2C%202054.7410205025435%2C%202055.7315708339756%2C%202056.7221211654078%2C%202057.71267149684%2C%202058.703221828272%2C%202059.693772159704%2C%202060.6843224911363%2C%202061.6748728225684%2C%202062.6654231540006%2C%202063.6559734854322%2C%202064.6465238168644%2C%202065.6370741482965%2C%202066.6276244797286%2C%202067.6181748111608%2C%202068.608725142593%2C%202069.599275474025%2C%202070.589825805457%2C%202071.5803761368893%2C%202072.5709264683214%2C%202073.5614767997536%2C%202074.5520271311852%2C%202075.5425774626174%2C%202076.5331277940495%2C%202077.5236781254816%2C%202078.5142284569138%2C%202079.504778788346%2C%202080.495329119778%2C%202081.48587945121%2C%202082.4764297826423%2C%202083.4669801140744%2C%202084.4575304455066%2C%202085.4480807769387%2C%202086.438631108371%2C%202087.429181439803%2C%202088.419731771235%2C%202089.4102821026668%2C%202090.400832434099%2C%202091.391382765531%2C%202092.381933096963%2C%202093.3724834283953%2C%202094.3630337598274%2C%202095.3535840912596%2C%202096.3441344226917%2C%202097.334684754124%2C%202098.325235085556%2C%202099.315785416988%2C%202100.3063357484198%2C%202101.296886079852%2C%202102.287436411284%2C%202103.277986742716%2C%202104.2685370741483%2C%202105.2590874055804%2C%202106.2496377370126%2C%202107.2401880684447%2C%202108.230738399877%2C%202109.221288731309%2C%202110.211839062741%2C%202111.202389394173%2C%202112.1929397256054%2C%202113.183490057037%2C%202114.174040388469%2C%202115.1645907199013%2C%202116.1551410513334%2C%202117.1456913827656%2C%202118.1362417141977%2C%202119.12679204563%2C%202120.117342377062%2C%202121.107892708494%2C%202122.098443039926%2C%202123.0889933713584%2C%202124.07954370279%2C%202125.070094034222%2C%202126.0606443656543%2C%202127.0511946970864%2C%202128.0417450285186%2C%202129.0322953599507%2C%202130.022845691383%2C%202131.013396022815%2C%202132.003946354247%2C%202132.994496685679%2C%202133.9850470171114%2C%202134.9755973485435%2C%202135.9661476799756%2C%202136.9566980114078%2C%202137.9472483428394%2C%202138.9377986742716%2C%202139.9283490057037%2C%202140.918899337136%2C%202141.909449668568%2C%202142.9%5D%29%0A%20%20%20%20%20%20%20%20%20%20%20%20%20%20.range%28%5B%27%23f1eef6ff%27%2C%20%27%23f1eef6ff%27%2C%20%27%23f1eef6ff%27%2C%20%27%23f1eef6ff%27%2C%20%27%23f1eef6ff%27%2C%20%27%23f1eef6ff%27%2C%20%27%23f1eef6ff%27%2C%20%27%23f1eef6ff%27%2C%20%27%23f1eef6ff%27%2C%20%27%23f1eef6ff%27%2C%20%27%23f1eef6ff%27%2C%20%27%23f1eef6ff%27%2C%20%27%23f1eef6ff%27%2C%20%27%23f1eef6ff%27%2C%20%27%23f1eef6ff%27%2C%20%27%23f1eef6ff%27%2C%20%27%23f1eef6ff%27%2C%20%27%23f1eef6ff%27%2C%20%27%23f1eef6ff%27%2C%20%27%23f1eef6ff%27%2C%20%27%23f1eef6ff%27%2C%20%27%23f1eef6ff%27%2C%20%27%23f1eef6ff%27%2C%20%27%23f1eef6ff%27%2C%20%27%23f1eef6ff%27%2C%20%27%23f1eef6ff%27%2C%20%27%23f1eef6ff%27%2C%20%27%23f1eef6ff%27%2C%20%27%23f1eef6ff%27%2C%20%27%23f1eef6ff%27%2C%20%27%23f1eef6ff%27%2C%20%27%23f1eef6ff%27%2C%20%27%23f1eef6ff%27%2C%20%27%23f1eef6ff%27%2C%20%27%23f1eef6ff%27%2C%20%27%23f1eef6ff%27%2C%20%27%23f1eef6ff%27%2C%20%27%23f1eef6ff%27%2C%20%27%23f1eef6ff%27%2C%20%27%23f1eef6ff%27%2C%20%27%23f1eef6ff%27%2C%20%27%23f1eef6ff%27%2C%20%27%23f1eef6ff%27%2C%20%27%23f1eef6ff%27%2C%20%27%23f1eef6ff%27%2C%20%27%23f1eef6ff%27%2C%20%27%23f1eef6ff%27%2C%20%27%23f1eef6ff%27%2C%20%27%23f1eef6ff%27%2C%20%27%23f1eef6ff%27%2C%20%27%23f1eef6ff%27%2C%20%27%23f1eef6ff%27%2C%20%27%23f1eef6ff%27%2C%20%27%23f1eef6ff%27%2C%20%27%23f1eef6ff%27%2C%20%27%23f1eef6ff%27%2C%20%27%23f1eef6ff%27%2C%20%27%23f1eef6ff%27%2C%20%27%23f1eef6ff%27%2C%20%27%23f1eef6ff%27%2C%20%27%23f1eef6ff%27%2C%20%27%23f1eef6ff%27%2C%20%27%23f1eef6ff%27%2C%20%27%23f1eef6ff%27%2C%20%27%23f1eef6ff%27%2C%20%27%23f1eef6ff%27%2C%20%27%23f1eef6ff%27%2C%20%27%23f1eef6ff%27%2C%20%27%23f1eef6ff%27%2C%20%27%23f1eef6ff%27%2C%20%27%23f1eef6ff%27%2C%20%27%23f1eef6ff%27%2C%20%27%23f1eef6ff%27%2C%20%27%23f1eef6ff%27%2C%20%27%23f1eef6ff%27%2C%20%27%23f1eef6ff%27%2C%20%27%23f1eef6ff%27%2C%20%27%23f1eef6ff%27%2C%20%27%23f1eef6ff%27%2C%20%27%23f1eef6ff%27%2C%20%27%23f1eef6ff%27%2C%20%27%23f1eef6ff%27%2C%20%27%23f1eef6ff%27%2C%20%27%23f1eef6ff%27%2C%20%27%23d4b9daff%27%2C%20%27%23d4b9daff%27%2C%20%27%23d4b9daff%27%2C%20%27%23d4b9daff%27%2C%20%27%23d4b9daff%27%2C%20%27%23d4b9daff%27%2C%20%27%23d4b9daff%27%2C%20%27%23d4b9daff%27%2C%20%27%23d4b9daff%27%2C%20%27%23d4b9daff%27%2C%20%27%23d4b9daff%27%2C%20%27%23d4b9daff%27%2C%20%27%23d4b9daff%27%2C%20%27%23d4b9daff%27%2C%20%27%23d4b9daff%27%2C%20%27%23d4b9daff%27%2C%20%27%23d4b9daff%27%2C%20%27%23d4b9daff%27%2C%20%27%23d4b9daff%27%2C%20%27%23d4b9daff%27%2C%20%27%23d4b9daff%27%2C%20%27%23d4b9daff%27%2C%20%27%23d4b9daff%27%2C%20%27%23d4b9daff%27%2C%20%27%23d4b9daff%27%2C%20%27%23d4b9daff%27%2C%20%27%23d4b9daff%27%2C%20%27%23d4b9daff%27%2C%20%27%23d4b9daff%27%2C%20%27%23d4b9daff%27%2C%20%27%23d4b9daff%27%2C%20%27%23d4b9daff%27%2C%20%27%23d4b9daff%27%2C%20%27%23d4b9daff%27%2C%20%27%23d4b9daff%27%2C%20%27%23d4b9daff%27%2C%20%27%23d4b9daff%27%2C%20%27%23d4b9daff%27%2C%20%27%23d4b9daff%27%2C%20%27%23d4b9daff%27%2C%20%27%23d4b9daff%27%2C%20%27%23d4b9daff%27%2C%20%27%23d4b9daff%27%2C%20%27%23d4b9daff%27%2C%20%27%23d4b9daff%27%2C%20%27%23d4b9daff%27%2C%20%27%23d4b9daff%27%2C%20%27%23d4b9daff%27%2C%20%27%23d4b9daff%27%2C%20%27%23d4b9daff%27%2C%20%27%23d4b9daff%27%2C%20%27%23d4b9daff%27%2C%20%27%23d4b9daff%27%2C%20%27%23d4b9daff%27%2C%20%27%23d4b9daff%27%2C%20%27%23d4b9daff%27%2C%20%27%23d4b9daff%27%2C%20%27%23d4b9daff%27%2C%20%27%23d4b9daff%27%2C%20%27%23d4b9daff%27%2C%20%27%23d4b9daff%27%2C%20%27%23d4b9daff%27%2C%20%27%23d4b9daff%27%2C%20%27%23d4b9daff%27%2C%20%27%23d4b9daff%27%2C%20%27%23d4b9daff%27%2C%20%27%23d4b9daff%27%2C%20%27%23d4b9daff%27%2C%20%27%23d4b9daff%27%2C%20%27%23d4b9daff%27%2C%20%27%23d4b9daff%27%2C%20%27%23d4b9daff%27%2C%20%27%23d4b9daff%27%2C%20%27%23d4b9daff%27%2C%20%27%23d4b9daff%27%2C%20%27%23d4b9daff%27%2C%20%27%23d4b9daff%27%2C%20%27%23d4b9daff%27%2C%20%27%23d4b9daff%27%2C%20%27%23d4b9daff%27%2C%20%27%23d4b9daff%27%2C%20%27%23d4b9daff%27%2C%20%27%23d4b9daff%27%2C%20%27%23c994c7ff%27%2C%20%27%23c994c7ff%27%2C%20%27%23c994c7ff%27%2C%20%27%23c994c7ff%27%2C%20%27%23c994c7ff%27%2C%20%27%23c994c7ff%27%2C%20%27%23c994c7ff%27%2C%20%27%23c994c7ff%27%2C%20%27%23c994c7ff%27%2C%20%27%23c994c7ff%27%2C%20%27%23c994c7ff%27%2C%20%27%23c994c7ff%27%2C%20%27%23c994c7ff%27%2C%20%27%23c994c7ff%27%2C%20%27%23c994c7ff%27%2C%20%27%23c994c7ff%27%2C%20%27%23c994c7ff%27%2C%20%27%23c994c7ff%27%2C%20%27%23c994c7ff%27%2C%20%27%23c994c7ff%27%2C%20%27%23c994c7ff%27%2C%20%27%23c994c7ff%27%2C%20%27%23c994c7ff%27%2C%20%27%23c994c7ff%27%2C%20%27%23c994c7ff%27%2C%20%27%23c994c7ff%27%2C%20%27%23c994c7ff%27%2C%20%27%23c994c7ff%27%2C%20%27%23c994c7ff%27%2C%20%27%23c994c7ff%27%2C%20%27%23c994c7ff%27%2C%20%27%23c994c7ff%27%2C%20%27%23c994c7ff%27%2C%20%27%23c994c7ff%27%2C%20%27%23c994c7ff%27%2C%20%27%23c994c7ff%27%2C%20%27%23c994c7ff%27%2C%20%27%23c994c7ff%27%2C%20%27%23c994c7ff%27%2C%20%27%23c994c7ff%27%2C%20%27%23c994c7ff%27%2C%20%27%23c994c7ff%27%2C%20%27%23c994c7ff%27%2C%20%27%23c994c7ff%27%2C%20%27%23c994c7ff%27%2C%20%27%23c994c7ff%27%2C%20%27%23c994c7ff%27%2C%20%27%23c994c7ff%27%2C%20%27%23c994c7ff%27%2C%20%27%23c994c7ff%27%2C%20%27%23c994c7ff%27%2C%20%27%23c994c7ff%27%2C%20%27%23c994c7ff%27%2C%20%27%23c994c7ff%27%2C%20%27%23c994c7ff%27%2C%20%27%23c994c7ff%27%2C%20%27%23c994c7ff%27%2C%20%27%23c994c7ff%27%2C%20%27%23c994c7ff%27%2C%20%27%23c994c7ff%27%2C%20%27%23c994c7ff%27%2C%20%27%23c994c7ff%27%2C%20%27%23c994c7ff%27%2C%20%27%23c994c7ff%27%2C%20%27%23c994c7ff%27%2C%20%27%23c994c7ff%27%2C%20%27%23c994c7ff%27%2C%20%27%23c994c7ff%27%2C%20%27%23c994c7ff%27%2C%20%27%23c994c7ff%27%2C%20%27%23c994c7ff%27%2C%20%27%23c994c7ff%27%2C%20%27%23c994c7ff%27%2C%20%27%23c994c7ff%27%2C%20%27%23c994c7ff%27%2C%20%27%23c994c7ff%27%2C%20%27%23c994c7ff%27%2C%20%27%23c994c7ff%27%2C%20%27%23c994c7ff%27%2C%20%27%23c994c7ff%27%2C%20%27%23c994c7ff%27%2C%20%27%23c994c7ff%27%2C%20%27%23c994c7ff%27%2C%20%27%23df65b0ff%27%2C%20%27%23df65b0ff%27%2C%20%27%23df65b0ff%27%2C%20%27%23df65b0ff%27%2C%20%27%23df65b0ff%27%2C%20%27%23df65b0ff%27%2C%20%27%23df65b0ff%27%2C%20%27%23df65b0ff%27%2C%20%27%23df65b0ff%27%2C%20%27%23df65b0ff%27%2C%20%27%23df65b0ff%27%2C%20%27%23df65b0ff%27%2C%20%27%23df65b0ff%27%2C%20%27%23df65b0ff%27%2C%20%27%23df65b0ff%27%2C%20%27%23df65b0ff%27%2C%20%27%23df65b0ff%27%2C%20%27%23df65b0ff%27%2C%20%27%23df65b0ff%27%2C%20%27%23df65b0ff%27%2C%20%27%23df65b0ff%27%2C%20%27%23df65b0ff%27%2C%20%27%23df65b0ff%27%2C%20%27%23df65b0ff%27%2C%20%27%23df65b0ff%27%2C%20%27%23df65b0ff%27%2C%20%27%23df65b0ff%27%2C%20%27%23df65b0ff%27%2C%20%27%23df65b0ff%27%2C%20%27%23df65b0ff%27%2C%20%27%23df65b0ff%27%2C%20%27%23df65b0ff%27%2C%20%27%23df65b0ff%27%2C%20%27%23df65b0ff%27%2C%20%27%23df65b0ff%27%2C%20%27%23df65b0ff%27%2C%20%27%23df65b0ff%27%2C%20%27%23df65b0ff%27%2C%20%27%23df65b0ff%27%2C%20%27%23df65b0ff%27%2C%20%27%23df65b0ff%27%2C%20%27%23df65b0ff%27%2C%20%27%23df65b0ff%27%2C%20%27%23df65b0ff%27%2C%20%27%23df65b0ff%27%2C%20%27%23df65b0ff%27%2C%20%27%23df65b0ff%27%2C%20%27%23df65b0ff%27%2C%20%27%23df65b0ff%27%2C%20%27%23df65b0ff%27%2C%20%27%23df65b0ff%27%2C%20%27%23df65b0ff%27%2C%20%27%23df65b0ff%27%2C%20%27%23df65b0ff%27%2C%20%27%23df65b0ff%27%2C%20%27%23df65b0ff%27%2C%20%27%23df65b0ff%27%2C%20%27%23df65b0ff%27%2C%20%27%23df65b0ff%27%2C%20%27%23df65b0ff%27%2C%20%27%23df65b0ff%27%2C%20%27%23df65b0ff%27%2C%20%27%23df65b0ff%27%2C%20%27%23df65b0ff%27%2C%20%27%23df65b0ff%27%2C%20%27%23df65b0ff%27%2C%20%27%23df65b0ff%27%2C%20%27%23df65b0ff%27%2C%20%27%23df65b0ff%27%2C%20%27%23df65b0ff%27%2C%20%27%23df65b0ff%27%2C%20%27%23df65b0ff%27%2C%20%27%23df65b0ff%27%2C%20%27%23df65b0ff%27%2C%20%27%23df65b0ff%27%2C%20%27%23df65b0ff%27%2C%20%27%23df65b0ff%27%2C%20%27%23df65b0ff%27%2C%20%27%23df65b0ff%27%2C%20%27%23df65b0ff%27%2C%20%27%23df65b0ff%27%2C%20%27%23df65b0ff%27%2C%20%27%23df65b0ff%27%2C%20%27%23dd1c77ff%27%2C%20%27%23dd1c77ff%27%2C%20%27%23dd1c77ff%27%2C%20%27%23dd1c77ff%27%2C%20%27%23dd1c77ff%27%2C%20%27%23dd1c77ff%27%2C%20%27%23dd1c77ff%27%2C%20%27%23dd1c77ff%27%2C%20%27%23dd1c77ff%27%2C%20%27%23dd1c77ff%27%2C%20%27%23dd1c77ff%27%2C%20%27%23dd1c77ff%27%2C%20%27%23dd1c77ff%27%2C%20%27%23dd1c77ff%27%2C%20%27%23dd1c77ff%27%2C%20%27%23dd1c77ff%27%2C%20%27%23dd1c77ff%27%2C%20%27%23dd1c77ff%27%2C%20%27%23dd1c77ff%27%2C%20%27%23dd1c77ff%27%2C%20%27%23dd1c77ff%27%2C%20%27%23dd1c77ff%27%2C%20%27%23dd1c77ff%27%2C%20%27%23dd1c77ff%27%2C%20%27%23dd1c77ff%27%2C%20%27%23dd1c77ff%27%2C%20%27%23dd1c77ff%27%2C%20%27%23dd1c77ff%27%2C%20%27%23dd1c77ff%27%2C%20%27%23dd1c77ff%27%2C%20%27%23dd1c77ff%27%2C%20%27%23dd1c77ff%27%2C%20%27%23dd1c77ff%27%2C%20%27%23dd1c77ff%27%2C%20%27%23dd1c77ff%27%2C%20%27%23dd1c77ff%27%2C%20%27%23dd1c77ff%27%2C%20%27%23dd1c77ff%27%2C%20%27%23dd1c77ff%27%2C%20%27%23dd1c77ff%27%2C%20%27%23dd1c77ff%27%2C%20%27%23dd1c77ff%27%2C%20%27%23dd1c77ff%27%2C%20%27%23dd1c77ff%27%2C%20%27%23dd1c77ff%27%2C%20%27%23dd1c77ff%27%2C%20%27%23dd1c77ff%27%2C%20%27%23dd1c77ff%27%2C%20%27%23dd1c77ff%27%2C%20%27%23dd1c77ff%27%2C%20%27%23dd1c77ff%27%2C%20%27%23dd1c77ff%27%2C%20%27%23dd1c77ff%27%2C%20%27%23dd1c77ff%27%2C%20%27%23dd1c77ff%27%2C%20%27%23dd1c77ff%27%2C%20%27%23dd1c77ff%27%2C%20%27%23dd1c77ff%27%2C%20%27%23dd1c77ff%27%2C%20%27%23dd1c77ff%27%2C%20%27%23dd1c77ff%27%2C%20%27%23dd1c77ff%27%2C%20%27%23dd1c77ff%27%2C%20%27%23dd1c77ff%27%2C%20%27%23dd1c77ff%27%2C%20%27%23dd1c77ff%27%2C%20%27%23dd1c77ff%27%2C%20%27%23dd1c77ff%27%2C%20%27%23dd1c77ff%27%2C%20%27%23dd1c77ff%27%2C%20%27%23dd1c77ff%27%2C%20%27%23dd1c77ff%27%2C%20%27%23dd1c77ff%27%2C%20%27%23dd1c77ff%27%2C%20%27%23dd1c77ff%27%2C%20%27%23dd1c77ff%27%2C%20%27%23dd1c77ff%27%2C%20%27%23dd1c77ff%27%2C%20%27%23dd1c77ff%27%2C%20%27%23dd1c77ff%27%2C%20%27%23dd1c77ff%27%2C%20%27%23dd1c77ff%27%2C%20%27%23dd1c77ff%27%2C%20%27%23980043ff%27%2C%20%27%23980043ff%27%2C%20%27%23980043ff%27%2C%20%27%23980043ff%27%2C%20%27%23980043ff%27%2C%20%27%23980043ff%27%2C%20%27%23980043ff%27%2C%20%27%23980043ff%27%2C%20%27%23980043ff%27%2C%20%27%23980043ff%27%2C%20%27%23980043ff%27%2C%20%27%23980043ff%27%2C%20%27%23980043ff%27%2C%20%27%23980043ff%27%2C%20%27%23980043ff%27%2C%20%27%23980043ff%27%2C%20%27%23980043ff%27%2C%20%27%23980043ff%27%2C%20%27%23980043ff%27%2C%20%27%23980043ff%27%2C%20%27%23980043ff%27%2C%20%27%23980043ff%27%2C%20%27%23980043ff%27%2C%20%27%23980043ff%27%2C%20%27%23980043ff%27%2C%20%27%23980043ff%27%2C%20%27%23980043ff%27%2C%20%27%23980043ff%27%2C%20%27%23980043ff%27%2C%20%27%23980043ff%27%2C%20%27%23980043ff%27%2C%20%27%23980043ff%27%2C%20%27%23980043ff%27%2C%20%27%23980043ff%27%2C%20%27%23980043ff%27%2C%20%27%23980043ff%27%2C%20%27%23980043ff%27%2C%20%27%23980043ff%27%2C%20%27%23980043ff%27%2C%20%27%23980043ff%27%2C%20%27%23980043ff%27%2C%20%27%23980043ff%27%2C%20%27%23980043ff%27%2C%20%27%23980043ff%27%2C%20%27%23980043ff%27%2C%20%27%23980043ff%27%2C%20%27%23980043ff%27%2C%20%27%23980043ff%27%2C%20%27%23980043ff%27%2C%20%27%23980043ff%27%2C%20%27%23980043ff%27%2C%20%27%23980043ff%27%2C%20%27%23980043ff%27%2C%20%27%23980043ff%27%2C%20%27%23980043ff%27%2C%20%27%23980043ff%27%2C%20%27%23980043ff%27%2C%20%27%23980043ff%27%2C%20%27%23980043ff%27%2C%20%27%23980043ff%27%2C%20%27%23980043ff%27%2C%20%27%23980043ff%27%2C%20%27%23980043ff%27%2C%20%27%23980043ff%27%2C%20%27%23980043ff%27%2C%20%27%23980043ff%27%2C%20%27%23980043ff%27%2C%20%27%23980043ff%27%2C%20%27%23980043ff%27%2C%20%27%23980043ff%27%2C%20%27%23980043ff%27%2C%20%27%23980043ff%27%2C%20%27%23980043ff%27%2C%20%27%23980043ff%27%2C%20%27%23980043ff%27%2C%20%27%23980043ff%27%2C%20%27%23980043ff%27%2C%20%27%23980043ff%27%2C%20%27%23980043ff%27%2C%20%27%23980043ff%27%2C%20%27%23980043ff%27%2C%20%27%23980043ff%27%2C%20%27%23980043ff%27%2C%20%27%23980043ff%27%5D%29%3B%0A%20%20%20%20%0A%0A%20%20%20%20color_map_1047682350b64d96b30f86cf8e22cee1.x%20%3D%20d3.scale.linear%28%29%0A%20%20%20%20%20%20%20%20%20%20%20%20%20%20.domain%28%5B1648.6153846153845%2C%202142.9%5D%29%0A%20%20%20%20%20%20%20%20%20%20%20%20%20%20.range%28%5B0%2C%20400%5D%29%3B%0A%0A%20%20%20%20color_map_1047682350b64d96b30f86cf8e22cee1.legend%20%3D%20L.control%28%7Bposition%3A%20%27topright%27%7D%29%3B%0A%20%20%20%20color_map_1047682350b64d96b30f86cf8e22cee1.legend.onAdd%20%3D%20function%20%28map%29%20%7Bvar%20div%20%3D%20L.DomUtil.create%28%27div%27%2C%20%27legend%27%29%3B%20return%20div%7D%3B%0A%20%20%20%20color_map_1047682350b64d96b30f86cf8e22cee1.legend.addTo%28map_f5b74ecf2c73488fb96f9fea9c11802c%29%3B%0A%0A%20%20%20%20color_map_1047682350b64d96b30f86cf8e22cee1.xAxis%20%3D%20d3.svg.axis%28%29%0A%20%20%20%20%20%20%20%20.scale%28color_map_1047682350b64d96b30f86cf8e22cee1.x%29%0A%20%20%20%20%20%20%20%20.orient%28%22top%22%29%0A%20%20%20%20%20%20%20%20.tickSize%281%29%0A%20%20%20%20%20%20%20%20.tickValues%28%5B1648.6153846153845%2C%201730.996153846154%2C%201813.376923076923%2C%201895.7576923076922%2C%201978.1384615384616%2C%202060.519230769231%2C%202142.9%5D%29%3B%0A%0A%20%20%20%20color_map_1047682350b64d96b30f86cf8e22cee1.svg%20%3D%20d3.select%28%22.legend.leaflet-control%22%29.append%28%22svg%22%29%0A%20%20%20%20%20%20%20%20.attr%28%22id%22%2C%20%27legend%27%29%0A%20%20%20%20%20%20%20%20.attr%28%22width%22%2C%20450%29%0A%20%20%20%20%20%20%20%20.attr%28%22height%22%2C%2040%29%3B%0A%0A%20%20%20%20color_map_1047682350b64d96b30f86cf8e22cee1.g%20%3D%20color_map_1047682350b64d96b30f86cf8e22cee1.svg.append%28%22g%22%29%0A%20%20%20%20%20%20%20%20.attr%28%22class%22%2C%20%22key%22%29%0A%20%20%20%20%20%20%20%20.attr%28%22transform%22%2C%20%22translate%2825%2C16%29%22%29%3B%0A%0A%20%20%20%20color_map_1047682350b64d96b30f86cf8e22cee1.g.selectAll%28%22rect%22%29%0A%20%20%20%20%20%20%20%20.data%28color_map_1047682350b64d96b30f86cf8e22cee1.color.range%28%29.map%28function%28d%2C%20i%29%20%7B%0A%20%20%20%20%20%20%20%20%20%20return%20%7B%0A%20%20%20%20%20%20%20%20%20%20%20%20x0%3A%20i%20%3F%20color_map_1047682350b64d96b30f86cf8e22cee1.x%28color_map_1047682350b64d96b30f86cf8e22cee1.color.domain%28%29%5Bi%20-%201%5D%29%20%3A%20color_map_1047682350b64d96b30f86cf8e22cee1.x.range%28%29%5B0%5D%2C%0A%20%20%20%20%20%20%20%20%20%20%20%20x1%3A%20i%20%3C%20color_map_1047682350b64d96b30f86cf8e22cee1.color.domain%28%29.length%20%3F%20color_map_1047682350b64d96b30f86cf8e22cee1.x%28color_map_1047682350b64d96b30f86cf8e22cee1.color.domain%28%29%5Bi%5D%29%20%3A%20color_map_1047682350b64d96b30f86cf8e22cee1.x.range%28%29%5B1%5D%2C%0A%20%20%20%20%20%20%20%20%20%20%20%20z%3A%20d%0A%20%20%20%20%20%20%20%20%20%20%7D%3B%0A%20%20%20%20%20%20%20%20%7D%29%29%0A%20%20%20%20%20%20.enter%28%29.append%28%22rect%22%29%0A%20%20%20%20%20%20%20%20.attr%28%22height%22%2C%2010%29%0A%20%20%20%20%20%20%20%20.attr%28%22x%22%2C%20function%28d%29%20%7B%20return%20d.x0%3B%20%7D%29%0A%20%20%20%20%20%20%20%20.attr%28%22width%22%2C%20function%28d%29%20%7B%20return%20d.x1%20-%20d.x0%3B%20%7D%29%0A%20%20%20%20%20%20%20%20.style%28%22fill%22%2C%20function%28d%29%20%7B%20return%20d.z%3B%20%7D%29%3B%0A%0A%20%20%20%20color_map_1047682350b64d96b30f86cf8e22cee1.g.call%28color_map_1047682350b64d96b30f86cf8e22cee1.xAxis%29.append%28%22text%22%29%0A%20%20%20%20%20%20%20%20.attr%28%22class%22%2C%20%22caption%22%29%0A%20%20%20%20%20%20%20%20.attr%28%22y%22%2C%2021%29%0A%20%20%20%20%20%20%20%20.text%28%27%27%29%3B%0A%3C/script%3E onload=\"this.contentDocument.open();this.contentDocument.write(    decodeURIComponent(this.getAttribute('data-html')));this.contentDocument.close();\" allowfullscreen webkitallowfullscreen mozallowfullscreen></iframe></div></div>"
      ],
      "text/plain": [
       "<folium.folium.Map at 0x182406af518>"
      ]
     },
     "execution_count": 107,
     "metadata": {},
     "output_type": "execute_result"
    }
   ],
   "source": [
    "geo_path = \"../data/02. skorea_municipalities_geo_simple.json\"\n",
    "geo_str = json.load(open(geo_path, encoding = \"utf-8\"))\n",
    "\n",
    "my_map = folium.Map(location = [37.5502, 126.982], \n",
    "                    zoom_start = 10.5, tiles = \"Stamen Toner\")\n",
    "my_map.choropleth(\n",
    "    geo_data = geo_str,\n",
    "    data = gu_data,\n",
    "    columns = [gu_data.index, \"가격\"],\n",
    "    key_on = \"feature.id\", #data랑 지도 합쳐주는 기준\n",
    "    fill_color = \"PuRd\",\n",
    ")\n",
    "my_map"
   ]
  },
  {
   "cell_type": "markdown",
   "metadata": {},
   "source": [
    "#### 서울 한가운데 주유소가 비싸다, 바깥으로 나갈 수록 저렴하다"
   ]
  },
  {
   "cell_type": "code",
   "execution_count": null,
   "metadata": {},
   "outputs": [],
   "source": []
  }
 ],
 "metadata": {
  "kernelspec": {
   "display_name": "Python 3",
   "language": "python",
   "name": "python3"
  },
  "language_info": {
   "codemirror_mode": {
    "name": "ipython",
    "version": 3
   },
   "file_extension": ".py",
   "mimetype": "text/x-python",
   "name": "python",
   "nbconvert_exporter": "python",
   "pygments_lexer": "ipython3",
   "version": "3.7.3"
  }
 },
 "nbformat": 4,
 "nbformat_minor": 4
}
