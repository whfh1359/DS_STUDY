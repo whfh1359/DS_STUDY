{
 "cells": [
  {
   "cell_type": "markdown",
   "metadata": {},
   "source": [
    "- iframe\n",
    "- headless"
   ]
  },
  {
   "cell_type": "markdown",
   "metadata": {},
   "source": [
    "# wait\n",
    "- time.sleep(5) : 물리적으로 5초 동안 멈추고 기다린다.\n",
    "- implicitly.wait(10)\n",
    "    - 전체 페이지 로딩을 최대 10초간 기다리고, 10초 안에 페이지 로딩이 완료되면 다음 코드 실행\n",
    "    - 한 번만 실행하면 전역(global)에서 실행 가능하다\n",
    "- explicitly wait\n",
    "    - 지정한 태그만 로딩이 완료되면, 다음 코드 실행"
   ]
  },
  {
   "cell_type": "markdown",
   "metadata": {},
   "source": [
    "- 무신사 스토어\n",
    "- https://store.musinsa.com/app/\n",
    "- 인기 => 후드 집업\n",
    "- 단독상품, 세일상품 조건을 선택\n",
    "- 최소~최대 금액 입력\n",
    "- 옷 이름, 가격, 할인율, 링크, 이미지 "
   ]
  },
  {
   "cell_type": "code",
   "execution_count": 4,
   "metadata": {},
   "outputs": [],
   "source": [
    "import pandas as pd\n",
    "import time\n",
    "from selenium import webdriver\n",
    "\n",
    "# explicitly wait 사용하려면 다음 3줄 공식처럼 외우기\n",
    "from selenium.webdriver.common.by import By\n",
    "from selenium.webdriver.support.ui import WebDriverWait\n",
    "from selenium.webdriver.support import expected_conditions as EC"
   ]
  },
  {
   "cell_type": "code",
   "execution_count": 96,
   "metadata": {},
   "outputs": [],
   "source": [
    "url = \"https://store.musinsa.com/app/\"\n",
    "driver = webdriver.Chrome(\"../driver/chromedriver\")\n",
    "#웹 페이지 전체가 로딩 될 때까지 10초간 대기하고, 10초안에 로딩 완료되면 다음 코드 실행\n",
    "driver.implicitly_wait(10) \n",
    "driver.get(url)"
   ]
  },
  {
   "cell_type": "code",
   "execution_count": 6,
   "metadata": {},
   "outputs": [],
   "source": [
    "# 로그인 버튼 클릭\n",
    "driver.find_element_by_css_selector(\"#default_top > div.header-member > button\").click()"
   ]
  },
  {
   "cell_type": "code",
   "execution_count": 8,
   "metadata": {},
   "outputs": [],
   "source": [
    "#로그인 id 입력\n",
    "driver.find_element_by_css_selector(\"body > div.musinsa-wrapper.wrapper-member.devicePC > div > form > input:nth-child(5)\").send_keys(\"zerobase\")"
   ]
  },
  {
   "cell_type": "code",
   "execution_count": 9,
   "metadata": {},
   "outputs": [],
   "source": [
    "#로그인 password 입력\n",
    "driver.find_element_by_css_selector(\"body > div.musinsa-wrapper.wrapper-member.devicePC > div > form > input:nth-child(6)\").send_keys(\"zerobase\")"
   ]
  },
  {
   "cell_type": "code",
   "execution_count": 10,
   "metadata": {},
   "outputs": [],
   "source": [
    "#로그인 버튼 클릭하기\n",
    "driver.find_element_by_css_selector(\"body > div.musinsa-wrapper.wrapper-member.devicePC > div > form > button\").click()"
   ]
  },
  {
   "cell_type": "code",
   "execution_count": 11,
   "metadata": {},
   "outputs": [],
   "source": [
    "# 아이디, 패스워드 잘못 입력했을 때 아이디 확인하라는 팝업 창 뜬다 => alert\n",
    "# alert\n",
    "driver.switch_to.alert.accept()\n",
    "#alert.accept()"
   ]
  },
  {
   "cell_type": "markdown",
   "metadata": {},
   "source": [
    "- 위의 login 페이지 이동은 바로 이동하는 것이고\n",
    "- 밑에 login 페이지 이동은 조건을 걸어주고 이동하는 것이다\n",
    "    - driver 객체를 전달해서 이동"
   ]
  },
  {
   "cell_type": "code",
   "execution_count": 91,
   "metadata": {},
   "outputs": [],
   "source": [
    "WebDriverWait(driver, 5).\\\n",
    "until(EC.presence_of_element_located((By.CSS_SELECTOR, \"#default_top > div.header-member > button\"))).click() #5초는 시간\n"
   ]
  },
  {
   "cell_type": "code",
   "execution_count": 20,
   "metadata": {},
   "outputs": [],
   "source": [
    "WebDriverWait(driver, 5).\\\n",
    "until(EC.presence_of_element_located((By.CSS_SELECTOR, \"body > div.musinsa-wrapper.wrapper-member.devicePC > div > form > input:nth-child(5)\"))).send_keys(\"zerobase\") #5초는 시간\n",
    "\n",
    "WebDriverWait(driver, 5).\\\n",
    "until(EC.presence_of_element_located((By.CSS_SELECTOR, \"body > div.musinsa-wrapper.wrapper-member.devicePC > div > form > input:nth-child(6)\"))).send_keys(\"zerobase\") #5초는 시간\n",
    "\n",
    "WebDriverWait(driver, 5).\\\n",
    "until(EC.presence_of_element_located((By.CSS_SELECTOR, \"body > div.musinsa-wrapper.wrapper-member.devicePC > div > form > button\"))).click() #5초는 시간"
   ]
  },
  {
   "cell_type": "markdown",
   "metadata": {},
   "source": [
    "#### 인기 => 후드 집업"
   ]
  },
  {
   "cell_type": "code",
   "execution_count": 97,
   "metadata": {},
   "outputs": [
    {
     "data": {
      "text/plain": [
       "'https://search.musinsa.com/category/002022'"
      ]
     },
     "execution_count": 97,
     "metadata": {},
     "output_type": "execute_result"
    }
   ],
   "source": [
    "# 아래 코드는 실행하면 에러난다. 주소값이 담겨있는 것을 가져와야 한다\n",
    "# driver.find_element_by_css_selector(\"#ui-id-2 > ul:nth-child(1) > li:nth-child(1) > a\").click()\n",
    "best_link = driver.find_element_by_css_selector(\"#ui-id-2 > ul:nth-child(1) > li:nth-child(1) > a\").get_attribute(\"href\")\n",
    "best_link"
   ]
  },
  {
   "cell_type": "code",
   "execution_count": 93,
   "metadata": {},
   "outputs": [],
   "source": [
    "# 작업하던 창에 새탭이 하나 생기고 naver 홈페이지 뜬다.\n",
    "driver.execute_script(\"window.open('https://www.naver.com')\")"
   ]
  },
  {
   "cell_type": "code",
   "execution_count": 104,
   "metadata": {},
   "outputs": [
    {
     "name": "stderr",
     "output_type": "stream",
     "text": [
      "C:\\Users\\whfh1\\Anaconda3\\lib\\site-packages\\ipykernel_launcher.py:1: DeprecationWarning: use driver.switch_to.window instead\n",
      "  \"\"\"Entry point for launching an IPython kernel.\n"
     ]
    }
   ],
   "source": [
    "driver.switch_to_window(driver.window_handles[1])"
   ]
  },
  {
   "cell_type": "code",
   "execution_count": 98,
   "metadata": {},
   "outputs": [],
   "source": [
    "# 인기 => 후드 집업 링크 => 새 탭으로 열기\n",
    "driver.execute_script(\"window.open('{}')\".format(best_link))"
   ]
  },
  {
   "cell_type": "markdown",
   "metadata": {},
   "source": [
    "#### 단독 상품 선택 & 세일 상품 선택"
   ]
  },
  {
   "cell_type": "code",
   "execution_count": 105,
   "metadata": {},
   "outputs": [],
   "source": [
    "# 단독 상품 선택\n",
    "#driver.find_element_by_css_selector(\"#btn_exclusive\").click()\n",
    "\n",
    "#WebDriverWait 기능으로 구현\n",
    "WebDriverWait(driver, 5).\\\n",
    "until(EC.presence_of_element_located((By.CSS_SELECTOR, \"#btn_exclusive\"))).click() #5초는 시간\n",
    "\n",
    "# 세일 상품 선택\n",
    "#driver.find_element_by_css_selector(\"#btn_sale\").click()\n",
    "\n",
    "WebDriverWait(driver, 5).\\\n",
    "until(EC.presence_of_element_located((By.CSS_SELECTOR, \"#btn_sale\"))).click() #5초는 시간"
   ]
  },
  {
   "cell_type": "markdown",
   "metadata": {},
   "source": [
    "#### 최소~최대 금액 설정"
   ]
  },
  {
   "cell_type": "code",
   "execution_count": 106,
   "metadata": {},
   "outputs": [],
   "source": [
    "WebDriverWait(driver, 5).\\\n",
    "until(EC.presence_of_element_located((By.CSS_SELECTOR, \"#minPrice\"))).send_keys(\"10000\")\n",
    "\n",
    "WebDriverWait(driver, 5).\\\n",
    "until(EC.presence_of_element_located((By.CSS_SELECTOR, \"#maxPrice\"))).send_keys(\"100000\")\n",
    "\n",
    "WebDriverWait(driver, 5).\\\n",
    "until(EC.presence_of_element_located((By.CSS_SELECTOR, \"#btn_price_search\"))).click()"
   ]
  },
  {
   "cell_type": "code",
   "execution_count": 107,
   "metadata": {},
   "outputs": [
    {
     "data": {
      "text/plain": [
       "90"
      ]
     },
     "execution_count": 107,
     "metadata": {},
     "output_type": "execute_result"
    }
   ],
   "source": [
    "# 부모 태그\n",
    "\n",
    "outers = driver.find_elements_by_css_selector(\"#searchList > li\")\n",
    "len(outers)"
   ]
  },
  {
   "cell_type": "code",
   "execution_count": 108,
   "metadata": {},
   "outputs": [
    {
     "data": {
      "text/plain": [
       "'SALE 13%\\n한정 판매\\n남성\\n토피\\n10/19 배송 2WAY 스웻 후드 집업 (MELANGE GREY)\\n45,000원 39,000원\\nMEMBERSHIP PRICE\\n▼\\n7,657\\n49,704\\nOPTION ▼'"
      ]
     },
     "execution_count": 108,
     "metadata": {},
     "output_type": "execute_result"
    }
   ],
   "source": [
    "# 자식 태그\n",
    "outers[0].text"
   ]
  },
  {
   "cell_type": "code",
   "execution_count": 109,
   "metadata": {},
   "outputs": [
    {
     "data": {
      "text/plain": [
       "'10/19 배송 2WAY 스웻 후드 집업 (MELANGE GREY)'"
      ]
     },
     "execution_count": 109,
     "metadata": {},
     "output_type": "execute_result"
    }
   ],
   "source": [
    "outers[0].find_element_by_css_selector(\"p.list_info > a\").text"
   ]
  },
  {
   "cell_type": "markdown",
   "metadata": {},
   "source": [
    "#### 옷 이름"
   ]
  },
  {
   "cell_type": "code",
   "execution_count": 110,
   "metadata": {},
   "outputs": [
    {
     "data": {
      "text/plain": [
       "'2WAY 스웻 후드 집업 (MELANGE GREY)'"
      ]
     },
     "execution_count": 110,
     "metadata": {},
     "output_type": "execute_result"
    }
   ],
   "source": [
    "# 앞에 날짜 거슬리면 title로 가져오기\n",
    "outers[0].find_element_by_css_selector(\"p.list_info > a\").get_attribute(\"title\")"
   ]
  },
  {
   "cell_type": "markdown",
   "metadata": {},
   "source": [
    "#### 옷 가격"
   ]
  },
  {
   "cell_type": "code",
   "execution_count": 111,
   "metadata": {},
   "outputs": [
    {
     "data": {
      "text/plain": [
       "['45,000원', '39,000원']"
      ]
     },
     "execution_count": 111,
     "metadata": {},
     "output_type": "execute_result"
    }
   ],
   "source": [
    "outers[0].find_element_by_css_selector(\"p.price\").text.split(\" \")"
   ]
  },
  {
   "cell_type": "code",
   "execution_count": 112,
   "metadata": {},
   "outputs": [
    {
     "data": {
      "text/plain": [
       "'39,000'"
      ]
     },
     "execution_count": 112,
     "metadata": {},
     "output_type": "execute_result"
    }
   ],
   "source": [
    "# 현재 판매하는 가격에 대해서만 단위 제외하고 보기\n",
    "outers[0].find_element_by_css_selector(\"p.price\").text.split(\" \")[1][:-1]"
   ]
  },
  {
   "cell_type": "markdown",
   "metadata": {},
   "source": [
    "#### 할인율"
   ]
  },
  {
   "cell_type": "code",
   "execution_count": 113,
   "metadata": {},
   "outputs": [
    {
     "data": {
      "text/plain": [
       "'13'"
      ]
     },
     "execution_count": 113,
     "metadata": {},
     "output_type": "execute_result"
    }
   ],
   "source": [
    "outers[0].find_element_by_css_selector(\".icon_new\").text.split(\" \")[1][:-1]"
   ]
  },
  {
   "cell_type": "markdown",
   "metadata": {},
   "source": [
    "#### 링크"
   ]
  },
  {
   "cell_type": "code",
   "execution_count": 114,
   "metadata": {},
   "outputs": [
    {
     "data": {
      "text/plain": [
       "'https://store.musinsa.com/app/goods/1778404'"
      ]
     },
     "execution_count": 114,
     "metadata": {},
     "output_type": "execute_result"
    }
   ],
   "source": [
    "# 앞에 날짜 거슬리면 title로 가져오기\n",
    "outers[0].find_element_by_css_selector(\"p.list_info > a\").get_attribute(\"href\")"
   ]
  },
  {
   "cell_type": "markdown",
   "metadata": {},
   "source": [
    "#### 이미지"
   ]
  },
  {
   "cell_type": "code",
   "execution_count": 115,
   "metadata": {},
   "outputs": [
    {
     "data": {
      "text/plain": [
       "'https://image.msscdn.net/images/goods_img/20210204/1778404/1778404_1_125.jpg'"
      ]
     },
     "execution_count": 115,
     "metadata": {},
     "output_type": "execute_result"
    }
   ],
   "source": [
    "outers[0].find_element_by_css_selector(\"a > img\").get_attribute(\"src\")\n",
    "outers[0].find_element_by_css_selector(\"img\").get_attribute(\"src\")"
   ]
  },
  {
   "cell_type": "code",
   "execution_count": 116,
   "metadata": {},
   "outputs": [
    {
     "data": {
      "text/plain": [
       "b'\\xff\\xd8\\xff\\xe0\\x00'"
      ]
     },
     "execution_count": 116,
     "metadata": {},
     "output_type": "execute_result"
    }
   ],
   "source": [
    "# 이미지는 따로 우선 저장\n",
    "import requests\n",
    "res = requests.get('https://image.msscdn.net/images/goods_img/20210204/1778404/1778404_1_125.jpg')\n",
    "res.content[:5]"
   ]
  },
  {
   "cell_type": "code",
   "execution_count": 117,
   "metadata": {},
   "outputs": [],
   "source": [
    "# 썸네일 데이터 저장\n",
    "with open(\"./musinsa/outer.png\", \"wb\") as f:\n",
    "    f.write(res.content)"
   ]
  },
  {
   "cell_type": "code",
   "execution_count": 118,
   "metadata": {},
   "outputs": [
    {
     "data": {
      "application/vnd.jupyter.widget-view+json": {
       "model_id": "d46e3a2f1add4797a0e20a849bb81c88",
       "version_major": 2,
       "version_minor": 0
      },
      "text/plain": [
       "HBox(children=(IntProgress(value=0, max=3), HTML(value='')))"
      ]
     },
     "metadata": {},
     "output_type": "display_data"
    },
    {
     "name": "stdout",
     "output_type": "stream",
     "text": [
      "\n"
     ]
    },
    {
     "data": {
      "text/html": [
       "<div>\n",
       "<style scoped>\n",
       "    .dataframe tbody tr th:only-of-type {\n",
       "        vertical-align: middle;\n",
       "    }\n",
       "\n",
       "    .dataframe tbody tr th {\n",
       "        vertical-align: top;\n",
       "    }\n",
       "\n",
       "    .dataframe thead th {\n",
       "        text-align: right;\n",
       "    }\n",
       "</style>\n",
       "<table border=\"1\" class=\"dataframe\">\n",
       "  <thead>\n",
       "    <tr style=\"text-align: right;\">\n",
       "      <th></th>\n",
       "      <th>title</th>\n",
       "      <th>price</th>\n",
       "      <th>sale</th>\n",
       "      <th>link</th>\n",
       "      <th>img</th>\n",
       "    </tr>\n",
       "  </thead>\n",
       "  <tbody>\n",
       "    <tr>\n",
       "      <th>0</th>\n",
       "      <td>2WAY 스웻 후드 집업 (MELANGE GREY)</td>\n",
       "      <td>39,000</td>\n",
       "      <td>13</td>\n",
       "      <td>https://store.musinsa.com/app/goods/1778404</td>\n",
       "      <td>https://image.msscdn.net/images/goods_img/2021...</td>\n",
       "    </tr>\n",
       "    <tr>\n",
       "      <th>1</th>\n",
       "      <td>코드 후드 집업 자켓 스모크 그레이</td>\n",
       "      <td>49,900</td>\n",
       "      <td>20</td>\n",
       "      <td>https://store.musinsa.com/app/goods/1280576</td>\n",
       "      <td>https://image.msscdn.net/images/goods_img/2020...</td>\n",
       "    </tr>\n",
       "    <tr>\n",
       "      <th>2</th>\n",
       "      <td>2WAY 스웻 후드 집업 (BLACK)</td>\n",
       "      <td>39,000</td>\n",
       "      <td>13</td>\n",
       "      <td>https://store.musinsa.com/app/goods/1778408</td>\n",
       "      <td>https://image.msscdn.net/images/goods_img/2021...</td>\n",
       "    </tr>\n",
       "  </tbody>\n",
       "</table>\n",
       "</div>"
      ],
      "text/plain": [
       "                          title   price sale  \\\n",
       "0  2WAY 스웻 후드 집업 (MELANGE GREY)  39,000   13   \n",
       "1           코드 후드 집업 자켓 스모크 그레이  49,900   20   \n",
       "2         2WAY 스웻 후드 집업 (BLACK)  39,000   13   \n",
       "\n",
       "                                          link  \\\n",
       "0  https://store.musinsa.com/app/goods/1778404   \n",
       "1  https://store.musinsa.com/app/goods/1280576   \n",
       "2  https://store.musinsa.com/app/goods/1778408   \n",
       "\n",
       "                                                 img  \n",
       "0  https://image.msscdn.net/images/goods_img/2021...  \n",
       "1  https://image.msscdn.net/images/goods_img/2020...  \n",
       "2  https://image.msscdn.net/images/goods_img/2021...  "
      ]
     },
     "execution_count": 118,
     "metadata": {},
     "output_type": "execute_result"
    }
   ],
   "source": [
    "# 전체 데이터 크롤링\n",
    "\n",
    "from tqdm import tqdm_notebook\n",
    "\n",
    "datas = []\n",
    "\n",
    "for outer in tqdm_notebook(outers[:3]):\n",
    "    title = outer.find_element_by_css_selector(\"p.list_info > a\").get_attribute(\"title\")\n",
    "    price = outer.find_element_by_css_selector(\"p.price\").text.split(\" \")[1][:-1]\n",
    "    sale = outer.find_element_by_css_selector(\".icon_new\").text.split(\" \")[1][:-1]\n",
    "    link = outer.find_element_by_css_selector(\"p.list_info > a\").get_attribute(\"href\")\n",
    "    image = outer.find_element_by_css_selector(\"img\").get_attribute(\"src\")\n",
    "    datas.append({\n",
    "        \"title\" : title,\n",
    "        \"price\" : price,\n",
    "        \"sale\" : sale,\n",
    "        \"link\" : link,\n",
    "        \"img\" : image\n",
    "    })\n",
    "driver.quit()\n",
    "df = pd.DataFrame(datas)\n",
    "df"
   ]
  },
  {
   "cell_type": "code",
   "execution_count": 120,
   "metadata": {},
   "outputs": [
    {
     "data": {
      "application/vnd.jupyter.widget-view+json": {
       "model_id": "c2588d9d8a744a18bef1f9d5476effc4",
       "version_major": 2,
       "version_minor": 0
      },
      "text/plain": [
       "HBox(children=(IntProgress(value=1, bar_style='info', max=1), HTML(value='')))"
      ]
     },
     "metadata": {},
     "output_type": "display_data"
    },
    {
     "name": "stdout",
     "output_type": "stream",
     "text": [
      "\n"
     ]
    }
   ],
   "source": [
    "# 이미지 다운로드\n",
    "\n",
    "for idx, rows in tqdm_notebook(df.iterrows()):\n",
    "    thumb_link = rows[\"img\"]\n",
    "    response = requests.get(thumb_link)\n",
    "    name = str(idx) + \"_\" + rows[\"title\"]\n",
    "    with open (\"./musinsa/{}.png\" .format(name), \"wb\") as f: #write binary\n",
    "        f.write(response.content)"
   ]
  },
  {
   "cell_type": "markdown",
   "metadata": {},
   "source": [
    "# ipynb .py"
   ]
  },
  {
   "cell_type": "code",
   "execution_count": null,
   "metadata": {},
   "outputs": [],
   "source": [
    "%%writefile ./musinsa.py #항상 이 코드가 최 상단에 있어야한다.\n",
    "\n",
    "print('hi')"
   ]
  },
  {
   "cell_type": "code",
   "execution_count": 123,
   "metadata": {},
   "outputs": [
    {
     "name": "stdout",
     "output_type": "stream",
     "text": [
      "hi\n"
     ]
    },
    {
     "data": {
      "text/plain": [
       "<module 'musinsa' from 'C:\\\\Users\\\\whfh1\\\\DS_STUDY\\\\05. Selenium\\\\musinsa.py'>"
      ]
     },
     "execution_count": 123,
     "metadata": {},
     "output_type": "execute_result"
    }
   ],
   "source": [
    "import musinsa\n",
    "\n",
    "musinsa"
   ]
  },
  {
   "cell_type": "code",
   "execution_count": null,
   "metadata": {},
   "outputs": [],
   "source": [
    "%%writefile ./musinsa.py\n",
    "\n",
    "import pandas as pd\n",
    "import time\n",
    "import requests\n",
    "from selenium import webdriver\n",
    "\n",
    "# explicitly wait 사용하려면 다음 3줄 공식처럼 외우기\n",
    "from selenium.webdriver.common.by import By\n",
    "from selenium.webdriver.support.ui import WebDriverWait\n",
    "from selenium.webdriver.support import expected_conditions as EC\n",
    " \n",
    "#headless 옵션 추가한다\n",
    "print(\"#1. selenium get url\")\n",
    "options = webdriver.ChromeOptions()\n",
    "options.add_argument(\"headless\")\n",
    "\n",
    "# 전체 데이터 크롤링\n",
    "url = \"https://store.musinsa.com/app/\"\n",
    "driver = webdriver.Chrome(\"../driver/chromedriver\", options=options)\n",
    "#웹 페이지 전체가 로딩 될 때까지 10초간 대기하고, 10초안에 로딩 완료되면 다음 코드 실행\n",
    "driver.implicitly_wait(10) \n",
    "driver.get(url)\n",
    "\n",
    "# headless떄문에 화면 최대화 하는 것 추가\n",
    "print(\"#2. maximize window\")\n",
    "driver.maximize_window()\n",
    "\n",
    "print(\"#3. best item\")\n",
    "# 인기 => 후드 집업\n",
    "best_link = driver.find_element_by_css_selector(\"#ui-id-2 > ul:nth-child(1) > li:nth-child(1) > a\").get_attribute(\"href\")\n",
    "# 인기 => 후드 집업 링크 => 새 탭으로 열기\n",
    "driver.execute_script(\"window.open('{}')\".format(best_link))\n",
    "driver.switch_to_window(driver.window_handles[1])\n",
    "print(\"#4. tab open ok! I'm waiting..\")\n",
    "time.sleep(3)\n",
    "\n",
    "print(\"#5. item option check\")\n",
    "# 단독 상품 선택\n",
    "WebDriverWait(driver, 5).\\\n",
    "until(EC.presence_of_element_located((By.CSS_SELECTOR, \"#btn_exclusive\"))).click() #5초는 시간\n",
    "# 세일 상품 선택\n",
    "WebDriverWait(driver, 5).\\\n",
    "until(EC.presence_of_element_located((By.CSS_SELECTOR, \"#btn_sale\"))).click() #5초는 시간\n",
    "# 최소 ~최대 금액 설정\n",
    "WebDriverWait(driver, 5).\\\n",
    "until(EC.presence_of_element_located((By.CSS_SELECTOR, \"#minPrice\"))).send_keys(\"10000\")\n",
    "\n",
    "WebDriverWait(driver, 5).\\\n",
    "until(EC.presence_of_element_located((By.CSS_SELECTOR, \"#maxPrice\"))).send_keys(\"100000\")\n",
    "\n",
    "WebDriverWait(driver, 5).\\\n",
    "until(EC.presence_of_element_located((By.CSS_SELECTOR, \"#btn_price_search\"))).click()\n",
    "print(\"#6. item option check done! I'm waiting\")\n",
    "time.sleep(3)\n",
    "\n",
    "print(\"#7. outers crawling start\")\n",
    "\n",
    "# 부모 태그\n",
    "outers = driver.find-element_by_css_selector(\"#searchList > li\")\n",
    "\n",
    "# 전체 데이터 크롤링 - tqdm 뺀다, tqdm은 jupyter notebook 에서 확인하기 위한 용도\n",
    "datas = []\n",
    "\n",
    "for idx, outer in enumerate(outers[:3]):\n",
    "    title = outer.find_element_by_css_selector(\"p.list_info > a\").get_attribute(\"title\")\n",
    "    price = outer.find_element_by_css_selector(\"p.price\").text.split(\" \")[1][:-1]\n",
    "    sale = outer.find_element_by_css_selector(\".icon_new\").text.split(\" \")[1][:-1]\n",
    "    link = outer.find_element_by_css_selector(\"p.list_info > a\").get_attribute(\"href\")\n",
    "    img = outer.find_element_by_css_selector(\"img\").get_attribute(\"data-original\")\n",
    "    print(img)\n",
    "    datas.append({\n",
    "        \"title\" : title,\n",
    "        \"price\" : price,\n",
    "        \"sale\" : sale,\n",
    "        \"link\" : link,\n",
    "        \"img\" : img\n",
    "    })\n",
    "    print(\"#8. idx : {}, title: {}\".format(idx, title))\n",
    "driver.quit()\n",
    "df = pd.DataFrame(datas)\n",
    "df.to_excel(\"./musinsa/musinsa.xlsx\", encoding = \"utf-8\")\n",
    "print(\"#9. crawling Done! driver quit & excel save\")\n",
    "\n",
    "\n",
    "print(\"10. img download\")\n",
    "# 이미지 다운로드\n",
    "for idx, rows in df.iterrows():\n",
    "    thumb_link = rows[\"img\"]\n",
    "    response = requests.get(thumb_link)\n",
    "    name = str(idx) + \"_\" + rows[\"title\"]\n",
    "    with open (\"./musinsa/{}.png\" .format(name), \"wb\") as f: #write binary\n",
    "        f.write(response.content)\n",
    "print(\"#11. img download done!\")\n",
    "print(\"#12. Good Job!\")"
   ]
  }
 ],
 "metadata": {
  "kernelspec": {
   "display_name": "Python 3",
   "language": "python",
   "name": "python3"
  },
  "language_info": {
   "codemirror_mode": {
    "name": "ipython",
    "version": 3
   },
   "file_extension": ".py",
   "mimetype": "text/x-python",
   "name": "python",
   "nbconvert_exporter": "python",
   "pygments_lexer": "ipython3",
   "version": "3.7.3"
  }
 },
 "nbformat": 4,
 "nbformat_minor": 4
}
