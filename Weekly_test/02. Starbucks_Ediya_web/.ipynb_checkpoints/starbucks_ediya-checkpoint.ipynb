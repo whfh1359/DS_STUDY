{
 "cells": [
  {
   "cell_type": "code",
   "execution_count": 107,
   "metadata": {},
   "outputs": [
    {
     "name": "stdout",
     "output_type": "stream",
     "text": [
      "매장 수 :  566\n"
     ]
    }
   ],
   "source": [
    "from bs4 import BeautifulSoup \n",
    "from selenium import webdriver \n",
    "import time \n",
    "\n",
    "driver = webdriver.Chrome('driver/chromedriver') \n",
    "driver.get('https://www.starbucks.co.kr/store/store_map.do?disp=locale') \n",
    "time.sleep(3) \n",
    "\n",
    "loca = driver.find_element_by_class_name('loca_search') \n",
    "loca.click() \n",
    "\n",
    "time.sleep(3) \n",
    "sido = driver.find_element_by_class_name('sido_arae_box') \n",
    "li=sido.find_elements_by_tag_name('li')\n",
    "li[0].click() \n",
    "time.sleep(3) \n",
    "    \n",
    "store_name =[]\n",
    "store_address = []\n",
    "\n",
    "gugun = driver.find_element_by_class_name('gugun_arae_box') \n",
    "li=gugun.find_elements_by_tag_name('li') \n",
    "li[0].click()\n",
    "\n",
    "time.sleep(3) \n",
    "source=driver.page_source \n",
    "bs=BeautifulSoup(source,'lxml') \n",
    "entire=bs.find('ul', class_='quickSearchResultBoxSidoGugun')\n",
    "\n",
    "starbucks_list=entire.find_all('li') \n",
    "\n",
    "print(\"매장 수 : \", len(starbucks_list)) \n",
    "for stores in starbucks_list: \n",
    "    store_name.append(stores.find('strong').text)\n",
    "    store_address.append(stores.find('p').text[:-9])"
   ]
  },
  {
   "cell_type": "code",
   "execution_count": 99,
   "metadata": {},
   "outputs": [],
   "source": [
    "import pandas as pd"
   ]
  },
  {
   "cell_type": "code",
   "execution_count": 108,
   "metadata": {},
   "outputs": [],
   "source": [
    "starbucks = pd.DataFrame({\n",
    "    \"매장명\" : store_name,\n",
    "    \"주소\" : store_address\n",
    "})"
   ]
  },
  {
   "cell_type": "code",
   "execution_count": 119,
   "metadata": {},
   "outputs": [],
   "source": [
    "gu = []\n",
    "for n in starbucks[\"주소\"]:\n",
    "    gu.append(n.split()[1])\n",
    "starbucks[\"구\"] = gu"
   ]
  },
  {
   "cell_type": "code",
   "execution_count": 121,
   "metadata": {},
   "outputs": [
    {
     "data": {
      "text/plain": [
       "array(['강남구', '강북구', '강서구', '관악구', '광진구', '금천구', '노원구', '도봉구', '동작구',\n",
       "       '마포구', '서대문구', '서초구', '성북구', '송파구', '양천구', '영등포구', '은평구', '종로구',\n",
       "       '중구', '강동구', '구로구', '동대문구', '성동구', '용산구', '중랑구'], dtype=object)"
      ]
     },
     "execution_count": 121,
     "metadata": {},
     "output_type": "execute_result"
    }
   ],
   "source": [
    "starbucks[\"구\"].unique()"
   ]
  },
  {
   "cell_type": "code",
   "execution_count": 122,
   "metadata": {},
   "outputs": [
    {
     "data": {
      "text/html": [
       "<div>\n",
       "<style scoped>\n",
       "    .dataframe tbody tr th:only-of-type {\n",
       "        vertical-align: middle;\n",
       "    }\n",
       "\n",
       "    .dataframe tbody tr th {\n",
       "        vertical-align: top;\n",
       "    }\n",
       "\n",
       "    .dataframe thead th {\n",
       "        text-align: right;\n",
       "    }\n",
       "</style>\n",
       "<table border=\"1\" class=\"dataframe\">\n",
       "  <thead>\n",
       "    <tr style=\"text-align: right;\">\n",
       "      <th></th>\n",
       "      <th>매장명</th>\n",
       "      <th>주소</th>\n",
       "      <th>구</th>\n",
       "    </tr>\n",
       "  </thead>\n",
       "  <tbody>\n",
       "    <tr>\n",
       "      <th>0</th>\n",
       "      <td>역삼아레나빌딩</td>\n",
       "      <td>서울특별시 강남구 언주로 425 (역삼동)</td>\n",
       "      <td>강남구</td>\n",
       "    </tr>\n",
       "    <tr>\n",
       "      <th>1</th>\n",
       "      <td>논현역사거리</td>\n",
       "      <td>서울특별시 강남구 강남대로 538 (논현동)</td>\n",
       "      <td>강남구</td>\n",
       "    </tr>\n",
       "    <tr>\n",
       "      <th>2</th>\n",
       "      <td>신사역성일빌딩</td>\n",
       "      <td>서울특별시 강남구 강남대로 584 (논현동)</td>\n",
       "      <td>강남구</td>\n",
       "    </tr>\n",
       "    <tr>\n",
       "      <th>3</th>\n",
       "      <td>국기원사거리</td>\n",
       "      <td>서울특별시 강남구 테헤란로 125 (역삼동)</td>\n",
       "      <td>강남구</td>\n",
       "    </tr>\n",
       "    <tr>\n",
       "      <th>4</th>\n",
       "      <td>스탈릿대치R</td>\n",
       "      <td>서울특별시 강남구 남부순환로 2947 (대치동)</td>\n",
       "      <td>강남구</td>\n",
       "    </tr>\n",
       "    <tr>\n",
       "      <th>...</th>\n",
       "      <td>...</td>\n",
       "      <td>...</td>\n",
       "      <td>...</td>\n",
       "    </tr>\n",
       "    <tr>\n",
       "      <th>561</th>\n",
       "      <td>사가정역</td>\n",
       "      <td>서울특별시 중랑구 면목로 310</td>\n",
       "      <td>중랑구</td>\n",
       "    </tr>\n",
       "    <tr>\n",
       "      <th>562</th>\n",
       "      <td>상봉역</td>\n",
       "      <td>서울특별시 중랑구 망우로 307 (상봉동)</td>\n",
       "      <td>중랑구</td>\n",
       "    </tr>\n",
       "    <tr>\n",
       "      <th>563</th>\n",
       "      <td>묵동이마트</td>\n",
       "      <td>서울특별시 중랑구 동일로 932 (묵동, 묵동자이아파트) (묵동이마트 B1층)</td>\n",
       "      <td>중랑구</td>\n",
       "    </tr>\n",
       "    <tr>\n",
       "      <th>564</th>\n",
       "      <td>묵동</td>\n",
       "      <td>서울특별시 중랑구 동일로 952</td>\n",
       "      <td>중랑구</td>\n",
       "    </tr>\n",
       "    <tr>\n",
       "      <th>565</th>\n",
       "      <td>중화역</td>\n",
       "      <td>서울특별시 중랑구 봉화산로 35 1,2층</td>\n",
       "      <td>중랑구</td>\n",
       "    </tr>\n",
       "  </tbody>\n",
       "</table>\n",
       "<p>566 rows × 3 columns</p>\n",
       "</div>"
      ],
      "text/plain": [
       "           매장명                                           주소    구\n",
       "0    역삼아레나빌딩                        서울특별시 강남구 언주로 425 (역삼동)  강남구\n",
       "1     논현역사거리                       서울특별시 강남구 강남대로 538 (논현동)  강남구\n",
       "2    신사역성일빌딩                       서울특별시 강남구 강남대로 584 (논현동)  강남구\n",
       "3     국기원사거리                       서울특별시 강남구 테헤란로 125 (역삼동)  강남구\n",
       "4     스탈릿대치R                     서울특별시 강남구 남부순환로 2947 (대치동)  강남구\n",
       "..         ...                                          ...  ...\n",
       "561     사가정역                              서울특별시 중랑구 면목로 310  중랑구\n",
       "562      상봉역                        서울특별시 중랑구 망우로 307 (상봉동)  중랑구\n",
       "563    묵동이마트    서울특별시 중랑구 동일로 932 (묵동, 묵동자이아파트) (묵동이마트 B1층)  중랑구\n",
       "564       묵동                             서울특별시 중랑구 동일로 952   중랑구\n",
       "565      중화역                         서울특별시 중랑구 봉화산로 35 1,2층  중랑구\n",
       "\n",
       "[566 rows x 3 columns]"
      ]
     },
     "execution_count": 122,
     "metadata": {},
     "output_type": "execute_result"
    }
   ],
   "source": [
    "starbucks"
   ]
  },
  {
   "cell_type": "code",
   "execution_count": 137,
   "metadata": {},
   "outputs": [
    {
     "data": {
      "text/plain": [
       "array(['강남구', '강북구', '강서구', '관악구', '광진구', '금천구', '노원구', '도봉구', '동작구',\n",
       "       '마포구', '서대문구', '서초구', '성북구', '송파구', '양천구', '영등포구', '은평구', '종로구',\n",
       "       '중구', '강동구', '구로구', '동대문구', '성동구', '용산구', '중랑구'], dtype=object)"
      ]
     },
     "execution_count": 137,
     "metadata": {},
     "output_type": "execute_result"
    }
   ],
   "source": [
    "gu_unique = starbucks[\"구\"].unique()\n",
    "gu_unique"
   ]
  },
  {
   "cell_type": "code",
   "execution_count": 142,
   "metadata": {},
   "outputs": [],
   "source": [
    "driver = webdriver.Chrome(\"driver/chromedriver\")\n",
    "driver.get('https://www.ediya.com/contents/find_store.html#c')"
   ]
  },
  {
   "cell_type": "code",
   "execution_count": 143,
   "metadata": {},
   "outputs": [],
   "source": [
    "some_tag = driver.find_element_by_id('''storename''')\n",
    "some_tag.clear()\n",
    "some_tag.send_keys('성동구')"
   ]
  },
  {
   "cell_type": "code",
   "execution_count": 140,
   "metadata": {},
   "outputs": [
    {
     "data": {
      "application/vnd.jupyter.widget-view+json": {
       "model_id": "fe52604a7910498897d8e4527347f341",
       "version_major": 2,
       "version_minor": 0
      },
      "text/plain": [
       "HBox(children=(IntProgress(value=0, max=25), HTML(value='')))"
      ]
     },
     "metadata": {},
     "output_type": "display_data"
    },
    {
     "name": "stdout",
     "output_type": "stream",
     "text": [
      "\n"
     ]
    }
   ],
   "source": [
    "import time\n",
    "from tqdm import tqdm_notebook\n",
    "\n",
    "Ediya_store_name = []\n",
    "Ediya_store_address = []\n",
    "\n",
    "for gu in tqdm_notebook(gu_unique):\n",
    "    some_tag = driver.find_element_by_id('''storename''')\n",
    "    some_tag.clear()\n",
    "    some_tag.send_keys(gu)\n",
    "    time.sleep(3)\n",
    "\n",
    "    Ediya_store_name.append(driver.find_element_by_xpath('//*[@id=\"placesList\"]/li/a/dl/dt'))\n",
    "    Ediya_store_address.append(driver.find_element_by_xpath('//*[@id=\"placesList\"]/li/a/dl/dd'))\n",
    "    time.sleep(3)\n"
   ]
  },
  {
   "cell_type": "code",
   "execution_count": null,
   "metadata": {},
   "outputs": [],
   "source": []
  },
  {
   "cell_type": "code",
   "execution_count": null,
   "metadata": {},
   "outputs": [],
   "source": []
  }
 ],
 "metadata": {
  "kernelspec": {
   "display_name": "Python 3",
   "language": "python",
   "name": "python3"
  },
  "language_info": {
   "codemirror_mode": {
    "name": "ipython",
    "version": 3
   },
   "file_extension": ".py",
   "mimetype": "text/x-python",
   "name": "python",
   "nbconvert_exporter": "python",
   "pygments_lexer": "ipython3",
   "version": "3.7.3"
  }
 },
 "nbformat": 4,
 "nbformat_minor": 4
}
