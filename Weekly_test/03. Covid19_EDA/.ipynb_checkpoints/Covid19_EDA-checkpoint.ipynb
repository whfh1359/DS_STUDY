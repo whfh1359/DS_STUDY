{
 "cells": [
  {
   "cell_type": "code",
   "execution_count": 1,
   "metadata": {},
   "outputs": [],
   "source": [
    "import numpy as np \n",
    "import matplotlib.pyplot as plt \n",
    "import matplotlib.colors as mcolors\n",
    "import pandas as pd \n",
    "import random\n",
    "import math\n",
    "import time\n",
    "plt.style.use('fivethirtyeight')\n",
    "%matplotlib inline"
   ]
  },
  {
   "cell_type": "markdown",
   "metadata": {},
   "source": [
    "# 문제 1"
   ]
  },
  {
   "cell_type": "code",
   "execution_count": null,
   "metadata": {},
   "outputs": [],
   "source": [
    "\n",
    "confirmed_df = pd.read_csv('/content/drive/MyDrive/zerobase/COVID-19/csse_covid_19_data/csse_covid_19_time_series/time_series_covid19_confirmed_global.csv')\n",
    "deaths_df = pd.read_csv('/content/drive/MyDrive/zerobase/COVID-19/csse_covid_19_data/csse_covid_19_time_series/time_series_covid19_deaths_global.csv')\n",
    "recoveries_df = pd.read_csv('/content/drive/MyDrive/zerobase/COVID-19/csse_covid_19_data/csse_covid_19_time_series/time_series_covid19_recovered_global.csv')\n",
    "latest_data = pd.read_csv('/content/drive/MyDrive/zerobase/COVID-19/csse_covid_19_data/csse_covid_19_daily_reports/10-12-2021.csv')\n",
    "us_medical_data = pd.read_csv('/content/drive/MyDrive/zerobase/COVID-19/csse_covid_19_data/csse_covid_19_daily_reports_us/10-12-2021.csv')\n",
    "apple_mobility = pd.read_csv('/content/applemobilitytrends-2021-10-11.csv')"
   ]
  },
  {
   "cell_type": "code",
   "execution_count": null,
   "metadata": {},
   "outputs": [],
   "source": [
    "confirmed_df[\"Country/Region\"].unique()"
   ]
  },
  {
   "cell_type": "markdown",
   "metadata": {},
   "source": [
    "# 문제 2"
   ]
  },
  {
   "cell_type": "code",
   "execution_count": null,
   "metadata": {},
   "outputs": [],
   "source": [
    "total_data = confirmed_df[confirmed_df[\"Country/Region\"].str.contains(\"Korea, South|US|Japan|United Kingdom|France\")]\n",
    "total_data[\"Country/Region\"].unique()"
   ]
  },
  {
   "cell_type": "code",
   "execution_count": null,
   "metadata": {},
   "outputs": [],
   "source": [
    "total_data.head()"
   ]
  },
  {
   "cell_type": "code",
   "execution_count": null,
   "metadata": {},
   "outputs": [],
   "source": [
    "cols = confirmed_df.keys()\n",
    "cols"
   ]
  },
  {
   "cell_type": "code",
   "execution_count": null,
   "metadata": {},
   "outputs": [],
   "source": [
    "confirmed = confirmed_df.loc[:, cols[4]:cols[-1]]\n",
    "deaths = deaths_df.loc[:, cols[4]:cols[-1]]\n",
    "recoveries = recoveries_df.loc[:, cols[4]:cols[-1]]"
   ]
  },
  {
   "cell_type": "code",
   "execution_count": null,
   "metadata": {},
   "outputs": [],
   "source": [
    "dates = confirmed.keys()\n",
    "total_cases = []\n",
    "total_deaths = [] \n",
    "total_recovered = [] \n",
    "total_active = [] \n",
    "mortality_rate = []\n",
    "recovery_rate = []\n",
    "\n",
    "for i in dates:\n",
    "    confirmed_sum = confirmed[i].sum()\n",
    "    death_sum = deaths[i].sum()\n",
    "    recovered_sum = recoveries[i].sum()\n",
    "\n",
    "     # confirmed, deaths, recovered, and active\n",
    "    total_cases.append(confirmed_sum)\n",
    "    total_deaths.append(death_sum)\n",
    "    total_recovered.append(recovered_sum)\n",
    "    total_active.append(confirmed_sum-death_sum-recovered_sum)\n",
    "    \n",
    "    # calculate rates\n",
    "    mortality_rate.append(death_sum/confirmed_sum)\n",
    "    recovery_rate.append(recovered_sum/confirmed_sum)\n",
    "    "
   ]
  },
  {
   "cell_type": "code",
   "execution_count": null,
   "metadata": {},
   "outputs": [],
   "source": [
    "total_cases = np.array(total_cases).reshape(-1, 1)\n",
    "total_deaths = np.array(total_deaths).reshape(-1, 1)\n",
    "total_recovered = np.array(total_recovered).reshape(-1, 1)"
   ]
  },
  {
   "cell_type": "code",
   "execution_count": null,
   "metadata": {},
   "outputs": [],
   "source": [
    "# Getting daily increases "
   ]
  },
  {
   "cell_type": "code",
   "execution_count": null,
   "metadata": {},
   "outputs": [],
   "source": [
    "def daily_increase(data):\n",
    "    d = [] \n",
    "    for i in range(len(data)):\n",
    "        if i == 0:\n",
    "            d.append(data[0])\n",
    "        else:\n",
    "            d.append(data[i]-data[i-1])\n",
    "    return d "
   ]
  },
  {
   "cell_type": "code",
   "execution_count": null,
   "metadata": {},
   "outputs": [],
   "source": [
    "# confirmed cases\n",
    "world_daily_increase = daily_increase(total_cases)\n",
    "# deaths\n",
    "world_daily_death = daily_increase(total_deaths)\n",
    "# recoveries\n",
    "world_daily_recovery = daily_increase(total_recovered)\n",
    "\n"
   ]
  },
  {
   "cell_type": "code",
   "execution_count": null,
   "metadata": {},
   "outputs": [],
   "source": [
    "plt.figure(figsize=(16, 10))\n",
    "plt.plot(dates, total_cases)\n",
    "#plt.plot(dates, world_confirmed_avg, linestyle='dashed', color='orange')\n",
    "plt.title('# of Coronavirus Cases Over Time', size=30)\n",
    "plt.xlabel('Days Since 1/22/2020', size=30)\n",
    "plt.ylabel('# of Cases', size=30)\n",
    "plt.legend(['5 Country Coronavirus Cases'], prop={'size': 20})\n",
    "plt.xticks(size=20)\n",
    "plt.yticks(size=20)\n",
    "plt.show()\n",
    "\n",
    "plt.figure(figsize=(16, 10))\n",
    "plt.bar(dates, world_daily_increase)\n",
    "#plt.plot(dates, world_daily_increase_avg, color='orange', linestyle='dashed')\n",
    "plt.title('World Daily Increases in Confirmed Cases', size=30)\n",
    "plt.xlabel('Days Since 1/22/2020', size=30)\n",
    "plt.ylabel('# of Cases', size=30)\n",
    "#plt.legend(['Moving Average {} Days'.format(window), 'World Daily Increase in COVID-19 Cases'], prop={'size': 20})\n",
    "plt.xticks(size=20)\n",
    "plt.yticks(size=20)\n",
    "plt.show()\n"
   ]
  },
  {
   "cell_type": "markdown",
   "metadata": {},
   "source": [
    "# 문제 3"
   ]
  },
  {
   "cell_type": "code",
   "execution_count": null,
   "metadata": {},
   "outputs": [],
   "source": [
    "def country_plot(x, y1, y2, y3,country):\n",
    "    # window is set as 14 in in the beginning of the notebook \n",
    "    window = 14\n",
    "    plt.figure(figsize=(16, 10))\n",
    "    plt.plot(x, y1)\n",
    "    plt.legend(['{} Confirmed Cases'.format(country)], prop={'size': 20})\n",
    "    plt.title('{} Confirmed Cases'.format(country), size=30)\n",
    "    plt.xlabel('Days Since 1/22/2020', size=30)\n",
    "    plt.ylabel('# of Cases', size=30)\n",
    "    plt.xticks(size=20)\n",
    "    plt.yticks(size=20)\n",
    "    plt.show()\n",
    "\n",
    "    plt.figure(figsize=(16, 10))\n",
    "    plt.bar(x, y2)\n",
    "    plt.legend(['{} Daily Increase in Confirmed Cases'.format(country)], prop={'size': 20})\n",
    "    plt.title('{} Daily Increases in Confirmed Cases'.format(country), size=30)\n",
    "    plt.xlabel('Days Since 1/22/2020', size=30)\n",
    "    plt.ylabel('# of Cases', size=30)\n",
    "    plt.xticks(size=20)\n",
    "    plt.yticks(size=20)\n",
    "    plt.show()\n",
    "\n",
    "    plt.figure(figsize=(16, 10))\n",
    "    plt.bar(x, y3)\n",
    "    plt.legend(['{} Daily Increase in Confirmed Deaths'.format(country)], prop={'size': 20})\n",
    "    plt.title('{} Daily Increases in Deaths'.format(country), size=30)\n",
    "    plt.xlabel('Days Since 1/22/2020', size=30)\n",
    "    plt.ylabel('# of Cases', size=30)\n",
    "    plt.xticks(size=20)\n",
    "    plt.yticks(size=20)\n",
    "    plt.show()\n",
    "\n",
    " \n",
    "def get_country_info(country_name):\n",
    "    country_cases = []\n",
    "    country_deaths = []\n",
    "    \n",
    "    for i in dates:\n",
    "        country_cases.append(confirmed_df[confirmed_df['Country/Region']==country_name][i].sum())\n",
    "        country_deaths.append(deaths_df[deaths_df['Country/Region']==country_name][i].sum())\n",
    "    return (country_cases, country_deaths)\n",
    "\n",
    "def country_visualizations(country_name):\n",
    "    country_info = get_country_info(country_name)\n",
    "    country_cases = country_info[0]\n",
    "    country_deaths = country_info[1]\n",
    "    \n",
    "    country_daily_increase = daily_increase(country_cases)\n",
    "    country_daily_death = daily_increase(country_deaths)\n",
    "    \n",
    "    country_plot(dates, country_cases, country_daily_increase, country_daily_death, country_name)"
   ]
  },
  {
   "cell_type": "code",
   "execution_count": null,
   "metadata": {},
   "outputs": [],
   "source": [
    "countries = ['US','Korea, South','Japan','United Kingdom','France'] \n",
    "for country in countries:\n",
    "    country_visualizations(country)"
   ]
  },
  {
   "cell_type": "markdown",
   "metadata": {},
   "source": [
    "# 문제 4"
   ]
  },
  {
   "cell_type": "code",
   "execution_count": null,
   "metadata": {},
   "outputs": [],
   "source": [
    "def country_plot(x, y1, y2, y3,country, num):\n",
    "    # window is set as 14 in in the beginning of the notebook \n",
    "    window = 14\n",
    "    plt.figure(figsize=(16, 10))\n",
    "    plt.plot(x, y1)\n",
    "    plt.legend(['{} Confirmed Cases'.format(country)], prop={'size': 20})\n",
    "    plt.title('{} Confirmed Cases'.format(country), size=30)\n",
    "    plt.xlabel('Days Since 1/22/2020', size=30)\n",
    "    plt.ylabel('# of Cases', size=30)\n",
    "    plt.xticks(size=20)\n",
    "    plt.yticks(size=20)\n",
    "    plt.show()\n",
    "\n",
    "    plt.figure(figsize=(16, 10))\n",
    "    plt.bar(x, y2)\n",
    "    plt.legend(['{} Daily Increase in Confirmed Cases'.format(country)], prop={'size': 20})\n",
    "    plt.title('{} Daily Increases in Confirmed Cases'.format(country), size=30)\n",
    "    plt.xlabel('Days Since 1/22/2020', size=30)\n",
    "    plt.ylabel('# of Cases', size=30)\n",
    "    plt.xticks(size=20)\n",
    "    plt.yticks(size=20)\n",
    "    plt.show()\n",
    "\n",
    "    plt.figure(figsize=(16, 10))\n",
    "    plt.bar(x, y3)\n",
    "    plt.legend(['{} Daily Increase in Confirmed Deaths'.format(country)], prop={'size': 20})\n",
    "    plt.title('{} Daily Increases in Deaths'.format(country), size=30)\n",
    "    plt.xlabel('Days Since 1/22/2020', size=30)\n",
    "    plt.ylabel('# of Cases', size=30)\n",
    "    plt.xticks(size=20)\n",
    "    plt.yticks(size=20)\n",
    "    plt.show()\n",
    "\n",
    " \n",
    "def get_country_info(country_name, country_num):\n",
    "    country_cases = []\n",
    "    country_deaths = []\n",
    "    \n",
    "    for i in dates:\n",
    "        country_cases.append(confirmed_df[confirmed_df['Country/Region']==country_name][i].sum() / country_num)\n",
    "        country_deaths.append(deaths_df[deaths_df['Country/Region']==country_name][i].sum() / country_num)\n",
    "    return (country_cases, country_deaths)\n",
    "\n",
    "def country_visualizations(country_name, country_num):\n",
    "    country_info = get_country_info(country_name,country_num)\n",
    "    country_cases = country_info[0]\n",
    "    country_deaths = country_info[1]\n",
    "    \n",
    "    country_daily_increase = daily_increase(country_cases)\n",
    "    country_daily_death = daily_increase(country_deaths)\n",
    "    \n",
    "    country_plot(dates, country_cases, country_daily_increase, country_daily_death, country_name, country_num)"
   ]
  },
  {
   "cell_type": "code",
   "execution_count": null,
   "metadata": {},
   "outputs": [],
   "source": [
    "countries = {\"US\":329500000,'Korea, South':51780000,'Japan':125800000,'United Kingdom':67220000,'France':67390000}\n",
    "for country, num in countries.items():\n",
    "    country_visualizations(country, num)"
   ]
  },
  {
   "cell_type": "markdown",
   "metadata": {},
   "source": [
    "# 문제 5"
   ]
  },
  {
   "cell_type": "code",
   "execution_count": null,
   "metadata": {},
   "outputs": [],
   "source": [
    "#print(type(world_daily_increase))\n",
    "for i in range(len(world_daily_increase)):\n",
    "  if world_daily_increase[i]>1400000:\n",
    "    print(i)\n",
    "print(len(world_daily_increase))"
   ]
  },
  {
   "cell_type": "code",
   "execution_count": null,
   "metadata": {},
   "outputs": [],
   "source": [
    "total_data.columns #총 634개 중에서 앞의 4행 빼고 계산한 것이므로 323번째 해당하는 날짜는 컬럼 327번째 있다."
   ]
  },
  {
   "cell_type": "code",
   "execution_count": null,
   "metadata": {},
   "outputs": [],
   "source": [
    "total_data.columns[327]"
   ]
  },
  {
   "cell_type": "markdown",
   "metadata": {},
   "source": [
    "#### 1) 12/10/20에 5개 총 나라의 일일증가율의 합이 가장 높았다."
   ]
  },
  {
   "cell_type": "markdown",
   "metadata": {},
   "source": [
    "#### 2) daily_increase 비율을 보면 일본을 제외한 나머지 국가의 그래프 추세는 비슷하다"
   ]
  },
  {
   "cell_type": "markdown",
   "metadata": {},
   "source": [
    "# 문제 6"
   ]
  },
  {
   "cell_type": "markdown",
   "metadata": {},
   "source": [
    "#### - France는 Daily increase와 confirmed된 수가 줄어들고 있다. 하지만 나머지 네개의 나라는 daily increase도 다시 감소추세에 있다.\n",
    "#### - 한국 역시 다른 나라처럼 daily increase 비율을 봤을 때 감소하는 양상이고 사망률도 감소하는 추세이다."
   ]
  },
  {
   "cell_type": "code",
   "execution_count": null,
   "metadata": {},
   "outputs": [],
   "source": []
  }
 ],
 "metadata": {
  "kernelspec": {
   "display_name": "Python 3",
   "language": "python",
   "name": "python3"
  },
  "language_info": {
   "codemirror_mode": {
    "name": "ipython",
    "version": 3
   },
   "file_extension": ".py",
   "mimetype": "text/x-python",
   "name": "python",
   "nbconvert_exporter": "python",
   "pygments_lexer": "ipython3",
   "version": "3.7.3"
  }
 },
 "nbformat": 4,
 "nbformat_minor": 4
}
